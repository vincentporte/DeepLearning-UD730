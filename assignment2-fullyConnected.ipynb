{
 "cells": [
  {
   "cell_type": "code",
   "execution_count": 1,
   "metadata": {
    "collapsed": false
   },
   "outputs": [],
   "source": [
    "#UDACITY UD730 - assignement 2 fully connected network\n",
    "#https://github.com/tensorflow/tensorflow/blob/master/tensorflow/examples/udacity/2_fullyconnected.ipynb\n",
    "#The goal of this assignment is to progressively train deeper and more accurate models using TensorFlow.\n",
    "\n",
    "from __future__ import print_function\n",
    "import numpy as np\n",
    "import tensorflow as tf\n",
    "from six.moves import cPickle as pickle\n",
    "from six.moves import range"
   ]
  },
  {
   "cell_type": "code",
   "execution_count": 2,
   "metadata": {
    "collapsed": false
   },
   "outputs": [
    {
     "name": "stdout",
     "output_type": "stream",
     "text": [
      "Training set (200000, 28, 28) (200000,)\n",
      "Validation set (10000, 28, 28) (10000,)\n",
      "Test set (10000, 28, 28) (10000,)\n"
     ]
    }
   ],
   "source": [
    "pickle_file = 'notMNIST.pickle'\n",
    "\n",
    "with open(pickle_file, 'rb') as f:\n",
    "  save = pickle.load(f)\n",
    "  train_dataset = save['train_dataset']\n",
    "  train_labels = save['train_labels']\n",
    "  valid_dataset = save['valid_dataset']\n",
    "  valid_labels = save['valid_labels']\n",
    "  test_dataset = save['test_dataset']\n",
    "  test_labels = save['test_labels']\n",
    "  del save  # hint to help gc free up memory\n",
    "  print('Training set', train_dataset.shape, train_labels.shape)\n",
    "  print('Validation set', valid_dataset.shape, valid_labels.shape)\n",
    "  print('Test set', test_dataset.shape, test_labels.shape)"
   ]
  },
  {
   "cell_type": "code",
   "execution_count": 3,
   "metadata": {
    "collapsed": false
   },
   "outputs": [
    {
     "name": "stdout",
     "output_type": "stream",
     "text": [
      "Training set (200000, 784) (200000, 10)\n",
      "Validation set (10000, 784) (10000, 10)\n",
      "Test set (10000, 784) (10000, 10)\n"
     ]
    }
   ],
   "source": [
    "\"\"\"Reformat into a shape that's more adapted to the models we're going to train:\n",
    "- data as a flat matrix,\n",
    "- labels as float 1-hot encodings.\n",
    "\"\"\"\n",
    "image_size = 28\n",
    "num_labels = 10\n",
    "\n",
    "def reformat(dataset, labels):\n",
    "  dataset = dataset.reshape((-1, image_size * image_size)).astype(np.float32)\n",
    "  # Map 0 to [1.0, 0.0, 0.0 ...], 1 to [0.0, 1.0, 0.0 ...]\n",
    "  labels = (np.arange(num_labels) == labels[:,None]).astype(np.float32)\n",
    "  return dataset, labels\n",
    "train_dataset, train_labels = reformat(train_dataset, train_labels)\n",
    "valid_dataset, valid_labels = reformat(valid_dataset, valid_labels)\n",
    "test_dataset, test_labels = reformat(test_dataset, test_labels)\n",
    "print('Training set', train_dataset.shape, train_labels.shape)\n",
    "print('Validation set', valid_dataset.shape, valid_labels.shape)\n",
    "print('Test set', test_dataset.shape, test_labels.shape)"
   ]
  },
  {
   "cell_type": "code",
   "execution_count": 4,
   "metadata": {
    "collapsed": true
   },
   "outputs": [],
   "source": [
    "\"\"\"Let's load all the data into TensorFlow and build the computation graph corresponding to our training:\n",
    "\"\"\"\n",
    "# With gradient descent training, even this much data is prohibitive.\n",
    "# Subset the training data for faster turnaround.\n",
    "train_subset = 10000\n",
    "\n",
    "graph = tf.Graph()\n",
    "with graph.as_default():\n",
    "\n",
    "  # Input data.\n",
    "  # Load the training, validation and test data into constants that are\n",
    "  # attached to the graph.\n",
    "  tf_train_dataset = tf.constant(train_dataset[:train_subset, :])\n",
    "  tf_train_labels = tf.constant(train_labels[:train_subset])\n",
    "  tf_valid_dataset = tf.constant(valid_dataset)\n",
    "  tf_test_dataset = tf.constant(test_dataset)\n",
    "  \n",
    "  # Variables.\n",
    "  # These are the parameters that we are going to be training. The weight\n",
    "  # matrix will be initialized using random values following a (truncated)\n",
    "  # normal distribution. The biases get initialized to zero.\n",
    "  weights = tf.Variable(\n",
    "    tf.truncated_normal([image_size * image_size, num_labels]))\n",
    "  biases = tf.Variable(tf.zeros([num_labels]))\n",
    "  \n",
    "  # Training computation.\n",
    "  # We multiply the inputs with the weight matrix, and add biases. We compute\n",
    "  # the softmax and cross-entropy (it's one operation in TensorFlow, because\n",
    "  # it's very common, and it can be optimized). We take the average of this\n",
    "  # cross-entropy across all training examples: that's our loss.\n",
    "  logits = tf.matmul(tf_train_dataset, weights) + biases\n",
    "  loss = tf.reduce_mean(\n",
    "    tf.nn.softmax_cross_entropy_with_logits(labels=tf_train_labels, logits=logits))\n",
    "  \n",
    "  # Optimizer.\n",
    "  # We are going to find the minimum of this loss using gradient descent.\n",
    "  optimizer = tf.train.GradientDescentOptimizer(0.5).minimize(loss)\n",
    "  \n",
    "  # Predictions for the training, validation, and test data.\n",
    "  # These are not part of training, but merely here so that we can report\n",
    "  # accuracy figures as we train.\n",
    "  train_prediction = tf.nn.softmax(logits)\n",
    "  valid_prediction = tf.nn.softmax(\n",
    "    tf.matmul(tf_valid_dataset, weights) + biases)\n",
    "  test_prediction = tf.nn.softmax(tf.matmul(tf_test_dataset, weights) + biases)"
   ]
  },
  {
   "cell_type": "code",
   "execution_count": 5,
   "metadata": {
    "collapsed": false
   },
   "outputs": [
    {
     "name": "stdout",
     "output_type": "stream",
     "text": [
      "Initialized\n",
      "Loss at step 0: 17.218233\n",
      "Training accuracy: 10.9%\n",
      "Validation accuracy: 14.0%\n",
      "Loss at step 100: 2.230192\n",
      "Training accuracy: 72.7%\n",
      "Validation accuracy: 71.2%\n",
      "Loss at step 200: 1.805541\n",
      "Training accuracy: 75.4%\n",
      "Validation accuracy: 73.4%\n",
      "Loss at step 300: 1.574088\n",
      "Training accuracy: 76.7%\n",
      "Validation accuracy: 74.1%\n",
      "Loss at step 400: 1.417489\n",
      "Training accuracy: 77.3%\n",
      "Validation accuracy: 74.4%\n",
      "Loss at step 500: 1.301370\n",
      "Training accuracy: 78.1%\n",
      "Validation accuracy: 74.6%\n",
      "Loss at step 600: 1.210453\n",
      "Training accuracy: 78.6%\n",
      "Validation accuracy: 74.8%\n",
      "Loss at step 700: 1.136684\n",
      "Training accuracy: 79.0%\n",
      "Validation accuracy: 75.0%\n",
      "Loss at step 800: 1.075145\n",
      "Training accuracy: 79.4%\n",
      "Validation accuracy: 75.0%\n",
      "Test accuracy: 82.7%\n"
     ]
    }
   ],
   "source": [
    "\"\"\"Let's run this computation and iterate\n",
    "\"\"\"\n",
    "num_steps = 801\n",
    "\n",
    "def accuracy(predictions, labels):\n",
    "  return (100.0 * np.sum(np.argmax(predictions, 1) == np.argmax(labels, 1))\n",
    "          / predictions.shape[0])\n",
    "\n",
    "with tf.Session(graph=graph) as session:\n",
    "  # This is a one-time operation which ensures the parameters get initialized as\n",
    "  # we described in the graph: random weights for the matrix, zeros for the\n",
    "  # biases. \n",
    "  tf.global_variables_initializer().run()\n",
    "  print('Initialized')\n",
    "  for step in range(num_steps):\n",
    "    # Run the computations. We tell .run() that we want to run the optimizer,\n",
    "    # and get the loss value and the training predictions returned as numpy\n",
    "    # arrays.\n",
    "    _, l, predictions = session.run([optimizer, loss, train_prediction])\n",
    "    if (step % 100 == 0):\n",
    "      print('Loss at step %d: %f' % (step, l))\n",
    "      print('Training accuracy: %.1f%%' % accuracy(\n",
    "        predictions, train_labels[:train_subset, :]))\n",
    "      # Calling .eval() on valid_prediction is basically like calling run(), but\n",
    "      # just to get that one numpy array. Note that it recomputes all its graph\n",
    "      # dependencies.\n",
    "      print('Validation accuracy: %.1f%%' % accuracy(\n",
    "        valid_prediction.eval(), valid_labels))\n",
    "  print('Test accuracy: %.1f%%' % accuracy(test_prediction.eval(), test_labels))"
   ]
  },
  {
   "cell_type": "code",
   "execution_count": 6,
   "metadata": {
    "collapsed": true
   },
   "outputs": [],
   "source": [
    "\"\"\"Let's now switch to stochastic gradient descent training instead, which is much faster.\n",
    "The graph will be similar, except that instead of holding all the training data into a constant node, \n",
    "we create a Placeholder node which will be fed actual data at every call of session.run().\n",
    "\"\"\"\n",
    "batch_size = 128\n",
    "\n",
    "graph = tf.Graph()\n",
    "with graph.as_default():\n",
    "\n",
    "  # Input data. For the training data, we use a placeholder that will be fed\n",
    "  # at run time with a training minibatch.\n",
    "  tf_train_dataset = tf.placeholder(tf.float32,\n",
    "                                    shape=(batch_size, image_size * image_size))\n",
    "  tf_train_labels = tf.placeholder(tf.float32, shape=(batch_size, num_labels))\n",
    "  tf_valid_dataset = tf.constant(valid_dataset)\n",
    "  tf_test_dataset = tf.constant(test_dataset)\n",
    "  \n",
    "  # Variables.\n",
    "  weights = tf.Variable(\n",
    "    tf.truncated_normal([image_size * image_size, num_labels]))\n",
    "  biases = tf.Variable(tf.zeros([num_labels]))\n",
    "  \n",
    "  # Training computation.\n",
    "  logits = tf.matmul(tf_train_dataset, weights) + biases\n",
    "  loss = tf.reduce_mean(\n",
    "    tf.nn.softmax_cross_entropy_with_logits(labels=tf_train_labels, logits=logits))\n",
    "  \n",
    "  # Optimizer.\n",
    "  optimizer = tf.train.GradientDescentOptimizer(0.5).minimize(loss)\n",
    "  \n",
    "  # Predictions for the training, validation, and test data.\n",
    "  train_prediction = tf.nn.softmax(logits)\n",
    "  valid_prediction = tf.nn.softmax(\n",
    "    tf.matmul(tf_valid_dataset, weights) + biases)\n",
    "  test_prediction = tf.nn.softmax(tf.matmul(tf_test_dataset, weights) + biases)"
   ]
  },
  {
   "cell_type": "code",
   "execution_count": 7,
   "metadata": {
    "collapsed": false
   },
   "outputs": [
    {
     "name": "stdout",
     "output_type": "stream",
     "text": [
      "Initialized\n",
      "Minibatch loss at step 0: 18.161428\n",
      "Minibatch accuracy: 11.7%\n",
      "Validation accuracy: 12.4%\n",
      "Minibatch loss at step 500: 1.871672\n",
      "Minibatch accuracy: 76.6%\n",
      "Validation accuracy: 75.1%\n",
      "Minibatch loss at step 1000: 0.931497\n",
      "Minibatch accuracy: 82.8%\n",
      "Validation accuracy: 76.7%\n",
      "Minibatch loss at step 1500: 1.180908\n",
      "Minibatch accuracy: 78.9%\n",
      "Validation accuracy: 76.6%\n",
      "Minibatch loss at step 2000: 1.182772\n",
      "Minibatch accuracy: 71.9%\n",
      "Validation accuracy: 78.0%\n",
      "Minibatch loss at step 2500: 0.848845\n",
      "Minibatch accuracy: 78.9%\n",
      "Validation accuracy: 78.2%\n",
      "Minibatch loss at step 3000: 1.028661\n",
      "Minibatch accuracy: 71.9%\n",
      "Validation accuracy: 78.4%\n",
      "Test accuracy: 85.8%\n"
     ]
    }
   ],
   "source": [
    "num_steps = 3001\n",
    "\n",
    "with tf.Session(graph=graph) as session:\n",
    "  tf.global_variables_initializer().run()\n",
    "  print(\"Initialized\")\n",
    "  for step in range(num_steps):\n",
    "    # Pick an offset within the training data, which has been randomized.\n",
    "    # Note: we could use better randomization across epochs.\n",
    "    offset = (step * batch_size) % (train_labels.shape[0] - batch_size)\n",
    "    # Generate a minibatch.\n",
    "    batch_data = train_dataset[offset:(offset + batch_size), :]\n",
    "    batch_labels = train_labels[offset:(offset + batch_size), :]\n",
    "    # Prepare a dictionary telling the session where to feed the minibatch.\n",
    "    # The key of the dictionary is the placeholder node of the graph to be fed,\n",
    "    # and the value is the numpy array to feed to it.\n",
    "    feed_dict = {tf_train_dataset : batch_data, tf_train_labels : batch_labels}\n",
    "    _, l, predictions = session.run(\n",
    "      [optimizer, loss, train_prediction], feed_dict=feed_dict)\n",
    "    if (step % 500 == 0):\n",
    "      print(\"Minibatch loss at step %d: %f\" % (step, l))\n",
    "      print(\"Minibatch accuracy: %.1f%%\" % accuracy(predictions, batch_labels))\n",
    "      print(\"Validation accuracy: %.1f%%\" % accuracy(\n",
    "        valid_prediction.eval(), valid_labels))\n",
    "  print(\"Test accuracy: %.1f%%\" % accuracy(test_prediction.eval(), test_labels))"
   ]
  },
  {
   "cell_type": "code",
   "execution_count": 8,
   "metadata": {
    "collapsed": false
   },
   "outputs": [],
   "source": [
    "\"\"\"Problem\n",
    "Turn the logistic regression example with SGD into a 1-hidden layer neural network with rectified linear units nn.relu() \n",
    "and 1024 hidden nodes. This model should improve your validation / test accuracy.\n",
    "\n",
    "batch size = 128\n",
    "learning rate = 0.5   | num steps = 3001  | test accuracy = 88,5%\n",
    "learning rate = 0.05  | num steps = 3001  | test accuracy = 88,6%\n",
    "learning rate = 0.05  | num steps = 30001 | test accuracy = 91,7%\n",
    "learning rate = 0.005 | num steps = 30001 | test accuracy = 89,7%\n",
    "learning rate = 0.005 | num steps = 60001 | test accuracy = 90,7%\n",
    "\n",
    "batch size = 256 | learning rate = 0.05   | num steps = 30001 | test accuracy = 91,6%\n",
    "batch size = 512 | learning rate = 0.05   | num steps = 30001 | test accuracy = 91,7%\n",
    "batch size = 512 | learning rate = 0.005  | num steps = 30001 | test accuracy = 86,6%\n",
    "batch size = 512 | learning rate = 0.005  | num steps = 60001 | test accuracy = 90,4%\n",
    "\n",
    "Intuitively, how does mini-batch size affect the performance of (stochastic) gradient descent? \n",
    "https://www.quora.com/Intuitively-how-does-mini-batch-size-affect-the-performance-of-stochastic-gradient-descent\n",
    "\"\"\"\n",
    "\n",
    "# Parameters\n",
    "learning_rate = 0.05\n",
    "num_steps = 30001 #training cycle | training_epochs\n",
    "batch_size = 512\n",
    "#display_step = 1\n",
    "\n",
    "# Network Parameters\n",
    "n_hidden_1 = 1024 # 1st layer number of features\n",
    "n_input = image_size * image_size # data input (img shape: 28*28)\n",
    "#num_labels = 10 #(0-9)\n",
    "\n",
    "def accuracy(predictions, labels):\n",
    "  return (100.0 * np.sum(np.argmax(predictions, 1) == np.argmax(labels, 1))\n",
    "          / predictions.shape[0])\n",
    "\n",
    "def oneHiddenLayerModel (x, weights, biases):\n",
    "  # Hidden layer with RELU activation\n",
    "  hiddenLayer = tf.add(tf.matmul(x, weights['h1']), biases['b1'])\n",
    "  hiddenLayer = tf.nn.relu(hiddenLayer)\n",
    "  # Output layer with linear activation\n",
    "  outputLayer = tf.add(tf.matmul(hiddenLayer, weights['out']), biases['out'])\n",
    "  return outputLayer\n",
    "\n",
    "graph = tf.Graph()\n",
    "with graph.as_default():\n",
    "\n",
    "  # Input data. For the training data, we use a placeholder that will be fed\n",
    "  # at run time with a training minibatch.\n",
    "  tf_train_dataset = tf.placeholder(tf.float32,shape=(batch_size, n_input))\n",
    "  tf_train_labels = tf.placeholder(tf.float32, shape=(batch_size, num_labels))\n",
    "  tf_valid_dataset = tf.constant(valid_dataset)\n",
    "  tf_test_dataset = tf.constant(test_dataset)\n",
    "  \n",
    "  # Variables : layers weight & bias\n",
    "  weights = {\n",
    "    'h1': tf.Variable(tf.truncated_normal([n_input, n_hidden_1])),\n",
    "    'out': tf.Variable(tf.truncated_normal([n_hidden_1, num_labels]))\n",
    "  }\n",
    "  biases = {\n",
    "    'b1': tf.Variable(tf.zeros([n_hidden_1])),\n",
    "    'out': tf.Variable(tf.zeros([num_labels]))\n",
    "  }\n",
    " \n",
    "  # Construct model\n",
    "  pred = oneHiddenLayerModel(tf_train_dataset, weights, biases)\n",
    "\n",
    "  # Loss (Cost)\n",
    "  loss = tf.reduce_mean(tf.nn.softmax_cross_entropy_with_logits(logits=pred, labels=tf_train_labels))\n",
    "  \n",
    "  # Optimizer.\n",
    "  optimizer = tf.train.GradientDescentOptimizer(learning_rate=learning_rate).minimize(loss)\n",
    "  \n",
    "  # Predictions for the training, validation, and test data.\n",
    "  train_prediction = tf.nn.softmax(pred)\n",
    "  valid_prediction = tf.nn.softmax(oneHiddenLayerModel(tf_valid_dataset, weights, biases))\n",
    "  test_prediction = tf.nn.softmax(oneHiddenLayerModel(tf_test_dataset, weights, biases))\n",
    "\n",
    "\n"
   ]
  },
  {
   "cell_type": "code",
   "execution_count": 9,
   "metadata": {
    "collapsed": false,
    "scrolled": false
   },
   "outputs": [
    {
     "name": "stdout",
     "output_type": "stream",
     "text": [
      "Initialized\n",
      "Minibatch loss at step 0 : 312.905\n",
      "Minibatch accuracy: 6.4%\n",
      "Validation accuracy: 17.4%\n",
      "Minibatch loss at step 5000 : 4.41653\n",
      "Minibatch accuracy: 87.9%\n",
      "Validation accuracy: 82.9%\n",
      "Minibatch loss at step 10000 : 2.54081\n",
      "Minibatch accuracy: 86.9%\n",
      "Validation accuracy: 83.7%\n",
      "Minibatch loss at step 15000 : 1.94139\n",
      "Minibatch accuracy: 86.9%\n",
      "Validation accuracy: 83.8%\n",
      "Minibatch loss at step 20000 : 1.79119\n",
      "Minibatch accuracy: 86.9%\n",
      "Validation accuracy: 85.2%\n",
      "Minibatch loss at step 25000 : 2.60367\n",
      "Minibatch accuracy: 85.4%\n",
      "Validation accuracy: 84.7%\n",
      "Minibatch loss at step 30000 : 0.860302\n",
      "Minibatch accuracy: 87.3%\n",
      "Validation accuracy: 84.3%\n",
      "Test accuracy: 91.5%\n"
     ]
    }
   ],
   "source": [
    "\n",
    "with tf.Session(graph=graph) as session:\n",
    "  tf.global_variables_initializer().run()\n",
    "  print ('Initialized')\n",
    "  summary_data = np.zeros((num_steps, 3))\n",
    "\n",
    "  for step in range(num_steps):\n",
    "    # Pick an offset within the training data, which has been randomized.\n",
    "    # Note: we could use better randomization across epochs.\n",
    "    offset = (step * batch_size) % (train_labels.shape[0] - batch_size)\n",
    "    # Generate a minibatch.\n",
    "    batch_data = train_dataset[offset:(offset + batch_size), :]\n",
    "    batch_labels = train_labels[offset:(offset + batch_size), :]\n",
    "    # Prepare a dictionary telling the session where to feed the minibatch.\n",
    "    # The key of the dictionary is the placeholder node of the graph to be fed,\n",
    "    # and the value is the numpy array to feed to it.\n",
    "    feed_dict = {tf_train_dataset : batch_data, tf_train_labels : batch_labels}\n",
    "    _, l, predictions = session.run([optimizer, loss, train_prediction], feed_dict=feed_dict)\n",
    "\n",
    "    valid_accuracy = accuracy(valid_prediction.eval(), valid_labels)\n",
    "    summary_data[step] = [step, valid_accuracy, l]\n",
    "    \n",
    "    if (step % 5000 == 0):\n",
    "      print (\"Minibatch loss at step\", step, \":\", l)\n",
    "      print (\"Minibatch accuracy: %.1f%%\" % accuracy(predictions, batch_labels))\n",
    "      print (\"Validation accuracy: %.1f%%\" % valid_accuracy)\n",
    "  print (\"Test accuracy: %.1f%%\" % accuracy(test_prediction.eval(), test_labels))\n",
    "\n"
   ]
  },
  {
   "cell_type": "code",
   "execution_count": 10,
   "metadata": {
    "collapsed": false
   },
   "outputs": [
    {
     "name": "stdout",
     "output_type": "stream",
     "text": [
      "30001\n"
     ]
    },
    {
     "data": {
      "text/plain": [
       "<matplotlib.text.Text at 0x25c804ba8d0>"
      ]
     },
     "execution_count": 10,
     "metadata": {},
     "output_type": "execute_result"
    },
    {
     "data": {
      "image/png": "[encoded data removed]",
      "text/plain": [
       "<matplotlib.figure.Figure at 0x25b662d17b8>"
      ]
     },
     "metadata": {},
     "output_type": "display_data"
    }
   ],
   "source": [
    "#to go further, plot accuracies (train & validation) and loss through epochs regarding range of parameters\n",
    "import matplotlib.pyplot as plt\n",
    "%matplotlib inline\n",
    "\n",
    "print (summary_data.shape[0])\n",
    "    \n",
    "    \n",
    "fig = plt.figure(figsize=(8, 6))\n",
    "\n",
    "ax1 = fig.add_subplot(221)\n",
    "ax1.plot(summary_data[:,0], summary_data[:,1], 'b-')\n",
    "ax1.set_xlabel(\"Time Step\")\n",
    "ax1.set_ylabel(\"Accuracy of Validation Set\")\n",
    "ax2 = fig.add_subplot(222)\n",
    "ax2.plot(summary_data[:,0], summary_data[:,2], 'b-')\n",
    "ax2.set_xlabel(\"Time Step\")\n",
    "ax2.set_ylabel(\"Loss\")"
   ]
  },
  {
   "cell_type": "code",
   "execution_count": null,
   "metadata": {
    "collapsed": true
   },
   "outputs": [],
   "source": []
  }
 ],
 "metadata": {
  "kernelspec": {
   "display_name": "Python [default]",
   "language": "python",
   "name": "python3"
  },
  "language_info": {
   "codemirror_mode": {
    "name": "ipython",
    "version": 3
   },
   "file_extension": ".py",
   "mimetype": "text/x-python",
   "name": "python",
   "nbconvert_exporter": "python",
   "pygments_lexer": "ipython3",
   "version": "3.5.2"
  }
 },
 "nbformat": 4,
 "nbformat_minor": 2
}
