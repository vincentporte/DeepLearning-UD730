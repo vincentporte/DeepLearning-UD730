{
 "cells": [
  {
   "cell_type": "code",
   "execution_count": 1,
   "metadata": {
    "collapsed": true
   },
   "outputs": [],
   "source": [
    "#UDACITY UD730 - assignement 1 notMNIST\n",
    "#https://github.com/tensorflow/tensorflow/blob/master/tensorflow/examples/udacity/1_notmnist.ipynb\n",
    "\n",
    "from __future__ import print_function\n",
    "import matplotlib.pyplot as plt\n",
    "import numpy as np\n",
    "import os\n",
    "import sys\n",
    "import tarfile\n",
    "from IPython.display import display, Image\n",
    "from scipy import ndimage\n",
    "from sklearn.linear_model import LogisticRegression\n",
    "from six.moves.urllib.request import urlretrieve\n",
    "from six.moves import cPickle as pickle\n"
   ]
  },
  {
   "cell_type": "code",
   "execution_count": 7,
   "metadata": {
    "collapsed": false
   },
   "outputs": [
    {
     "name": "stdout",
     "output_type": "stream",
     "text": [
      "Attempting to download: notMNIST_large.tar.gz\n",
      "0%....5%....10%....15%....20%....25%....30%....35%....40%....45%....50%....55%....60%....65%....70%....75%....80%....85%....90%....95%....100%\n",
      "Download Complete!\n",
      "Found and verified .\\notMNIST_large.tar.gz\n",
      "Found and verified .\\notMNIST_small.tar.gz\n"
     ]
    }
   ],
   "source": [
    "url = 'http://commondatastorage.googleapis.com/books1000/'\n",
    "last_percent_reported = None\n",
    "data_root = '.' # Change me to store data elsewhere\n",
    "\n",
    "def download_progress_hook(count, blockSize, totalSize):\n",
    "  \"\"\"A hook to report the progress of a download. This is mostly intended for users with\n",
    "  slow internet connections. Reports every 5% change in download progress.\n",
    "  \"\"\"\n",
    "  global last_percent_reported\n",
    "  percent = int(count * blockSize * 100 / totalSize)\n",
    "\n",
    "  if last_percent_reported != percent:\n",
    "    if percent % 5 == 0:\n",
    "      sys.stdout.write(\"%s%%\" % percent)\n",
    "      sys.stdout.flush()\n",
    "    else:\n",
    "      sys.stdout.write(\".\")\n",
    "      sys.stdout.flush()\n",
    "      \n",
    "    last_percent_reported = percent\n",
    "        \n",
    "def maybe_download(filename, expected_bytes, force=False):\n",
    "  \"\"\"Download a file if not present, and make sure it's the right size.\"\"\"\n",
    "  dest_filename = os.path.join(data_root, filename)\n",
    "  if force or not os.path.exists(dest_filename):\n",
    "    print('Attempting to download:', filename) \n",
    "    filename, _ = urlretrieve(url + filename, dest_filename, reporthook=download_progress_hook)\n",
    "    print('\\nDownload Complete!')\n",
    "  statinfo = os.stat(dest_filename)\n",
    "  if statinfo.st_size == expected_bytes:\n",
    "    print('Found and verified', dest_filename)\n",
    "  else:\n",
    "    raise Exception(\n",
    "      'Failed to verify ' + dest_filename + '. Can you get to it with a browser?')\n",
    "  return dest_filename\n",
    "\n",
    "train_filename = maybe_download('notMNIST_large.tar.gz', 247336696)\n",
    "test_filename = maybe_download('notMNIST_small.tar.gz', 8458043)"
   ]
  },
  {
   "cell_type": "code",
   "execution_count": 8,
   "metadata": {
    "collapsed": false
   },
   "outputs": [
    {
     "name": "stdout",
     "output_type": "stream",
     "text": [
      "C:\\Users\\Vince\\Documents\\GitHub\\UD730\n"
     ]
    }
   ],
   "source": [
    "print (os.path.abspath(''))"
   ]
  },
  {
   "cell_type": "code",
   "execution_count": 10,
   "metadata": {
    "collapsed": false
   },
   "outputs": [
    {
     "name": "stdout",
     "output_type": "stream",
     "text": [
      "./notMNIST_large already present - Skipping extraction of ./notMNIST_large.\n",
      "['./notMNIST_large\\\\A', './notMNIST_large\\\\B', './notMNIST_large\\\\C', './notMNIST_large\\\\D', './notMNIST_large\\\\E', './notMNIST_large\\\\F', './notMNIST_large\\\\G', './notMNIST_large\\\\H', './notMNIST_large\\\\I', './notMNIST_large\\\\J']\n",
      "./notMNIST_small already present - Skipping extraction of ./notMNIST_small.\n",
      "['./notMNIST_small\\\\A', './notMNIST_small\\\\B', './notMNIST_small\\\\C', './notMNIST_small\\\\D', './notMNIST_small\\\\E', './notMNIST_small\\\\F', './notMNIST_small\\\\G', './notMNIST_small\\\\H', './notMNIST_small\\\\I', './notMNIST_small\\\\J']\n"
     ]
    }
   ],
   "source": [
    "num_classes = 10\n",
    "np.random.seed(133)\n",
    "\n",
    "def maybe_extract(filename, force=False):\n",
    "  root = os.path.splitext(os.path.splitext(filename)[0])[0]  # remove .tar.gz\n",
    "  if os.path.isdir(root) and not force:\n",
    "    # You may override by setting force=True.\n",
    "    print('%s already present - Skipping extraction of %s.' % (root, filename))\n",
    "  else:\n",
    "    print('Extracting data for %s. This may take a while. Please wait.' % root)\n",
    "    tar = tarfile.open(filename)\n",
    "    sys.stdout.flush()\n",
    "    tar.extractall(data_root)\n",
    "    tar.close()\n",
    "  data_folders = [\n",
    "    os.path.join(root, d) for d in sorted(os.listdir(root))\n",
    "    if os.path.isdir(os.path.join(root, d))]\n",
    "  if len(data_folders) != num_classes:\n",
    "    raise Exception(\n",
    "      'Expected %d folders, one per class. Found %d instead.' % (\n",
    "        num_classes, len(data_folders)))\n",
    "  print(data_folders)\n",
    "  return data_folders\n",
    "  \n",
    "#train_folders = maybe_extract(train_filename)\n",
    "#test_folders = maybe_extract(test_filename)\n",
    "train_folders = maybe_extract('./notMNIST_large')\n",
    "test_folders = maybe_extract('./notMNIST_small')"
   ]
  },
  {
   "cell_type": "code",
   "execution_count": 11,
   "metadata": {
    "collapsed": false
   },
   "outputs": [
    {
     "name": "stdout",
     "output_type": "stream",
     "text": [
      "large images\n"
     ]
    },
    {
     "data": {
      "image/png": "[encoded data removed]",
      "text/plain": [
       "<IPython.core.display.Image object>"
      ]
     },
     "metadata": {},
     "output_type": "display_data"
    },
    {
     "data": {
      "image/png": "[encoded data removed]",
      "text/plain": [
       "<IPython.core.display.Image object>"
      ]
     },
     "metadata": {},
     "output_type": "display_data"
    },
    {
     "data": {
      "image/png": "[encoded data removed]",
      "text/plain": [
       "<IPython.core.display.Image object>"
      ]
     },
     "metadata": {},
     "output_type": "display_data"
    },
    {
     "data": {
      "image/png": "[encoded data removed]",
      "text/plain": [
       "<IPython.core.display.Image object>"
      ]
     },
     "metadata": {},
     "output_type": "display_data"
    },
    {
     "data": {
      "image/png": "[encoded data removed]",
      "text/plain": [
       "<IPython.core.display.Image object>"
      ]
     },
     "metadata": {},
     "output_type": "display_data"
    },
    {
     "data": {
      "image/png": "[encoded data removed]",
      "text/plain": [
       "<IPython.core.display.Image object>"
      ]
     },
     "metadata": {},
     "output_type": "display_data"
    },
    {
     "data": {
      "image/png": "[encoded data removed]",
      "text/plain": [
       "<IPython.core.display.Image object>"
      ]
     },
     "metadata": {},
     "output_type": "display_data"
    },
    {
     "data": {
      "image/png": "[encoded data removed]",
      "text/plain": [
       "<IPython.core.display.Image object>"
      ]
     },
     "metadata": {},
     "output_type": "display_data"
    },
    {
     "data": {
      "image/png": "[encoded data removed]",
      "text/plain": [
       "<IPython.core.display.Image object>"
      ]
     },
     "metadata": {},
     "output_type": "display_data"
    },
    {
     "data": {
      "image/png": "[encoded data removed]",
      "text/plain": [
       "<IPython.core.display.Image object>"
      ]
     },
     "metadata": {},
     "output_type": "display_data"
    },
    {
     "data": {
      "image/png": "[encoded data removed]",
      "text/plain": [
       "<IPython.core.display.Image object>"
      ]
     },
     "metadata": {},
     "output_type": "display_data"
    },
    {
     "data": {
      "image/png": "[encoded data removed]",
      "text/plain": [
       "<IPython.core.display.Image object>"
      ]
     },
     "metadata": {},
     "output_type": "display_data"
    },
    {
     "data": {
      "image/png": "[encoded data removed]",
      "text/plain": [
       "<IPython.core.display.Image object>"
      ]
     },
     "metadata": {},
     "output_type": "display_data"
    },
    {
     "name": "stdout",
     "output_type": "stream",
     "text": [
      "small images\n"
     ]
    },
    {
     "data": {
      "image/png": "[encoded data removed]",
      "text/plain": [
       "<IPython.core.display.Image object>"
      ]
     },
     "metadata": {},
     "output_type": "display_data"
    },
    {
     "data": {
      "image/png": "[encoded data removed]",
      "text/plain": [
       "<IPython.core.display.Image object>"
      ]
     },
     "metadata": {},
     "output_type": "display_data"
    },
    {
     "data": {
      "image/png": "[encoded data removed]",
      "text/plain": [
       "<IPython.core.display.Image object>"
      ]
     },
     "metadata": {},
     "output_type": "display_data"
    },
    {
     "data": {
      "image/png": "[encoded data removed]",
      "text/plain": [
       "<IPython.core.display.Image object>"
      ]
     },
     "metadata": {},
     "output_type": "display_data"
    },
    {
     "data": {
      "image/png": "[encoded data removed]",
      "text/plain": [
       "<IPython.core.display.Image object>"
      ]
     },
     "metadata": {},
     "output_type": "display_data"
    },
    {
     "data": {
      "image/png": "[encoded data removed]",
      "text/plain": [
       "<IPython.core.display.Image object>"
      ]
     },
     "metadata": {},
     "output_type": "display_data"
    },
    {
     "data": {
      "image/png": "[encoded data removed]",
      "text/plain": [
       "<IPython.core.display.Image object>"
      ]
     },
     "metadata": {},
     "output_type": "display_data"
    },
    {
     "data": {
      "image/png": "[encoded data removed]",
      "text/plain": [
       "<IPython.core.display.Image object>"
      ]
     },
     "metadata": {},
     "output_type": "display_data"
    },
    {
     "data": {
      "image/png": "[encoded data removed]",
      "text/plain": [
       "<IPython.core.display.Image object>"
      ]
     },
     "metadata": {},
     "output_type": "display_data"
    },
    {
     "data": {
      "image/png": "[encoded data removed]",
      "text/plain": [
       "<IPython.core.display.Image object>"
      ]
     },
     "metadata": {},
     "output_type": "display_data"
    },
    {
     "data": {
      "image/png": "[encoded data removed]",
      "text/plain": [
       "<IPython.core.display.Image object>"
      ]
     },
     "metadata": {},
     "output_type": "display_data"
    },
    {
     "data": {
      "image/png": "[encoded data removed]",
      "text/plain": [
       "<IPython.core.display.Image object>"
      ]
     },
     "metadata": {},
     "output_type": "display_data"
    }
   ],
   "source": [
    "#Problem 1 : Let's take a peek at some of the data to make sure it looks sensible.\n",
    "#Each exemplar should be an image of a character A through J rendered in a different font. \n",
    "#Display a sample of the images that we just downloaded. Hint: you can use the package IPython.display.\n",
    "\n",
    "listOfImageNames = ['notMNIST_large/I/R2VvbWV0cmljIFNsYWJzZXJpZiA3MDMgQm9sZCBJdGFsaWMucGZi.png',\n",
    "                    'notMNIST_large/J/aG9uZXkgVWx0cmEudHRm.png',\n",
    "                    'notMNIST_large/A/aG9tZXdvcmsgbm9ybWFsLnR0Zg==.png',\n",
    "                    'notMNIST_large/B/aG9tZXdvcmsgbm9ybWFsLnR0Zg==.png',\n",
    "                    'notMNIST_large/C/aG9tZXdvcmsgbm9ybWFsLnR0Zg==.png',\n",
    "                    'notMNIST_large/D/aG9tZXdvcmsgbm9ybWFsLnR0Zg==.png',\n",
    "                    'notMNIST_large/E/aG9tZXdvcmsgbm9ybWFsLnR0Zg==.png',\n",
    "                    'notMNIST_large/F/aG9tZXdvcmsgbm9ybWFsLnR0Zg==.png',\n",
    "                    'notMNIST_large/G/aG9tZXdvcmsgbm9ybWFsLnR0Zg==.png',\n",
    "                    'notMNIST_large/H/aG9tZXdvcmsgbm9ybWFsLnR0Zg==.png',\n",
    "                    'notMNIST_large/I/aG9tZXdvcmsgbm9ybWFsLnR0Zg==.png',\n",
    "                    'notMNIST_large/J/aG9tZXdvcmsgbm9ybWFsLnR0Zg==.png',\n",
    "                    'notMNIST_large/C/a2ltaWRvcmkgbXVnY3VwLnR0Zg==.png']\n",
    "\n",
    "listOfSmallImageNames = ['notMNIST_small/J/Q2FzdWFsLnR0Zg==.png',\n",
    "                    'notMNIST_small/A/MTggSG9sZXMgQlJLLnR0Zg==.png',\n",
    "                    'notMNIST_small/A/Q0sgUGluay50dGY=.png',\n",
    "                    'notMNIST_small/B/Q0sgUGluay50dGY=.png',\n",
    "                    'notMNIST_small/C/Q0sgUGluay50dGY=.png',\n",
    "                    'notMNIST_small/D/Q0sgUGluay50dGY=.png',\n",
    "                    'notMNIST_small/E/Q0sgUGluay50dGY=.png',\n",
    "                    'notMNIST_small/F/Q0sgUGluay50dGY=.png',\n",
    "                    'notMNIST_small/G/Q0sgUGluay50dGY=.png',\n",
    "                    'notMNIST_small/H/Q0sgUGluay50dGY=.png',\n",
    "                    'notMNIST_small/I/Q0sgUGluay50dGY=.png',\n",
    "                    'notMNIST_small/J/Q0sgUGluay50dGY=.png']\n",
    "\n",
    "#print (os.path.abspath(''))\n",
    "print (\"large images\")\n",
    "for imageName in listOfImageNames:\n",
    "    display(Image(filename=imageName))\n",
    "print (\"small images\")\n",
    "for smallImageName in listOfSmallImageNames:\n",
    "    display(Image(filename=smallImageName))"
   ]
  },
  {
   "cell_type": "code",
   "execution_count": 20,
   "metadata": {
    "collapsed": false,
    "scrolled": false
   },
   "outputs": [
    {
     "name": "stdout",
     "output_type": "stream",
     "text": [
      "./notMNIST_large\\A.pickle already present - Skipping pickling.\n",
      "./notMNIST_large\\B.pickle already present - Skipping pickling.\n",
      "./notMNIST_large\\C.pickle already present - Skipping pickling.\n",
      "Pickling ./notMNIST_large\\D.pickle.\n",
      "dataset.size  41483008 dataset.shape  (52912L, 28L, 28L)\n",
      "./notMNIST_large\\D\n",
      "expected image number 13126 of 52912 samples\n",
      "images # 13126 , file ./notMNIST_large\\D\\QXVyb3JhQlQtQm9sZENvbmRlbnNlZC5vdGY=.png\n"
     ]
    },
    {
     "data": {
      "image/png": "[encoded data removed]",
      "text/plain": [
       "<IPython.core.display.Image object>"
      ]
     },
     "metadata": {},
     "output_type": "display_data"
    },
    {
     "name": "stdout",
     "output_type": "stream",
     "text": [
      "image_data  [[ 0.5         0.5         0.5         0.5         0.5         0.5         0.5\n",
      "   0.5         0.5         0.5         0.5         0.5         0.5         0.5\n",
      "   0.5         0.49215686  0.45686275  0.42941176  0.3745098   0.26470588\n",
      "   0.15882353 -0.0372549  -0.28431373 -0.47254902 -0.5        -0.49215686\n",
      "  -0.49215686 -0.5       ]\n",
      " [ 0.5         0.5         0.5         0.5         0.5         0.5         0.5\n",
      "   0.5         0.5         0.5         0.5         0.5         0.5         0.5\n",
      "   0.5         0.5         0.5         0.5         0.5         0.5         0.5\n",
      "   0.5         0.49215686  0.31568627 -0.1        -0.46470588 -0.5\n",
      "  -0.49607843]\n",
      " [ 0.5         0.5         0.5         0.5         0.5         0.5         0.5\n",
      "   0.5         0.5         0.5         0.5         0.5         0.5         0.5\n",
      "   0.5         0.5         0.5         0.49607843  0.49607843  0.49215686\n",
      "   0.48823529  0.49215686  0.49607843  0.49607843  0.5         0.25686275\n",
      "  -0.38627451 -0.5       ]\n",
      " [ 0.5         0.5         0.5         0.5         0.5         0.5         0.5\n",
      "   0.5         0.5         0.5         0.5         0.49215686  0.49215686\n",
      "   0.49215686  0.48823529  0.48431373  0.49215686  0.5         0.5         0.5\n",
      "   0.5         0.5         0.5         0.48823529  0.47647059  0.5\n",
      "   0.22156863 -0.45294118]\n",
      " [ 0.5         0.5         0.5         0.5         0.5         0.5         0.5\n",
      "   0.5         0.5         0.5         0.5         0.5         0.5         0.5\n",
      "   0.5         0.5         0.5         0.5         0.5         0.5         0.5\n",
      "   0.5         0.5         0.5         0.5         0.48039216  0.5\n",
      "  -0.12352941]\n",
      " [ 0.5         0.5         0.5         0.5         0.5         0.5         0.5\n",
      "   0.5         0.49607843  0.5         0.4254902  -0.20588235 -0.18627451\n",
      "  -0.15490196 -0.09607843  0.00588235  0.37058824  0.5         0.49607843\n",
      "   0.5         0.5         0.5         0.5         0.5         0.5\n",
      "   0.49607843  0.5         0.24117647]\n",
      " [ 0.5         0.5         0.5         0.5         0.5         0.5         0.5\n",
      "   0.5         0.49607843  0.5         0.39019608 -0.5        -0.49607843\n",
      "  -0.5        -0.49215686 -0.5        -0.31960784  0.44509804  0.5\n",
      "   0.49607843  0.5         0.5         0.5         0.5         0.5         0.5\n",
      "   0.5         0.40588235]\n",
      " [ 0.5         0.5         0.5         0.5         0.5         0.5         0.5\n",
      "   0.5         0.49607843  0.5         0.39019608 -0.5        -0.48431373\n",
      "  -0.48823529 -0.48431373 -0.48039216 -0.5         0.39019608  0.5\n",
      "   0.49607843  0.5         0.5         0.5         0.5         0.5         0.5\n",
      "   0.5         0.48823529]\n",
      " [ 0.5         0.5         0.5         0.5         0.5         0.5         0.5\n",
      "   0.5         0.49607843  0.5         0.39019608 -0.5        -0.49607843\n",
      "  -0.5        -0.5        -0.49607843 -0.5         0.39019608  0.5\n",
      "   0.49607843  0.5         0.5         0.5         0.5         0.5         0.5\n",
      "   0.5         0.5       ]\n",
      " [ 0.5         0.5         0.5         0.5         0.5         0.5         0.5\n",
      "   0.5         0.49607843  0.5         0.39019608 -0.5        -0.49607843\n",
      "  -0.5        -0.5        -0.49607843 -0.5         0.39019608  0.5\n",
      "   0.49607843  0.5         0.5         0.5         0.5         0.5         0.5\n",
      "   0.5         0.5       ]\n",
      " [ 0.5         0.5         0.5         0.5         0.5         0.5         0.5\n",
      "   0.5         0.49607843  0.5         0.39019608 -0.5        -0.49607843\n",
      "  -0.5        -0.5        -0.49607843 -0.5         0.39019608  0.5\n",
      "   0.49607843  0.5         0.5         0.5         0.5         0.5         0.5\n",
      "   0.5         0.5       ]\n",
      " [ 0.5         0.5         0.5         0.5         0.5         0.5         0.5\n",
      "   0.5         0.49607843  0.5         0.39019608 -0.5        -0.49607843\n",
      "  -0.5        -0.5        -0.49607843 -0.5         0.39019608  0.5\n",
      "   0.49607843  0.5         0.5         0.5         0.5         0.5         0.5\n",
      "   0.5         0.5       ]\n",
      " [ 0.5         0.5         0.5         0.5         0.5         0.5         0.5\n",
      "   0.5         0.49607843  0.5         0.39019608 -0.5        -0.49607843\n",
      "  -0.5        -0.5        -0.49607843 -0.5         0.39019608  0.5\n",
      "   0.49607843  0.5         0.5         0.5         0.5         0.5         0.5\n",
      "   0.5         0.5       ]\n",
      " [ 0.5         0.5         0.5         0.5         0.5         0.5         0.5\n",
      "   0.5         0.49607843  0.5         0.39019608 -0.5        -0.49607843\n",
      "  -0.5        -0.5        -0.49607843 -0.5         0.39019608  0.5\n",
      "   0.49607843  0.5         0.5         0.5         0.5         0.5         0.5\n",
      "   0.5         0.5       ]\n",
      " [ 0.5         0.5         0.5         0.5         0.5         0.5         0.5\n",
      "   0.5         0.49607843  0.5         0.39019608 -0.5        -0.49607843\n",
      "  -0.5        -0.5        -0.49607843 -0.5         0.39019608  0.5\n",
      "   0.49607843  0.5         0.5         0.5         0.5         0.5         0.5\n",
      "   0.5         0.5       ]\n",
      " [ 0.5         0.5         0.5         0.5         0.5         0.5         0.5\n",
      "   0.5         0.49607843  0.5         0.39019608 -0.5        -0.49607843\n",
      "  -0.5        -0.5        -0.49607843 -0.5         0.39019608  0.5\n",
      "   0.49607843  0.5         0.5         0.5         0.5         0.5         0.5\n",
      "   0.5         0.5       ]\n",
      " [ 0.5         0.5         0.5         0.5         0.5         0.5         0.5\n",
      "   0.5         0.49607843  0.5         0.39019608 -0.5        -0.49607843\n",
      "  -0.5        -0.5        -0.49607843 -0.5         0.39019608  0.5\n",
      "   0.49607843  0.5         0.5         0.5         0.5         0.5         0.5\n",
      "   0.5         0.5       ]\n",
      " [ 0.5         0.5         0.5         0.5         0.5         0.5         0.5\n",
      "   0.5         0.49607843  0.5         0.39019608 -0.5        -0.49607843\n",
      "  -0.5        -0.5        -0.49607843 -0.5         0.39019608  0.5\n",
      "   0.49607843  0.5         0.5         0.5         0.5         0.5         0.5\n",
      "   0.5         0.5       ]\n",
      " [ 0.5         0.5         0.5         0.5         0.5         0.5         0.5\n",
      "   0.5         0.49607843  0.5         0.39019608 -0.5        -0.49607843\n",
      "  -0.5        -0.5        -0.49607843 -0.5         0.39019608  0.5\n",
      "   0.49607843  0.5         0.5         0.5         0.5         0.5         0.5\n",
      "   0.5         0.5       ]\n",
      " [ 0.5         0.5         0.5         0.5         0.5         0.5         0.5\n",
      "   0.5         0.49607843  0.5         0.39019608 -0.5        -0.49607843\n",
      "  -0.5        -0.5        -0.49607843 -0.5         0.39019608  0.5\n",
      "   0.49607843  0.5         0.5         0.5         0.5         0.5         0.5\n",
      "   0.5         0.5       ]\n",
      " [ 0.5         0.5         0.5         0.5         0.5         0.5         0.5\n",
      "   0.5         0.49607843  0.5         0.39019608 -0.5        -0.48431373\n",
      "  -0.48823529 -0.48431373 -0.48039216 -0.5         0.39019608  0.5\n",
      "   0.49607843  0.5         0.5         0.5         0.5         0.5         0.5\n",
      "   0.5         0.48823529]\n",
      " [ 0.5         0.5         0.5         0.5         0.5         0.5         0.5\n",
      "   0.5         0.49607843  0.5         0.39019608 -0.5        -0.49607843\n",
      "  -0.5        -0.49215686 -0.5        -0.32745098  0.44117647  0.5\n",
      "   0.49607843  0.5         0.5         0.5         0.5         0.5         0.5\n",
      "   0.5         0.40588235]\n",
      " [ 0.5         0.5         0.5         0.5         0.5         0.5         0.5\n",
      "   0.5         0.49607843  0.5         0.4254902  -0.20588235 -0.18627451\n",
      "  -0.15490196 -0.1        -0.00588235  0.35882353  0.5         0.49607843\n",
      "   0.5         0.5         0.5         0.5         0.5         0.5\n",
      "   0.49607843  0.5         0.24117647]\n",
      " [ 0.5         0.5         0.5         0.5         0.5         0.5         0.5\n",
      "   0.5         0.5         0.5         0.5         0.5         0.5         0.5\n",
      "   0.5         0.5         0.5         0.5         0.5         0.5         0.5\n",
      "   0.5         0.5         0.5         0.5         0.48039216  0.5\n",
      "  -0.12352941]\n",
      " [ 0.5         0.5         0.5         0.5         0.5         0.5         0.5\n",
      "   0.5         0.5         0.5         0.5         0.49215686  0.49215686\n",
      "   0.49215686  0.48823529  0.48431373  0.49215686  0.5         0.5         0.5\n",
      "   0.5         0.5         0.5         0.48823529  0.47647059  0.5\n",
      "   0.22156863 -0.45294118]\n",
      " [ 0.5         0.5         0.5         0.5         0.5         0.5         0.5\n",
      "   0.5         0.5         0.5         0.5         0.5         0.5         0.5\n",
      "   0.5         0.5         0.5         0.49607843  0.49607843  0.49215686\n",
      "   0.48823529  0.49215686  0.49607843  0.49607843  0.5         0.24901961\n",
      "  -0.38627451 -0.5       ]\n",
      " [ 0.5         0.5         0.5         0.5         0.5         0.5         0.5\n",
      "   0.5         0.5         0.5         0.5         0.5         0.5         0.5\n",
      "   0.5         0.5         0.5         0.5         0.5         0.5         0.5\n",
      "   0.5         0.48823529  0.30392157 -0.10784314 -0.47254902 -0.5\n",
      "  -0.49607843]\n",
      " [ 0.5         0.5         0.5         0.5         0.5         0.5         0.5\n",
      "   0.5         0.5         0.5         0.5         0.5         0.5         0.5\n",
      "   0.5         0.48823529  0.45294118  0.4254902   0.37058824  0.25686275\n",
      "   0.15098039 -0.04901961 -0.29215686 -0.47254902 -0.5        -0.49215686\n",
      "  -0.49215686 -0.5       ]]\n",
      "Could not read: ./notMNIST_large\\D\\VHJhbnNpdCBCb2xkLnR0Zg==.png : cannot identify image file './notMNIST_large\\\\D\\\\VHJhbnNpdCBCb2xkLnR0Zg==.png' - it's ok, skipping.\n",
      "dataset [0:2,:,:]  [[[-0.5        -0.5        -0.5        ..., -0.5        -0.5        -0.5       ]\n",
      "  [-0.5        -0.5        -0.5        ..., -0.49215686 -0.5        -0.5       ]\n",
      "  [-0.5        -0.5        -0.5        ..., -0.5        -0.48823529 -0.5       ]\n",
      "  ..., \n",
      "  [-0.5        -0.5        -0.5        ...,  0.49607843  0.49215686\n",
      "    0.49215686]\n",
      "  [-0.5        -0.5        -0.5        ...,  0.3392157   0.5         0.49607843]\n",
      "  [-0.5        -0.5        -0.5        ..., -0.47254902 -0.13137256\n",
      "    0.30784315]]\n",
      "\n",
      " [[-0.5        -0.5        -0.5        ...,  0.37843138  0.06862745\n",
      "   -0.44117647]\n",
      "  [-0.5        -0.5        -0.5        ...,  0.49607843  0.5         0.21372549]\n",
      "  [-0.5        -0.5        -0.5        ...,  0.49607843  0.48823529  0.5       ]\n",
      "  ..., \n",
      "  [-0.5        -0.47254902  0.0254902  ...,  0.00980392 -0.47254902 -0.5       ]\n",
      "  [-0.49607843 -0.49215686 -0.5        ..., -0.5        -0.49215686 -0.5       ]\n",
      "  [-0.5        -0.49607843 -0.48823529 ..., -0.48823529 -0.49607843 -0.5       ]]]\n",
      "Full dataset tensor: (52911L, 28L, 28L)\n",
      "Mean: -0.0573678\n",
      "Standard deviation: 0.455648\n",
      "Pickling ./notMNIST_large\\E.pickle.\n",
      "dataset.size  41483008 dataset.shape  (52912L, 28L, 28L)\n",
      "./notMNIST_large\\E\n",
      "expected image number 35775 of 52912 samples\n",
      "images # 35775 , file ./notMNIST_large\\E\\TWVkaWFTZXJpZkVGLU1lZGl1bS5vdGY=.png\n"
     ]
    },
    {
     "data": {
      "image/png": "[encoded data removed]",
      "text/plain": [
       "<IPython.core.display.Image object>"
      ]
     },
     "metadata": {},
     "output_type": "display_data"
    },
    {
     "name": "stdout",
     "output_type": "stream",
     "text": [
      "image_data  [[-0.24901961  0.29215686  0.4372549   0.47647059  0.5         0.5         0.5\n",
      "   0.5         0.5         0.5         0.5         0.5         0.5         0.5\n",
      "   0.5         0.5         0.5         0.5         0.5         0.5         0.5\n",
      "   0.5         0.5         0.5         0.48823529  0.44901961  0.32745098\n",
      "  -0.18627451]\n",
      " [ 0.33529412  0.5         0.49607843  0.5         0.5         0.5\n",
      "   0.49607843  0.49607843  0.49607843  0.49607843  0.49607843  0.49607843\n",
      "   0.49607843  0.49607843  0.49607843  0.49607843  0.49607843  0.49607843\n",
      "   0.49607843  0.49607843  0.49607843  0.49607843  0.5         0.5         0.5\n",
      "   0.49607843  0.5         0.35490196]\n",
      " [ 0.49607843  0.49215686  0.5         0.5         0.5         0.5         0.5\n",
      "   0.5         0.5         0.5         0.5         0.5         0.5         0.5\n",
      "   0.5         0.5         0.5         0.5         0.5         0.5         0.5\n",
      "   0.5         0.5         0.5         0.5         0.5         0.49215686\n",
      "   0.49607843]\n",
      " [ 0.49607843  0.5         0.5         0.5         0.5         0.49607843\n",
      "   0.45686275  0.45686275  0.45686275  0.45686275  0.45686275  0.45686275\n",
      "   0.45686275  0.45686275  0.45686275  0.45686275  0.45686275  0.45686275\n",
      "   0.45686275  0.45686275  0.45686275  0.45686275  0.49607843  0.5         0.5\n",
      "   0.5         0.5         0.49607843]\n",
      " [ 0.5         0.5         0.5         0.49607843  0.5         0.43333333\n",
      "  -0.35098039 -0.37843137 -0.37058824 -0.37058824 -0.37058824 -0.37058824\n",
      "  -0.37058824 -0.37058824 -0.37058824 -0.37058824 -0.37058824 -0.37058824\n",
      "  -0.37058824 -0.37058824 -0.37843137 -0.35098039  0.42941176  0.5\n",
      "   0.49607843  0.5         0.5         0.5       ]\n",
      " [ 0.5         0.5         0.5         0.49607843  0.5         0.4254902\n",
      "  -0.47647059 -0.5        -0.5        -0.5        -0.5        -0.5        -0.5\n",
      "  -0.5        -0.5        -0.5        -0.5        -0.5        -0.5        -0.5\n",
      "  -0.5        -0.49215686  0.33921569  0.5         0.48039216  0.48431373\n",
      "   0.49215686  0.47254902]\n",
      " [ 0.5         0.5         0.5         0.49607843  0.5         0.4254902\n",
      "  -0.46862745 -0.5        -0.49215686 -0.49215686 -0.49215686 -0.49215686\n",
      "  -0.49215686 -0.49215686 -0.49215686 -0.49215686 -0.49215686 -0.49215686\n",
      "  -0.49215686 -0.49215686 -0.48431373 -0.5         0.00980392  0.5\n",
      "   0.48823529  0.49215686  0.5         0.11568627]\n",
      " [ 0.5         0.5         0.5         0.49607843  0.5         0.4254902\n",
      "  -0.47647059 -0.5        -0.5        -0.5        -0.5        -0.5        -0.5\n",
      "  -0.5        -0.5        -0.5        -0.5        -0.5        -0.5        -0.5\n",
      "  -0.49607843 -0.5        -0.46862745 -0.08039216  0.16666667  0.13921569\n",
      "  -0.1        -0.46078431]\n",
      " [ 0.5         0.5         0.5         0.49607843  0.5         0.4254902\n",
      "  -0.47647059 -0.5        -0.5        -0.5        -0.5        -0.5        -0.5\n",
      "  -0.5        -0.5        -0.5        -0.5        -0.5        -0.5        -0.5\n",
      "  -0.5        -0.5        -0.49607843 -0.5        -0.5        -0.5        -0.5\n",
      "  -0.49607843]\n",
      " [ 0.5         0.5         0.5         0.49607843  0.5         0.4254902\n",
      "  -0.46078431 -0.49215686 -0.48431373 -0.48431373 -0.48431373 -0.48431373\n",
      "  -0.48431373 -0.48431373 -0.48431373 -0.48431373 -0.48431373 -0.48431373\n",
      "  -0.48431373 -0.48431373 -0.48431373 -0.48823529 -0.48823529 -0.48431373\n",
      "  -0.49215686 -0.49215686 -0.48431373 -0.49607843]\n",
      " [ 0.5         0.5         0.5         0.49607843  0.5         0.4254902\n",
      "  -0.47647059 -0.5        -0.5        -0.5        -0.5        -0.5        -0.5\n",
      "  -0.5        -0.5        -0.5        -0.5        -0.5        -0.5        -0.5\n",
      "  -0.5        -0.5        -0.5        -0.49607843 -0.5        -0.5        -0.5\n",
      "  -0.5       ]\n",
      " [ 0.5         0.5         0.5         0.5         0.5         0.47254902\n",
      "   0.13529412  0.12352941  0.12745098  0.12745098  0.12745098  0.12745098\n",
      "   0.12745098  0.12745098  0.12745098  0.12745098  0.12745098  0.12745098\n",
      "   0.12745098  0.12745098  0.10392157 -0.01764706 -0.32745098 -0.5\n",
      "  -0.49607843 -0.5        -0.5        -0.5       ]\n",
      " [ 0.5         0.5         0.5         0.5         0.5         0.5         0.5\n",
      "   0.5         0.5         0.5         0.5         0.5         0.5         0.5\n",
      "   0.5         0.5         0.5         0.5         0.5         0.5\n",
      "   0.49607843  0.5         0.48431373 -0.19411765 -0.5        -0.49215686\n",
      "  -0.5        -0.5       ]\n",
      " [ 0.5         0.5         0.5         0.5         0.5         0.49607843\n",
      "   0.46862745  0.46862745  0.46862745  0.46862745  0.46862745  0.46862745\n",
      "   0.46862745  0.46862745  0.46862745  0.46862745  0.46862745  0.46862745\n",
      "   0.46862745  0.46862745  0.47254902  0.48039216  0.5         0.06470588\n",
      "  -0.5        -0.49215686 -0.5        -0.5       ]\n",
      " [ 0.5         0.5         0.5         0.5         0.5         0.5         0.5\n",
      "   0.5         0.5         0.5         0.5         0.5         0.5         0.5\n",
      "   0.5         0.5         0.5         0.5         0.5         0.5         0.5\n",
      "   0.49607843  0.31960784 -0.33921569 -0.5        -0.49215686 -0.5        -0.5       ]\n",
      " [ 0.5         0.5         0.5         0.49607843  0.5         0.44901961\n",
      "  -0.1745098  -0.19411765 -0.19019608 -0.19019608 -0.19019608 -0.19019608\n",
      "  -0.19019608 -0.19019608 -0.19019608 -0.19019608 -0.19019608 -0.19019608\n",
      "  -0.19019608 -0.19019608 -0.20196078 -0.29215686 -0.47254902 -0.5        -0.5\n",
      "  -0.5        -0.5        -0.5       ]\n",
      " [ 0.5         0.5         0.5         0.49607843  0.5         0.4254902\n",
      "  -0.47647059 -0.5        -0.5        -0.5        -0.5        -0.5        -0.5\n",
      "  -0.5        -0.5        -0.5        -0.5        -0.5        -0.5        -0.5\n",
      "  -0.5        -0.5        -0.49607843 -0.49215686 -0.5        -0.5        -0.5\n",
      "  -0.5       ]\n",
      " [ 0.5         0.5         0.5         0.49607843  0.5         0.4254902\n",
      "  -0.46470588 -0.49215686 -0.48431373 -0.48431373 -0.48431373 -0.48431373\n",
      "  -0.48431373 -0.48431373 -0.48431373 -0.48431373 -0.48431373 -0.48431373\n",
      "  -0.48431373 -0.48431373 -0.48823529 -0.49215686 -0.49607843 -0.5        -0.5\n",
      "  -0.5        -0.5        -0.5       ]\n",
      " [ 0.48823529  0.5         0.5         0.49607843  0.5         0.42941176\n",
      "  -0.46078431 -0.5        -0.49607843 -0.5        -0.5        -0.5        -0.5\n",
      "  -0.5        -0.5        -0.5        -0.5        -0.5        -0.5        -0.5\n",
      "  -0.5        -0.5        -0.49607843 -0.48431373 -0.49215686 -0.48823529\n",
      "  -0.48431373 -0.5       ]\n",
      " [ 0.39411765  0.5         0.49607843  0.49607843  0.5         0.45294118\n",
      "  -0.3745098  -0.5        -0.49607843 -0.5        -0.5        -0.5        -0.5\n",
      "  -0.5        -0.5        -0.5        -0.5        -0.5        -0.5        -0.5\n",
      "  -0.5        -0.5        -0.49607843 -0.5        -0.5        -0.5        -0.5\n",
      "  -0.49215686]\n",
      " [ 0.27254902  0.5         0.49215686  0.5         0.49215686  0.5\n",
      "  -0.11176471 -0.5        -0.47647059 -0.5        -0.5        -0.5        -0.5\n",
      "  -0.5        -0.5        -0.5        -0.5        -0.5        -0.5        -0.5\n",
      "  -0.49607843 -0.5        -0.44509804 -0.07254902  0.11960784  0.09215686\n",
      "  -0.15882353 -0.47647059]\n",
      " [-0.00980392  0.5         0.48431373  0.5         0.49215686  0.5\n",
      "   0.32745098 -0.4254902  -0.5        -0.48431373 -0.48431373 -0.48823529\n",
      "  -0.49215686 -0.49215686 -0.49607843 -0.49607843 -0.49607843 -0.49607843\n",
      "  -0.49607843 -0.49607843 -0.49215686 -0.5         0.11568627  0.5\n",
      "   0.48823529  0.49607843  0.5         0.08823529]\n",
      " [-0.34313725  0.41764706  0.5         0.49215686  0.5         0.49215686\n",
      "   0.5         0.27647059 -0.33137255 -0.5        -0.49607843 -0.5        -0.5\n",
      "  -0.5        -0.5        -0.5        -0.5        -0.5        -0.5        -0.5\n",
      "  -0.5        -0.48431373  0.39803922  0.5         0.48039216  0.48431373\n",
      "   0.49215686  0.48039216]\n",
      " [-0.5        -0.05294118  0.5         0.48039216  0.49607843  0.5\n",
      "   0.49607843  0.5         0.45686275  0.17058824 -0.12352941 -0.27254902\n",
      "  -0.35490196 -0.39019608 -0.40196078 -0.40196078 -0.40196078 -0.40196078\n",
      "  -0.40196078 -0.40196078 -0.40980392 -0.37843137  0.42941176  0.5\n",
      "   0.49607843  0.5         0.5         0.5       ]\n",
      " [-0.5        -0.49215686  0.11568627  0.5         0.49215686  0.48823529\n",
      "   0.49607843  0.49215686  0.49607843  0.5         0.5         0.49607843\n",
      "   0.46470588  0.44509804  0.44117647  0.44117647  0.44117647  0.44117647\n",
      "   0.44117647  0.44117647  0.44117647  0.44117647  0.49215686  0.5         0.5\n",
      "   0.5         0.5         0.49607843]\n",
      " [-0.5        -0.49215686 -0.5        -0.02941176  0.44901961  0.5\n",
      "   0.49607843  0.5         0.48431373  0.47647059  0.48039216  0.49607843\n",
      "   0.5         0.5         0.5         0.5         0.5         0.5         0.5\n",
      "   0.5         0.5         0.5         0.5         0.5         0.5\n",
      "   0.49607843  0.49215686  0.49607843]\n",
      " [-0.5        -0.49607843 -0.49215686 -0.5        -0.36666667  0.07647059\n",
      "   0.38235294  0.5         0.5         0.5         0.5         0.5         0.5\n",
      "   0.49607843  0.49607843  0.49607843  0.49607843  0.49607843  0.49607843\n",
      "   0.49607843  0.49607843  0.49607843  0.5         0.5         0.5\n",
      "   0.49215686  0.5         0.29215686]\n",
      " [-0.5        -0.5        -0.49607843 -0.48823529 -0.49607843 -0.5\n",
      "  -0.44117647 -0.18627451  0.04901961  0.20980392  0.35490196  0.41372549\n",
      "   0.45686275  0.5         0.5         0.5         0.5         0.5         0.5\n",
      "   0.5         0.5         0.5         0.5         0.5         0.48823529\n",
      "   0.42941176  0.24509804 -0.3       ]]\n",
      "dataset [0:2,:,:]  [[[-0.5        -0.5        -0.5        ..., -0.5        -0.5        -0.5       ]\n",
      "  [-0.5        -0.5        -0.5        ..., -0.5        -0.5        -0.5       ]\n",
      "  [-0.5        -0.5        -0.49607843 ..., -0.49607843 -0.5        -0.5       ]\n",
      "  ..., \n",
      "  [-0.5        -0.5        -0.49607843 ...,  0.49215686  0.5         0.24117647]\n",
      "  [-0.5        -0.5        -0.5        ...,  0.49215686  0.5         0.24117647]\n",
      "  [-0.5        -0.5        -0.5        ...,  0.49215686  0.5         0.24117647]]\n",
      "\n",
      " [[-0.5        -0.5        -0.5        ..., -0.49607843 -0.5        -0.5       ]\n",
      "  [-0.5        -0.49607843 -0.48431373 ..., -0.49607843 -0.49607843 -0.5       ]\n",
      "  [-0.49607843 -0.5        -0.48431373 ..., -0.44117647 -0.5        -0.49607843]\n",
      "  ..., \n",
      "  [-0.49607843 -0.5        -0.43333334 ..., -0.5        -0.5        -0.5       ]\n",
      "  [-0.5        -0.49607843 -0.5        ..., -0.5        -0.5        -0.5       ]\n",
      "  [-0.5        -0.5        -0.49607843 ..., -0.5        -0.5        -0.5       ]]]\n",
      "Full dataset tensor: (52912L, 28L, 28L)\n",
      "Mean: -0.069899\n",
      "Standard deviation: 0.452942\n",
      "Pickling ./notMNIST_large\\F.pickle.\n",
      "dataset.size  41483008 dataset.shape  (52912L, 28L, 28L)\n",
      "./notMNIST_large\\F\n",
      "expected image number 14925 of 52912 samples\n",
      "images # 14925 , file ./notMNIST_large\\F\\R2VvIDk1NyBXaWRlIE5vcm1hbC50dGY=.png\n"
     ]
    },
    {
     "data": {
      "image/png": "[encoded data removed]",
      "text/plain": [
       "<IPython.core.display.Image object>"
      ]
     },
     "metadata": {},
     "output_type": "display_data"
    },
    {
     "name": "stdout",
     "output_type": "stream",
     "text": [
      "image_data  [[ 0.39803922  0.5         0.49607843  0.5         0.5         0.5         0.5\n",
      "   0.5         0.5         0.5         0.5         0.5         0.5         0.5\n",
      "   0.5         0.5         0.5         0.5         0.5         0.5         0.5\n",
      "   0.5         0.5         0.5         0.5         0.5         0.5         0.5       ]\n",
      " [ 0.39019608  0.5         0.48431373  0.49215686  0.5         0.5         0.5\n",
      "   0.5         0.5         0.5         0.49607843  0.48823529  0.48823529\n",
      "   0.48823529  0.48823529  0.48823529  0.48823529  0.48823529  0.48823529\n",
      "   0.48823529  0.48823529  0.49215686  0.5         0.5         0.5         0.5\n",
      "   0.5         0.5       ]\n",
      " [ 0.42156863  0.5         0.49607843  0.5         0.5         0.5         0.5\n",
      "   0.5         0.5         0.5         0.5         0.5         0.5         0.5\n",
      "   0.5         0.5         0.5         0.5         0.5         0.5         0.5\n",
      "   0.5         0.5         0.5         0.5         0.5         0.5         0.5       ]\n",
      " [ 0.18235294  0.26862745  0.2372549   0.32745098  0.5         0.49607843\n",
      "   0.5         0.5         0.49607843  0.5         0.39411765  0.2372549\n",
      "   0.26078431  0.25686275  0.25686275  0.25686275  0.25686275  0.25686275\n",
      "   0.25686275  0.26078431  0.24117647  0.33921569  0.5         0.49607843\n",
      "   0.5         0.5         0.5         0.5       ]\n",
      " [-0.5        -0.48431373 -0.5        -0.20196078  0.5         0.48431373\n",
      "   0.5         0.5         0.48039216  0.5         0.06862745 -0.5\n",
      "  -0.48039216 -0.5        -0.5        -0.5        -0.5        -0.5        -0.5\n",
      "  -0.48431373 -0.5        -0.16666667  0.5         0.48431373  0.5         0.5\n",
      "   0.5         0.5       ]\n",
      " [-0.49215686 -0.47254902 -0.5        -0.19411765  0.5         0.48431373\n",
      "   0.5         0.5         0.48431373  0.5         0.07254902 -0.5\n",
      "  -0.46862745 -0.48823529 -0.48823529 -0.48823529 -0.48823529 -0.48823529\n",
      "  -0.48823529 -0.47254902 -0.5        -0.15882353  0.5         0.48431373\n",
      "   0.5         0.5         0.5         0.5       ]\n",
      " [-0.5        -0.48431373 -0.5        -0.20196078  0.5         0.48431373\n",
      "   0.5         0.5         0.48039216  0.5         0.06862745 -0.5\n",
      "  -0.48039216 -0.5        -0.5        -0.5        -0.5        -0.5        -0.5\n",
      "  -0.48431373 -0.5        -0.17058824  0.5         0.47254902  0.48823529\n",
      "   0.48823529  0.48823529  0.48823529]\n",
      " [-0.5        -0.48431373 -0.5        -0.20196078  0.5         0.48431373\n",
      "   0.5         0.5         0.48039216  0.5         0.06862745 -0.5\n",
      "  -0.48039216 -0.5        -0.5        -0.5        -0.5        -0.5        -0.5\n",
      "  -0.48431373 -0.5        -0.16666667  0.5         0.48431373  0.5         0.5\n",
      "   0.5         0.5       ]\n",
      " [-0.5        -0.48431373 -0.5        -0.20196078  0.5         0.48431373\n",
      "   0.5         0.5         0.48039216  0.5         0.06862745 -0.5\n",
      "  -0.48039216 -0.5        -0.5        -0.5        -0.5        -0.5        -0.5\n",
      "  -0.48823529 -0.5        -0.25294118  0.29607843  0.22941176  0.24117647\n",
      "   0.24117647  0.24117647  0.24117647]\n",
      " [-0.5        -0.48431373 -0.5        -0.20196078  0.5         0.48431373\n",
      "   0.5         0.5         0.48431373  0.5         0.07254902 -0.5\n",
      "  -0.46862745 -0.48823529 -0.48823529 -0.48823529 -0.48823529 -0.48823529\n",
      "  -0.48823529 -0.48823529 -0.48823529 -0.49215686 -0.5        -0.5        -0.5\n",
      "  -0.5        -0.5        -0.5       ]\n",
      " [-0.5        -0.48431373 -0.5        -0.20196078  0.5         0.48431373\n",
      "   0.5         0.5         0.48039216  0.5         0.06862745 -0.5\n",
      "  -0.48039216 -0.5        -0.5        -0.5        -0.5        -0.5        -0.5\n",
      "  -0.5        -0.5        -0.5        -0.5        -0.5        -0.5\n",
      "  -0.49215686 -0.49215686 -0.49215686]\n",
      " [-0.5        -0.48431373 -0.5        -0.20196078  0.5         0.48431373\n",
      "   0.5         0.5         0.48823529  0.5         0.19803922 -0.26078431\n",
      "  -0.19019608 -0.20196078 -0.20196078 -0.20196078 -0.20196078 -0.20196078\n",
      "  -0.20196078 -0.20196078 -0.20196078 -0.20196078 -0.20588235 -0.18235294\n",
      "  -0.37058824 -0.5        -0.49607843 -0.5       ]\n",
      " [-0.5        -0.48431373 -0.5        -0.20196078  0.5         0.48431373\n",
      "   0.5         0.5         0.5         0.5         0.5         0.5         0.5\n",
      "   0.5         0.5         0.5         0.5         0.5         0.5         0.5\n",
      "   0.5         0.5         0.48431373  0.5        -0.06078431 -0.5\n",
      "  -0.48823529 -0.5       ]\n",
      " [-0.5        -0.48431373 -0.5        -0.20196078  0.5         0.48431373\n",
      "   0.5         0.5         0.5         0.5         0.48823529  0.46470588\n",
      "   0.46862745  0.46862745  0.46862745  0.46862745  0.46862745  0.46862745\n",
      "   0.46862745  0.46862745  0.46862745  0.46862745  0.45294118  0.5\n",
      "  -0.08431373 -0.5        -0.48823529 -0.5       ]\n",
      " [-0.5        -0.48431373 -0.5        -0.20196078  0.5         0.48431373\n",
      "   0.5         0.5         0.5         0.5         0.5         0.5         0.5\n",
      "   0.5         0.5         0.5         0.5         0.5         0.5         0.5\n",
      "   0.5         0.5         0.48431373  0.5        -0.06078431 -0.5\n",
      "  -0.48823529 -0.5       ]\n",
      " [-0.5        -0.48431373 -0.5        -0.20196078  0.5         0.48431373\n",
      "   0.5         0.5         0.49215686  0.5         0.26862745 -0.08039216\n",
      "  -0.0254902  -0.0372549  -0.0372549  -0.0372549  -0.0372549  -0.0372549\n",
      "  -0.0372549  -0.0372549  -0.0372549  -0.0372549  -0.04509804 -0.00980392\n",
      "  -0.3        -0.5        -0.49607843 -0.5       ]\n",
      " [-0.5        -0.48431373 -0.5        -0.20196078  0.5         0.48431373\n",
      "   0.5         0.5         0.48039216  0.5         0.06862745 -0.5\n",
      "  -0.48039216 -0.5        -0.5        -0.5        -0.5        -0.5        -0.5\n",
      "  -0.5        -0.5        -0.5        -0.5        -0.5        -0.5        -0.5\n",
      "  -0.5        -0.5       ]\n",
      " [-0.5        -0.48431373 -0.5        -0.20196078  0.5         0.48431373\n",
      "   0.5         0.5         0.48431373  0.5         0.07647059 -0.5\n",
      "  -0.46078431 -0.48039216 -0.48039216 -0.48039216 -0.48039216 -0.48039216\n",
      "  -0.48039216 -0.48039216 -0.48039216 -0.48039216 -0.48039216 -0.48039216\n",
      "  -0.49215686 -0.5        -0.5        -0.5       ]\n",
      " [-0.5        -0.48431373 -0.5        -0.20196078  0.5         0.48431373\n",
      "   0.5         0.5         0.48039216  0.5         0.06862745 -0.5\n",
      "  -0.48039216 -0.5        -0.5        -0.5        -0.5        -0.5        -0.5\n",
      "  -0.5        -0.5        -0.5        -0.5        -0.5        -0.5        -0.5\n",
      "  -0.5        -0.5       ]\n",
      " [-0.5        -0.48431373 -0.5        -0.20196078  0.5         0.48431373\n",
      "   0.5         0.5         0.48039216  0.5         0.06862745 -0.5\n",
      "  -0.48039216 -0.5        -0.5        -0.5        -0.5        -0.5        -0.5\n",
      "  -0.5        -0.5        -0.5        -0.5        -0.5        -0.5        -0.5\n",
      "  -0.5        -0.5       ]\n",
      " [-0.5        -0.48431373 -0.5        -0.20196078  0.5         0.48431373\n",
      "   0.5         0.5         0.48039216  0.5         0.06862745 -0.5\n",
      "  -0.48039216 -0.5        -0.5        -0.5        -0.5        -0.5        -0.5\n",
      "  -0.5        -0.5        -0.5        -0.5        -0.5        -0.5        -0.5\n",
      "  -0.5        -0.5       ]\n",
      " [-0.5        -0.48431373 -0.5        -0.20196078  0.5         0.48431373\n",
      "   0.5         0.5         0.48039216  0.5         0.06862745 -0.5\n",
      "  -0.48039216 -0.5        -0.5        -0.5        -0.5        -0.5        -0.5\n",
      "  -0.5        -0.5        -0.5        -0.5        -0.5        -0.5        -0.5\n",
      "  -0.5        -0.5       ]\n",
      " [-0.49215686 -0.47254902 -0.5        -0.19411765  0.5         0.48431373\n",
      "   0.5         0.5         0.48431373  0.5         0.07254902 -0.5\n",
      "  -0.46862745 -0.48823529 -0.49215686 -0.5        -0.5        -0.5        -0.5\n",
      "  -0.5        -0.5        -0.5        -0.5        -0.5        -0.5        -0.5\n",
      "  -0.5        -0.5       ]\n",
      " [-0.5        -0.48431373 -0.5        -0.20196078  0.5         0.48431373\n",
      "   0.5         0.5         0.48039216  0.5         0.06862745 -0.5\n",
      "  -0.48039216 -0.5        -0.5        -0.5        -0.5        -0.5        -0.5\n",
      "  -0.5        -0.5        -0.5        -0.5        -0.5        -0.5        -0.5\n",
      "  -0.5        -0.5       ]\n",
      " [ 0.18235294  0.26862745  0.2372549   0.32745098  0.5         0.49607843\n",
      "   0.5         0.5         0.49607843  0.5         0.39411765  0.2372549\n",
      "   0.25294118  0.29607843 -0.0254902  -0.5        -0.49215686 -0.5        -0.5\n",
      "  -0.5        -0.5        -0.5        -0.5        -0.5        -0.5        -0.5\n",
      "  -0.5        -0.5       ]\n",
      " [ 0.42156863  0.5         0.49607843  0.5         0.5         0.5         0.5\n",
      "   0.5         0.5         0.5         0.5         0.5         0.48823529\n",
      "   0.5         0.14705882 -0.5        -0.48823529 -0.5        -0.5        -0.5\n",
      "  -0.5        -0.5        -0.5        -0.5        -0.5        -0.5        -0.5\n",
      "  -0.5       ]\n",
      " [ 0.39019608  0.5         0.48431373  0.49215686  0.5         0.5         0.5\n",
      "   0.5         0.5         0.5         0.49607843  0.48823529  0.47647059\n",
      "   0.5         0.11960784 -0.5        -0.48823529 -0.5        -0.5        -0.5\n",
      "  -0.5        -0.5        -0.5        -0.5        -0.5        -0.5        -0.5\n",
      "  -0.5       ]\n",
      " [ 0.39803922  0.5         0.49607843  0.5         0.5         0.5         0.5\n",
      "   0.5         0.5         0.5         0.5         0.5         0.48823529\n",
      "   0.5         0.12745098 -0.5        -0.48823529 -0.5        -0.5        -0.5\n",
      "  -0.5        -0.5        -0.5        -0.5        -0.5        -0.5        -0.5\n",
      "  -0.5       ]]\n",
      "dataset [0:2,:,:]  [[[-0.5        -0.5        -0.5        ..., -0.5        -0.5        -0.5       ]\n",
      "  [-0.5        -0.5        -0.5        ..., -0.5        -0.5        -0.5       ]\n",
      "  [-0.5        -0.5        -0.48431373 ..., -0.48431373 -0.5        -0.5       ]\n",
      "  ..., \n",
      "  [-0.5        -0.49607843 -0.48823529 ..., -0.5        -0.5        -0.5       ]\n",
      "  [-0.5        -0.5        -0.49607843 ..., -0.5        -0.5        -0.5       ]\n",
      "  [-0.5        -0.5        -0.5        ..., -0.5        -0.5        -0.5       ]]\n",
      "\n",
      " [[-0.5        -0.5        -0.5        ..., -0.05294118 -0.32352942\n",
      "   -0.48039216]\n",
      "  [-0.5        -0.5        -0.5        ...,  0.48039216  0.29607844\n",
      "    0.19019608]\n",
      "  [-0.5        -0.5        -0.5        ...,  0.49215686  0.40588236\n",
      "    0.35490197]\n",
      "  ..., \n",
      "  [ 0.5         0.49607843  0.48823529 ..., -0.5        -0.5        -0.5       ]\n",
      "  [ 0.17450981  0.28823531  0.48039216 ..., -0.5        -0.5        -0.5       ]\n",
      "  [-0.47254902 -0.31568629 -0.04117647 ..., -0.5        -0.5        -0.5       ]]]\n",
      "Full dataset tensor: (52912L, 28L, 28L)\n",
      "Mean: -0.125583\n",
      "Standard deviation: 0.44709\n",
      "Pickling ./notMNIST_large\\G.pickle.\n",
      "dataset.size  41483008 dataset.shape  (52912L, 28L, 28L)\n",
      "./notMNIST_large\\G\n",
      "expected image number 21017 of 52912 samples\n",
      "images # 21017 , file ./notMNIST_large\\G\\RW5nbGlzaCAxMTEgVml2YWNlIEJULnR0Zg==.png\n"
     ]
    },
    {
     "data": {
      "image/png": "[encoded data removed]",
      "text/plain": [
       "<IPython.core.display.Image object>"
      ]
     },
     "metadata": {},
     "output_type": "display_data"
    },
    {
     "name": "stdout",
     "output_type": "stream",
     "text": [
      "image_data  [[-0.5        -0.5        -0.5        -0.5        -0.5        -0.5\n",
      "  -0.49215686 -0.5        -0.39019608 -0.15490196 -0.14313725 -0.20196078\n",
      "  -0.20980392 -0.17058824 -0.1        -0.14705882 -0.40980392 -0.5\n",
      "  -0.49215686 -0.49607843 -0.48431373 -0.5        -0.5        -0.5\n",
      "  -0.42156863 -0.36666667 -0.40980392 -0.5       ]\n",
      " [-0.5        -0.5        -0.5        -0.5        -0.5        -0.49215686\n",
      "  -0.5        -0.29607843 -0.13137255 -0.37058824 -0.5        -0.5        -0.5\n",
      "  -0.5        -0.48431373 -0.31176471 -0.06470588 -0.24117647 -0.5        -0.5\n",
      "  -0.5        -0.41372549 -0.12352941 -0.03333333 -0.12745098 -0.2254902\n",
      "  -0.20980392 -0.24901961]\n",
      " [-0.5        -0.5        -0.5        -0.5        -0.49607843 -0.5\n",
      "  -0.33529412 -0.15098039 -0.5        -0.5        -0.49607843 -0.49215686\n",
      "  -0.49215686 -0.49215686 -0.5        -0.5        -0.48823529 -0.10392157\n",
      "  -0.26470588 -0.41764706  0.07647059  0.19411765 -0.11176471 -0.41764706\n",
      "  -0.5        -0.5        -0.5        -0.21372549]\n",
      " [-0.5        -0.5        -0.5        -0.5        -0.49607843 -0.46862745\n",
      "  -0.11568627 -0.48431373 -0.49607843 -0.49215686 -0.5        -0.5        -0.5\n",
      "  -0.5        -0.5        -0.48431373 -0.5        -0.5         0.17058824\n",
      "   0.39019608  0.04117647 -0.45686275 -0.5        -0.5        -0.49607843\n",
      "  -0.48039216 -0.5        -0.21372549]\n",
      " [-0.5        -0.5        -0.5        -0.49215686 -0.5        -0.28823529\n",
      "  -0.20196078 -0.5        -0.48823529 -0.5        -0.5        -0.5        -0.5\n",
      "  -0.5        -0.49215686 -0.5        -0.44117647  0.20196078  0.38235294\n",
      "   0.08431373 -0.5        -0.5        -0.48431373 -0.5        -0.49607843\n",
      "  -0.5        -0.44117647 -0.09215686]\n",
      " [-0.5        -0.5        -0.5        -0.48823529 -0.5        -0.12352941\n",
      "  -0.27254902 -0.5        -0.49215686 -0.5        -0.5        -0.5        -0.5\n",
      "  -0.49215686 -0.5        -0.41372549  0.33529412  0.39411765 -0.40588235\n",
      "  -0.33137255 -0.10392157 -0.5        -0.49215686 -0.49215686 -0.49607843\n",
      "  -0.5        -0.06862745 -0.34313725]\n",
      " [-0.5        -0.5        -0.5        -0.48431373 -0.5        -0.02941176\n",
      "  -0.20588235 -0.49215686 -0.48823529 -0.5        -0.5        -0.5\n",
      "  -0.49215686 -0.49607843 -0.42156863  0.33137255  0.41764706 -0.40588235\n",
      "  -0.5        -0.49215686 -0.13921569 -0.43333333 -0.48823529 -0.5        -0.5\n",
      "  -0.04901961 -0.2372549  -0.5       ]\n",
      " [-0.5        -0.5        -0.5        -0.48431373 -0.5        -0.05686275\n",
      "   0.08823529 -0.5        -0.47647059 -0.5        -0.5        -0.49607843\n",
      "  -0.48823529 -0.49607843  0.24509804  0.5        -0.32352941 -0.5\n",
      "  -0.48431373 -0.49607843 -0.45686275 -0.47254902 -0.5        -0.38235294\n",
      "   0.03333333 -0.21764706 -0.5        -0.48823529]\n",
      " [-0.5        -0.5        -0.5        -0.49215686 -0.5        -0.33921569\n",
      "   0.48431373 -0.28039216 -0.5        -0.48823529 -0.48431373 -0.47647059\n",
      "  -0.5        -0.01372549  0.5        -0.04117647 -0.5        -0.46862745\n",
      "  -0.48823529 -0.5        -0.5        -0.49607843 -0.09215686  0.08431373\n",
      "  -0.31568627 -0.5        -0.48823529 -0.5       ]\n",
      " [-0.5        -0.5        -0.5        -0.5        -0.49215686 -0.5\n",
      "   0.15490196  0.48823529 -0.18235294 -0.5        -0.5        -0.5\n",
      "  -0.39411765  0.47647059  0.33921569 -0.5        -0.5        -0.5        -0.5\n",
      "  -0.43333333 -0.11176471  0.17058824 -0.05686275 -0.42156863 -0.5\n",
      "  -0.49215686 -0.5        -0.5       ]\n",
      " [-0.5        -0.5        -0.5        -0.5        -0.49607843 -0.49215686\n",
      "  -0.44509804  0.27254902  0.5         0.28039216 -0.05686275 -0.28431373\n",
      "   0.10392157  0.5         0.05294118 -0.33921569 -0.20980392 -0.0254902\n",
      "   0.19803922  0.29215686  0.07254902 -0.38235294 -0.38627451  0.06470588\n",
      "  -0.47254902 -0.49215686 -0.5        -0.5       ]\n",
      " [-0.5        -0.5        -0.5        -0.5        -0.5        -0.49215686\n",
      "  -0.5        -0.46470588  0.02941176  0.46470588  0.5         0.5         0.5\n",
      "   0.5         0.5         0.5         0.46862745  0.3        -0.04117647\n",
      "  -0.38235294 -0.5        -0.46078431  0.35098039 -0.24901961 -0.5\n",
      "  -0.48823529 -0.5        -0.5       ]\n",
      " [-0.5        -0.5        -0.5        -0.49607843 -0.48823529 -0.5        -0.5\n",
      "  -0.5        -0.5        -0.42941176 -0.19411765  0.02941176  0.48823529\n",
      "   0.42941176 -0.05686275 -0.2372549  -0.40196078 -0.5        -0.5        -0.5\n",
      "  -0.37058824  0.31176471  0.23333333 -0.5        -0.49215686 -0.5        -0.5\n",
      "  -0.5       ]\n",
      " [-0.5        -0.5        -0.49215686 -0.5        -0.5        -0.5\n",
      "  -0.39411765 -0.33137255 -0.35490196 -0.5        -0.5        -0.5         0.5\n",
      "   0.22156863 -0.5        -0.5        -0.5        -0.5        -0.5\n",
      "  -0.26862745  0.02156863  0.5        -0.24117647 -0.49607843 -0.48823529\n",
      "  -0.5        -0.5        -0.5       ]\n",
      " [-0.5        -0.49215686 -0.5        -0.45686275 -0.02941176  0.36666667\n",
      "   0.5         0.5         0.48823529  0.3745098   0.00196078 -0.5\n",
      "   0.28039216  0.37843137 -0.5        -0.5        -0.5        -0.4254902\n",
      "  -0.13921569 -0.2372549   0.11176471  0.38627451 -0.48823529 -0.49607843\n",
      "  -0.49607843 -0.5        -0.5        -0.5       ]\n",
      " [-0.49215686 -0.5        -0.31960784  0.37843137  0.5         0.24117647\n",
      "  -0.08823529 -0.25686275 -0.30392157 -0.14705882  0.24117647  0.17058824\n",
      "  -0.38627451  0.22941176 -0.06470588 -0.30392157 -0.22941176 -0.16666667\n",
      "  -0.33921569 -0.40980392  0.5        -0.0254902  -0.5        -0.48431373\n",
      "  -0.5        -0.5        -0.5        -0.5       ]\n",
      " [-0.5        -0.34705882  0.46862745  0.31568627 -0.28431373 -0.5        -0.5\n",
      "  -0.5        -0.5        -0.5        -0.5         0.07647059 -0.01764706\n",
      "  -0.5        -0.31568627 -0.33529412 -0.41764706 -0.5        -0.5\n",
      "   0.15490196  0.49215686 -0.39803922 -0.5        -0.49215686 -0.5        -0.5\n",
      "  -0.5        -0.5       ]\n",
      " [-0.48039216  0.35882353  0.2254902  -0.47254902 -0.5        -0.48823529\n",
      "  -0.48431373 -0.48823529 -0.49215686 -0.48431373 -0.49215686 -0.5\n",
      "   0.1627451  -0.42941176 -0.5        -0.5        -0.5        -0.49607843\n",
      "  -0.30392157  0.5         0.17843137 -0.5        -0.48823529 -0.5        -0.5\n",
      "  -0.5        -0.5        -0.5       ]\n",
      " [-0.04117647  0.37058824 -0.47647059 -0.5        -0.48431373 -0.5        -0.5\n",
      "  -0.5        -0.5        -0.5        -0.48431373 -0.5        -0.00980392\n",
      "  -0.29607843 -0.49215686 -0.48431373 -0.48431373 -0.5         0.24117647\n",
      "   0.5        -0.26470588 -0.5        -0.48823529 -0.5        -0.5        -0.5\n",
      "  -0.5        -0.5       ]\n",
      " [ 0.31176471 -0.20196078 -0.5        -0.48431373 -0.5        -0.5        -0.5\n",
      "  -0.5        -0.5        -0.5        -0.48431373 -0.49607843 -0.04509804\n",
      "  -0.29607843 -0.5        -0.48039216 -0.5        -0.15098039  0.5\n",
      "   0.23333333 -0.5        -0.49215686 -0.5        -0.5        -0.5        -0.5\n",
      "  -0.5        -0.5       ]\n",
      " [ 0.24117647 -0.48039216 -0.49607843 -0.5        -0.5        -0.5        -0.5\n",
      "  -0.5        -0.5        -0.5        -0.49215686 -0.5         0.01764706\n",
      "  -0.41764706 -0.49607843 -0.49215686 -0.41764706  0.39803922  0.49215686\n",
      "  -0.27254902 -0.5        -0.48823529 -0.5        -0.5        -0.5        -0.5\n",
      "  -0.5        -0.5       ]\n",
      " [ 0.08823529 -0.5        -0.49215686 -0.5        -0.49215686 -0.49607843\n",
      "  -0.5        -0.5        -0.5        -0.48431373 -0.5        -0.31960784\n",
      "  -0.03333333 -0.5        -0.48039216 -0.5         0.15490196  0.5\n",
      "   0.06470588 -0.5        -0.48823529 -0.5        -0.5        -0.5        -0.5\n",
      "  -0.5        -0.5        -0.5       ]\n",
      " [-0.00196078 -0.5        -0.49215686 -0.5        -0.5        -0.5        -0.5\n",
      "  -0.5        -0.5        -0.5        -0.41764706  0.02156863 -0.40588235\n",
      "  -0.48039216 -0.5        -0.08823529  0.5         0.3        -0.46078431\n",
      "  -0.49215686 -0.49607843 -0.5        -0.5        -0.5        -0.5        -0.5\n",
      "  -0.5        -0.5       ]\n",
      " [-0.05294118 -0.47254902 -0.49607843 -0.44901961 -0.28823529 -0.42156863\n",
      "  -0.48823529 -0.5        -0.44509804 -0.27254902 -0.04509804 -0.37058824\n",
      "  -0.49607843 -0.5        -0.24117647  0.5         0.3745098  -0.38235294\n",
      "  -0.5        -0.49215686 -0.5        -0.5        -0.5        -0.5        -0.5\n",
      "  -0.5        -0.5        -0.5       ]\n",
      " [-0.24509804 -0.28039216 -0.5        -0.45686275 -0.22941176 -0.13921569\n",
      "  -0.15098039 -0.17843137 -0.17058824 -0.2372549  -0.45686275 -0.5        -0.5\n",
      "  -0.2372549   0.49607843  0.33529412 -0.35098039 -0.5        -0.49215686\n",
      "  -0.5        -0.5        -0.5        -0.5        -0.5        -0.5        -0.5\n",
      "  -0.5        -0.5       ]\n",
      " [-0.48823529 -0.19803922 -0.39411765 -0.5        -0.5        -0.5\n",
      "  -0.48823529 -0.48039216 -0.5        -0.5        -0.5        -0.5\n",
      "  -0.06862745  0.5         0.18627451 -0.4254902  -0.5        -0.48823529\n",
      "  -0.5        -0.5        -0.5        -0.5        -0.5        -0.5        -0.5\n",
      "  -0.5        -0.5        -0.5       ]\n",
      " [-0.5        -0.46862745 -0.24509804 -0.33137255 -0.46078431 -0.5        -0.5\n",
      "  -0.5        -0.5        -0.45294118 -0.23333333  0.21372549  0.32352941\n",
      "  -0.15490196 -0.5        -0.5        -0.49215686 -0.5        -0.5        -0.5\n",
      "  -0.5        -0.5        -0.5        -0.5        -0.5        -0.5        -0.5\n",
      "  -0.5       ]\n",
      " [-0.49607843 -0.5        -0.5        -0.34705882 -0.24509804 -0.24509804\n",
      "  -0.24509804 -0.15490196 -0.06470588  0.08823529  0.1        -0.15490196\n",
      "  -0.5        -0.5        -0.49215686 -0.49607843 -0.5        -0.5        -0.5\n",
      "  -0.5        -0.5        -0.5        -0.5        -0.5        -0.5        -0.5\n",
      "  -0.5        -0.5       ]]\n",
      "dataset [0:2,:,:]  [[[-0.5        -0.5        -0.5        ..., -0.5        -0.5        -0.5       ]\n",
      "  [-0.5        -0.5        -0.5        ..., -0.5        -0.5        -0.5       ]\n",
      "  [-0.5        -0.5        -0.48431373 ..., -0.48431373 -0.5        -0.5       ]\n",
      "  ..., \n",
      "  [-0.5        -0.5        -0.5        ..., -0.48431373 -0.5        -0.5       ]\n",
      "  [-0.5        -0.5        -0.5        ..., -0.5        -0.5        -0.5       ]\n",
      "  [-0.5        -0.5        -0.5        ..., -0.5        -0.5        -0.5       ]]\n",
      "\n",
      " [[-0.5        -0.49607843 -0.49215686 ..., -0.49215686 -0.49607843 -0.5       ]\n",
      "  [-0.5        -0.49215686 -0.5        ..., -0.5        -0.49215686 -0.5       ]\n",
      "  [-0.5        -0.47254902  0.00588235 ..., -0.00588235 -0.47647059 -0.5       ]\n",
      "  ..., \n",
      "  [-0.5        -0.5        -0.5        ..., -0.49215686 -0.49607843 -0.5       ]\n",
      "  [-0.5        -0.5        -0.5        ..., -0.49607843 -0.5        -0.5       ]\n",
      "  [-0.5        -0.5        -0.5        ..., -0.5        -0.5        -0.5       ]]]\n",
      "Full dataset tensor: (52912L, 28L, 28L)\n",
      "Mean: -0.0945814\n",
      "Standard deviation: 0.44624\n",
      "Pickling ./notMNIST_large\\H.pickle.\n",
      "dataset.size  41483008 dataset.shape  (52912L, 28L, 28L)\n",
      "./notMNIST_large\\H\n",
      "expected image number 6517 of 52912 samples\n",
      "images # 6517 , file ./notMNIST_large\\H\\Qm9va21hbkJRLU1lZGl1bS5vdGY=.png\n"
     ]
    },
    {
     "data": {
      "image/png": "[encoded data removed]",
      "text/plain": [
       "<IPython.core.display.Image object>"
      ]
     },
     "metadata": {},
     "output_type": "display_data"
    },
    {
     "name": "stdout",
     "output_type": "stream",
     "text": [
      "image_data  [[ 0.24509804  0.48431373  0.48431373  0.5         0.5         0.5         0.5\n",
      "   0.5         0.5         0.48039216  0.48039216  0.19803922 -0.5\n",
      "  -0.49215686 -0.48039216 -0.5         0.03333333  0.48039216  0.47647059\n",
      "   0.5         0.5         0.5         0.5         0.5         0.5\n",
      "   0.48823529  0.48431373  0.27647059]\n",
      " [ 0.29215686  0.5         0.5         0.49607843  0.5         0.5         0.5\n",
      "   0.5         0.49607843  0.5         0.5         0.24117647 -0.5\n",
      "  -0.49215686 -0.48039216 -0.5         0.06862745  0.5         0.5\n",
      "   0.49607843  0.5         0.5         0.5         0.5         0.49607843\n",
      "   0.5         0.5         0.33529412]\n",
      " [-0.20980392  0.00196078  0.39019608  0.5         0.49607843  0.5         0.5\n",
      "   0.49607843  0.5         0.30784314 -0.01372549 -0.2254902  -0.5\n",
      "  -0.49607843 -0.49215686 -0.5        -0.28823529  0.03333333  0.31960784\n",
      "   0.5         0.49607843  0.5         0.5         0.49607843  0.5\n",
      "   0.43333333  0.07254902 -0.16666667]\n",
      " [-0.5        -0.5        -0.32352941  0.45294118  0.49607843  0.49607843\n",
      "   0.49215686  0.5         0.31960784 -0.45686275 -0.5        -0.5        -0.5\n",
      "  -0.5        -0.5        -0.5        -0.5        -0.5        -0.46470588\n",
      "   0.25294118  0.5         0.48823529  0.49607843  0.49607843  0.45294118\n",
      "  -0.29215686 -0.5        -0.5       ]\n",
      " [-0.48823529 -0.47647059 -0.5         0.2254902   0.5         0.48823529\n",
      "   0.48431373  0.5        -0.06862745 -0.5        -0.46862745 -0.48823529\n",
      "  -0.5        -0.5        -0.5        -0.5        -0.49215686 -0.46862745\n",
      "  -0.5        -0.16666667  0.5         0.48823529  0.48823529  0.5\n",
      "   0.22941176 -0.5        -0.48039216 -0.48823529]\n",
      " [-0.5        -0.48431373 -0.49607843  0.15098039  0.5         0.48431373\n",
      "   0.49215686  0.5        -0.22941176 -0.49607843 -0.48823529 -0.5        -0.5\n",
      "  -0.5        -0.5        -0.5        -0.5        -0.48823529 -0.49607843\n",
      "  -0.26470588  0.5         0.49215686  0.48431373  0.5         0.15098039\n",
      "  -0.49607843 -0.48431373 -0.5       ]\n",
      " [-0.5        -0.48431373 -0.5         0.14313725  0.5         0.48431373\n",
      "   0.49215686  0.5        -0.28039216 -0.5        -0.48823529 -0.5        -0.5\n",
      "  -0.5        -0.5        -0.5        -0.5        -0.48823529 -0.5\n",
      "  -0.28039216  0.5         0.49215686  0.48431373  0.5         0.14313725\n",
      "  -0.5        -0.48431373 -0.5       ]\n",
      " [-0.5        -0.48431373 -0.5         0.14313725  0.5         0.48431373\n",
      "   0.49215686  0.5        -0.28039216 -0.5        -0.48823529 -0.5        -0.5\n",
      "  -0.5        -0.5        -0.5        -0.5        -0.48823529 -0.5\n",
      "  -0.28039216  0.5         0.49215686  0.48431373  0.5         0.14313725\n",
      "  -0.5        -0.48431373 -0.5       ]\n",
      " [-0.5        -0.48431373 -0.5         0.14313725  0.5         0.48431373\n",
      "   0.49215686  0.5        -0.28039216 -0.5        -0.48823529 -0.5        -0.5\n",
      "  -0.5        -0.5        -0.5        -0.5        -0.48823529 -0.5\n",
      "  -0.28039216  0.5         0.49215686  0.48431373  0.5         0.14313725\n",
      "  -0.5        -0.48431373 -0.5       ]\n",
      " [-0.5        -0.48431373 -0.5         0.14313725  0.5         0.48431373\n",
      "   0.49215686  0.5        -0.26862745 -0.48823529 -0.47647059 -0.48823529\n",
      "  -0.48823529 -0.48823529 -0.48823529 -0.48823529 -0.48823529 -0.47647059\n",
      "  -0.48823529 -0.26862745  0.5         0.49215686  0.48431373  0.5\n",
      "   0.14313725 -0.5        -0.48431373 -0.5       ]\n",
      " [-0.5        -0.48431373 -0.5         0.14313725  0.5         0.48431373\n",
      "   0.49215686  0.5        -0.32745098 -0.5        -0.5        -0.5        -0.5\n",
      "  -0.5        -0.5        -0.5        -0.5        -0.5        -0.5\n",
      "  -0.32745098  0.5         0.49215686  0.48431373  0.5         0.14313725\n",
      "  -0.5        -0.48431373 -0.5       ]\n",
      " [-0.5        -0.48431373 -0.5         0.14313725  0.5         0.48431373\n",
      "   0.49607843  0.5         0.27254902  0.20588235  0.20980392  0.20588235\n",
      "   0.20588235  0.20588235  0.20588235  0.20588235  0.20588235  0.20980392\n",
      "   0.20588235  0.27254902  0.5         0.49607843  0.48431373  0.5\n",
      "   0.14313725 -0.5        -0.48431373 -0.5       ]\n",
      " [-0.5        -0.48431373 -0.5         0.14313725  0.5         0.48431373\n",
      "   0.5         0.5         0.5         0.5         0.5         0.5         0.5\n",
      "   0.5         0.5         0.5         0.5         0.5         0.5         0.5\n",
      "   0.5         0.5         0.48431373  0.5         0.14313725 -0.5\n",
      "  -0.48431373 -0.5       ]\n",
      " [-0.5        -0.48431373 -0.5         0.14313725  0.5         0.48431373\n",
      "   0.5         0.5         0.31960784  0.27254902  0.27254902  0.27254902\n",
      "   0.27254902  0.27254902  0.27254902  0.27254902  0.27254902  0.27254902\n",
      "   0.27254902  0.31960784  0.5         0.5         0.48431373  0.5\n",
      "   0.14313725 -0.5        -0.48431373 -0.5       ]\n",
      " [-0.5        -0.48431373 -0.5         0.14313725  0.5         0.48431373\n",
      "   0.49215686  0.5        -0.31176471 -0.5        -0.5        -0.5        -0.5\n",
      "  -0.5        -0.5        -0.5        -0.5        -0.5        -0.5\n",
      "  -0.31176471  0.5         0.49215686  0.48431373  0.5         0.14313725\n",
      "  -0.5        -0.48431373 -0.5       ]\n",
      " [-0.5        -0.48431373 -0.5         0.14313725  0.5         0.48431373\n",
      "   0.49215686  0.5        -0.27254902 -0.49215686 -0.48039216 -0.49215686\n",
      "  -0.49215686 -0.49215686 -0.49215686 -0.49215686 -0.49215686 -0.48039216\n",
      "  -0.49215686 -0.27254902  0.5         0.49215686  0.48431373  0.5\n",
      "   0.14313725 -0.5        -0.48431373 -0.5       ]\n",
      " [-0.5        -0.48431373 -0.5         0.14313725  0.5         0.48431373\n",
      "   0.49215686  0.5        -0.28039216 -0.5        -0.48823529 -0.5        -0.5\n",
      "  -0.5        -0.5        -0.5        -0.5        -0.48823529 -0.5\n",
      "  -0.28039216  0.5         0.49215686  0.48431373  0.5         0.14313725\n",
      "  -0.5        -0.48431373 -0.5       ]\n",
      " [-0.5        -0.48431373 -0.5         0.14313725  0.5         0.48431373\n",
      "   0.49215686  0.5        -0.28039216 -0.5        -0.48823529 -0.5        -0.5\n",
      "  -0.5        -0.5        -0.5        -0.5        -0.48823529 -0.5\n",
      "  -0.28039216  0.5         0.49215686  0.48431373  0.5         0.14313725\n",
      "  -0.5        -0.48431373 -0.5       ]\n",
      " [-0.5        -0.48431373 -0.5         0.14313725  0.5         0.48431373\n",
      "   0.49215686  0.5        -0.28039216 -0.5        -0.48823529 -0.5        -0.5\n",
      "  -0.5        -0.5        -0.5        -0.5        -0.48823529 -0.5\n",
      "  -0.28039216  0.5         0.49215686  0.48431373  0.5         0.14313725\n",
      "  -0.5        -0.48431373 -0.5       ]\n",
      " [-0.5        -0.48431373 -0.5         0.14313725  0.5         0.48431373\n",
      "   0.49215686  0.5        -0.28039216 -0.5        -0.48823529 -0.5        -0.5\n",
      "  -0.5        -0.5        -0.5        -0.5        -0.48823529 -0.5\n",
      "  -0.28039216  0.5         0.49215686  0.48431373  0.5         0.14313725\n",
      "  -0.5        -0.48431373 -0.5       ]\n",
      " [-0.5        -0.48431373 -0.5         0.14313725  0.5         0.48431373\n",
      "   0.49215686  0.5        -0.28039216 -0.5        -0.48823529 -0.5        -0.5\n",
      "  -0.5        -0.5        -0.5        -0.5        -0.48823529 -0.5\n",
      "  -0.28039216  0.5         0.49215686  0.48431373  0.5         0.14313725\n",
      "  -0.5        -0.48431373 -0.5       ]\n",
      " [-0.5        -0.48431373 -0.5         0.14313725  0.5         0.48431373\n",
      "   0.49215686  0.5        -0.27647059 -0.5        -0.48823529 -0.5        -0.5\n",
      "  -0.5        -0.5        -0.5        -0.5        -0.48823529 -0.5\n",
      "  -0.28039216  0.5         0.49215686  0.48431373  0.5         0.14313725\n",
      "  -0.5        -0.48431373 -0.5       ]\n",
      " [-0.5        -0.48431373 -0.49215686  0.14313725  0.5         0.48431373\n",
      "   0.49215686  0.5        -0.22941176 -0.49607843 -0.48823529 -0.5        -0.5\n",
      "  -0.5        -0.5        -0.5        -0.5        -0.48823529 -0.5\n",
      "  -0.26078431  0.5         0.49215686  0.48431373  0.5         0.14313725\n",
      "  -0.49215686 -0.48431373 -0.5       ]\n",
      " [-0.48823529 -0.48039216 -0.5         0.23333333  0.5         0.48823529\n",
      "   0.48431373  0.5        -0.04117647 -0.5        -0.47254902 -0.49215686\n",
      "  -0.5        -0.5        -0.5        -0.5        -0.49215686 -0.46862745\n",
      "  -0.49607843 -0.17058824  0.5         0.48823529  0.48823529  0.5\n",
      "   0.20588235 -0.5        -0.48039216 -0.48823529]\n",
      " [-0.5        -0.5        -0.26078431  0.46470588  0.49607843  0.49607843\n",
      "   0.49215686  0.49607843  0.3627451  -0.39411765 -0.5        -0.5        -0.5\n",
      "  -0.5        -0.5        -0.5        -0.5        -0.5        -0.5\n",
      "   0.19803922  0.5         0.48823529  0.49607843  0.49607843  0.44117647\n",
      "  -0.31176471 -0.5        -0.5       ]\n",
      " [-0.18235294  0.08823529  0.45294118  0.5         0.49607843  0.5         0.5\n",
      "   0.49607843  0.5         0.38627451  0.05686275 -0.24509804 -0.5\n",
      "  -0.49215686 -0.49215686 -0.5        -0.29215686 -0.05686275  0.20196078\n",
      "   0.5         0.49607843  0.5         0.5         0.49607843  0.5\n",
      "   0.42156863  0.08823529 -0.16666667]\n",
      " [ 0.29607843  0.5         0.5         0.5         0.5         0.5         0.5\n",
      "   0.5         0.49607843  0.5         0.5         0.14705882 -0.5\n",
      "  -0.48431373 -0.48431373 -0.5         0.08431373  0.5         0.5\n",
      "   0.49607843  0.5         0.5         0.5         0.5         0.49607843\n",
      "   0.5         0.5         0.3       ]\n",
      " [ 0.24117647  0.48431373  0.48823529  0.5         0.5         0.5         0.5\n",
      "   0.5         0.5         0.47647059  0.48431373  0.10392157 -0.5\n",
      "  -0.48431373 -0.48431373 -0.5         0.06862745  0.48431373  0.47254902\n",
      "   0.5         0.5         0.5         0.5         0.5         0.5\n",
      "   0.48823529  0.48431373  0.24117647]]\n",
      "dataset [0:2,:,:]  [[[ 0.0254902  -0.5        -0.49215686 ..., -0.5        -0.5        -0.5       ]\n",
      "  [ 0.5         0.06470589 -0.5        ..., -0.5        -0.5        -0.5       ]\n",
      "  [ 0.48823529  0.5         0.10784314 ..., -0.5        -0.5        -0.5       ]\n",
      "  ..., \n",
      "  [ 0.5         0.5         0.5        ..., -0.48823529 -0.49607843 -0.5       ]\n",
      "  [ 0.5         0.5         0.5        ..., -0.49607843 -0.5        -0.5       ]\n",
      "  [ 0.5         0.5         0.5        ..., -0.5        -0.5        -0.5       ]]\n",
      "\n",
      " [[-0.43333334  0.07254902  0.37843138 ..., -0.5        -0.5        -0.5       ]\n",
      "  [ 0.22156863  0.5         0.49607843 ..., -0.5        -0.5        -0.5       ]\n",
      "  [ 0.5         0.48823529  0.49607843 ..., -0.5        -0.5        -0.5       ]\n",
      "  ..., \n",
      "  [ 0.5         0.48823529  0.49607843 ...,  0.49607843  0.48823529  0.5       ]\n",
      "  [ 0.20588236  0.5         0.49607843 ...,  0.49607843  0.5         0.20588236]\n",
      "  [-0.44509804  0.06470589  0.37450981 ...,  0.37843138  0.06470589\n",
      "   -0.44509804]]]\n",
      "Full dataset tensor: (52912L, 28L, 28L)\n",
      "Mean: -0.0685221\n",
      "Standard deviation: 0.454232\n",
      "Pickling ./notMNIST_large\\I.pickle.\n",
      "dataset.size  41483008 dataset.shape  (52912L, 28L, 28L)\n",
      "./notMNIST_large\\I\n",
      "expected image number 42862 of 52912 samples\n",
      "images # 42862 , file ./notMNIST_large\\I\\UGVleCBMaWdodC50dGY=.png\n"
     ]
    },
    {
     "data": {
      "image/png": "[encoded data removed]",
      "text/plain": [
       "<IPython.core.display.Image object>"
      ]
     },
     "metadata": {},
     "output_type": "display_data"
    },
    {
     "name": "stdout",
     "output_type": "stream",
     "text": [
      "image_data  [[-0.5        -0.5        -0.5        -0.39411765 -0.2372549  -0.09607843\n",
      "   0.04901961  0.1745098   0.28823529  0.33921569  0.38235294  0.41764706\n",
      "   0.44509804  0.47254902  0.47254902  0.44117647  0.41372549  0.37843137\n",
      "   0.33137255  0.27254902  0.15490196  0.02941176 -0.11176471 -0.24509804\n",
      "  -0.40196078 -0.5        -0.5        -0.5       ]\n",
      " [-0.31176471 -0.14705882  0.1745098   0.34705882  0.48039216  0.5         0.5\n",
      "   0.5         0.5         0.5         0.5         0.5         0.5         0.5\n",
      "   0.5         0.5         0.5         0.5         0.5         0.5         0.5\n",
      "   0.5         0.5         0.48039216  0.33529412  0.15882353 -0.15882353\n",
      "  -0.31960784]\n",
      " [ 0.37058824  0.40980392  0.48039216  0.49607843  0.48823529  0.48823529\n",
      "   0.48823529  0.49215686  0.49215686  0.49607843  0.49607843  0.49607843\n",
      "   0.49607843  0.5         0.5         0.49607843  0.49607843  0.49607843\n",
      "   0.49607843  0.49215686  0.49215686  0.48823529  0.48823529  0.48823529\n",
      "   0.49607843  0.48039216  0.40588235  0.36666667]\n",
      " [ 0.13921569  0.24509804  0.44901961  0.5         0.5         0.5         0.5\n",
      "   0.49215686  0.48823529  0.48823529  0.48823529  0.48431373  0.48431373\n",
      "   0.48431373  0.48431373  0.48431373  0.48431373  0.48823529  0.48823529\n",
      "   0.48823529  0.49215686  0.5         0.5         0.5         0.5\n",
      "   0.44901961  0.24117647  0.13529412]\n",
      " [-0.48823529 -0.3745098  -0.14705882  0.06078431  0.29215686  0.39411765\n",
      "   0.47647059  0.49215686  0.5         0.5         0.5         0.5         0.5\n",
      "   0.5         0.5         0.5         0.5         0.5         0.5         0.5\n",
      "   0.48823529  0.46862745  0.38235294  0.28039216  0.04901961 -0.15882353\n",
      "  -0.37843137 -0.49215686]\n",
      " [-0.5        -0.5        -0.5        -0.5        -0.49607843 -0.4254902\n",
      "  -0.33921569 -0.2254902  -0.12352941 -0.06470588 -0.01372549  0.02941176\n",
      "   0.06078431  0.08823529  0.08431373  0.05686275  0.02156863 -0.01764706\n",
      "  -0.07254902 -0.13921569 -0.24117647 -0.34705882 -0.42941176 -0.5        -0.5\n",
      "  -0.5        -0.5        -0.5       ]\n",
      " [-0.49607843 -0.49215686 -0.48039216 -0.48431373 -0.49607843 -0.49607843\n",
      "  -0.5        -0.5        -0.5        -0.5        -0.5        -0.5        -0.5\n",
      "  -0.5        -0.5        -0.5        -0.5        -0.5        -0.5        -0.5\n",
      "  -0.5        -0.5        -0.49607843 -0.49607843 -0.48431373 -0.48039216\n",
      "  -0.49215686 -0.49607843]\n",
      " [-0.5        -0.5        -0.5        -0.5        -0.5        -0.44901961\n",
      "  -0.38627451 -0.28431373 -0.18627451 -0.12745098 -0.08039216 -0.04117647\n",
      "  -0.00980392  0.02156863  0.01764706 -0.00980392 -0.04509804 -0.08823529\n",
      "  -0.13921569 -0.20196078 -0.29607843 -0.39411765 -0.45294118 -0.5        -0.5\n",
      "  -0.5        -0.5        -0.5       ]\n",
      " [-0.5        -0.40196078 -0.21372549 -0.01372549  0.2254902   0.33921569\n",
      "   0.4372549   0.47254902  0.5         0.5         0.5         0.5         0.5\n",
      "   0.5         0.5         0.5         0.5         0.5         0.5         0.5\n",
      "   0.46470588  0.4254902   0.32745098  0.20980392 -0.02941176 -0.23333333\n",
      "  -0.40980392 -0.5       ]\n",
      " [ 0.06862745  0.19411765  0.4372549   0.5         0.5         0.5         0.5\n",
      "   0.49607843  0.49215686  0.48823529  0.48823529  0.48431373  0.48431373\n",
      "   0.48431373  0.48431373  0.48431373  0.48431373  0.48823529  0.48823529\n",
      "   0.49215686  0.49607843  0.5         0.5         0.5         0.5\n",
      "   0.4372549   0.18627451  0.05686275]\n",
      " [ 0.39803922  0.4254902   0.48431373  0.49215686  0.47647059  0.47647059\n",
      "   0.48039216  0.48431373  0.48823529  0.49215686  0.49215686  0.49607843\n",
      "   0.49607843  0.49607843  0.49607843  0.49607843  0.49607843  0.49215686\n",
      "   0.49215686  0.48823529  0.48431373  0.48039216  0.48039216  0.48039216\n",
      "   0.49215686  0.48431373  0.4254902   0.39411765]\n",
      " [-0.26078431 -0.09215686  0.24117647  0.38627451  0.48823529  0.5         0.5\n",
      "   0.5         0.5         0.5         0.5         0.5         0.5         0.5\n",
      "   0.5         0.5         0.5         0.5         0.5         0.5         0.5\n",
      "   0.5         0.5         0.48431373  0.37843137  0.22941176 -0.1\n",
      "  -0.26862745]\n",
      " [-0.5        -0.49215686 -0.47647059 -0.3627451  -0.19411765 -0.05686275\n",
      "   0.08039216  0.19411765  0.3         0.34313725  0.38235294  0.40980392\n",
      "   0.4372549   0.45686275  0.45686275  0.43333333  0.40588235  0.37843137\n",
      "   0.33529412  0.28431373  0.17843137  0.06470588 -0.07254902 -0.20588235\n",
      "  -0.37058824 -0.48431373 -0.49607843 -0.5       ]\n",
      " [-0.49215686 -0.49607843 -0.5        -0.5        -0.5        -0.5        -0.5\n",
      "  -0.5        -0.5        -0.48039216 -0.46470588 -0.45294118 -0.44117647\n",
      "  -0.43333333 -0.43333333 -0.44117647 -0.45294118 -0.46862745 -0.48431373\n",
      "  -0.5        -0.5        -0.5        -0.5        -0.5        -0.5        -0.5\n",
      "  -0.49607843 -0.49215686]\n",
      " [-0.49215686 -0.49607843 -0.5        -0.5        -0.5        -0.5        -0.5\n",
      "  -0.5        -0.5        -0.48039216 -0.46470588 -0.45294118 -0.44117647\n",
      "  -0.43333333 -0.43333333 -0.44509804 -0.45686275 -0.46862745 -0.48431373\n",
      "  -0.5        -0.5        -0.5        -0.5        -0.5        -0.5        -0.5\n",
      "  -0.49607843 -0.49215686]\n",
      " [-0.5        -0.49215686 -0.48039216 -0.36666667 -0.19411765 -0.05686275\n",
      "   0.08039216  0.19411765  0.29607843  0.34313725  0.38235294  0.40980392\n",
      "   0.4372549   0.45686275  0.45686275  0.43333333  0.40588235  0.37843137\n",
      "   0.33529412  0.28431373  0.17843137  0.06078431 -0.07254902 -0.20588235\n",
      "  -0.3745098  -0.48823529 -0.49607843 -0.5       ]\n",
      " [-0.26862745 -0.1         0.23333333  0.38627451  0.48431373  0.5         0.5\n",
      "   0.5         0.5         0.5         0.5         0.5         0.5         0.5\n",
      "   0.5         0.5         0.5         0.5         0.5         0.5         0.5\n",
      "   0.5         0.5         0.48431373  0.3745098   0.22156863 -0.10784314\n",
      "  -0.27647059]\n",
      " [ 0.39411765  0.4254902   0.48431373  0.49215686  0.47647059  0.47647059\n",
      "   0.48039216  0.48431373  0.48823529  0.49215686  0.49215686  0.49607843\n",
      "   0.49607843  0.49607843  0.49607843  0.49607843  0.49607843  0.49215686\n",
      "   0.49215686  0.48823529  0.48431373  0.48039216  0.48039216  0.48039216\n",
      "   0.49215686  0.48431373  0.41764706  0.38627451]\n",
      " [ 0.08431373  0.20588235  0.44117647  0.5         0.5         0.5         0.5\n",
      "   0.49607843  0.49215686  0.48823529  0.48823529  0.48431373  0.48431373\n",
      "   0.48431373  0.48431373  0.48431373  0.48431373  0.48823529  0.48823529\n",
      "   0.49215686  0.49607843  0.5         0.5         0.5         0.5\n",
      "   0.4372549   0.19411765  0.06862745]\n",
      " [-0.5        -0.40196078 -0.21372549 -0.00980392  0.22941176  0.33921569\n",
      "   0.4372549   0.47254902  0.5         0.5         0.5         0.5         0.5\n",
      "   0.5         0.5         0.5         0.5         0.5         0.5         0.5\n",
      "   0.46862745  0.42941176  0.32745098  0.20980392 -0.02941176 -0.23333333\n",
      "  -0.40980392 -0.5       ]\n",
      " [-0.5        -0.5        -0.5        -0.5        -0.5        -0.44901961\n",
      "  -0.38627451 -0.28431373 -0.18627451 -0.12745098 -0.07647059 -0.0372549\n",
      "  -0.00588235  0.02156863  0.01764706 -0.00980392 -0.04509804 -0.08431373\n",
      "  -0.13921569 -0.20196078 -0.29607843 -0.39411765 -0.45294118 -0.5        -0.5\n",
      "  -0.5        -0.5        -0.5       ]\n",
      " [-0.49607843 -0.49215686 -0.48039216 -0.48431373 -0.49607843 -0.49607843\n",
      "  -0.5        -0.5        -0.5        -0.5        -0.5        -0.5        -0.5\n",
      "  -0.5        -0.5        -0.5        -0.5        -0.5        -0.5        -0.5\n",
      "  -0.5        -0.5        -0.49607843 -0.49215686 -0.48039216 -0.48039216\n",
      "  -0.49215686 -0.49607843]\n",
      " [-0.5        -0.5        -0.5        -0.5        -0.5        -0.42941176\n",
      "  -0.34313725 -0.22941176 -0.12745098 -0.06862745 -0.01764706  0.0254902\n",
      "   0.05686275  0.08823529  0.08431373  0.05294118  0.01764706 -0.0254902\n",
      "  -0.08039216 -0.14313725 -0.24509804 -0.35490196 -0.43333333 -0.5        -0.5\n",
      "  -0.5        -0.5        -0.5       ]\n",
      " [-0.49607843 -0.38235294 -0.1627451   0.04509804  0.28039216  0.38627451\n",
      "   0.47254902  0.48823529  0.5         0.5         0.5         0.5         0.5\n",
      "   0.5         0.5         0.5         0.5         0.5         0.5         0.5\n",
      "   0.48431373  0.46078431  0.3745098   0.26862745  0.02941176 -0.18235294\n",
      "  -0.39411765 -0.5       ]\n",
      " [ 0.11960784  0.22941176  0.44509804  0.5         0.5         0.5         0.5\n",
      "   0.49215686  0.48823529  0.48823529  0.48823529  0.48431373  0.48431373\n",
      "   0.48431373  0.48431373  0.48431373  0.48431373  0.48823529  0.48823529\n",
      "   0.48823529  0.49215686  0.5         0.5         0.5         0.5\n",
      "   0.44509804  0.22156863  0.10784314]\n",
      " [ 0.37843137  0.41372549  0.48431373  0.49607843  0.48823529  0.48823529\n",
      "   0.48823529  0.49215686  0.49215686  0.49607843  0.49607843  0.49607843\n",
      "   0.49607843  0.5         0.5         0.49607843  0.49607843  0.49607843\n",
      "   0.49607843  0.49215686  0.49215686  0.48823529  0.48823529  0.48823529\n",
      "   0.49607843  0.48039216  0.40980392  0.3745098 ]\n",
      " [-0.30784314 -0.14313725  0.17843137  0.34705882  0.48039216  0.5         0.5\n",
      "   0.5         0.5         0.5         0.5         0.5         0.5         0.5\n",
      "   0.5         0.5         0.5         0.5         0.5         0.5         0.5\n",
      "   0.5         0.5         0.48039216  0.33921569  0.16666667 -0.15098039\n",
      "  -0.31176471]\n",
      " [-0.5        -0.5        -0.5        -0.39411765 -0.2372549  -0.09607843\n",
      "   0.04901961  0.1745098   0.28823529  0.33921569  0.38627451  0.42156863\n",
      "   0.44901961  0.47254902  0.47254902  0.44117647  0.41372549  0.37843137\n",
      "   0.33137255  0.27254902  0.15882353  0.03333333 -0.10784314 -0.24509804\n",
      "  -0.40196078 -0.5        -0.5        -0.5       ]]\n",
      "dataset [0:2,:,:]  [[[ 0.5         0.5         0.5        ...,  0.5         0.5         0.5       ]\n",
      "  [ 0.5         0.5         0.5        ...,  0.5         0.5         0.5       ]\n",
      "  [ 0.5         0.5         0.5        ...,  0.5         0.5         0.5       ]\n",
      "  ..., \n",
      "  [ 0.5         0.5         0.5        ...,  0.5         0.5         0.5       ]\n",
      "  [ 0.5         0.5         0.5        ...,  0.5         0.5         0.5       ]\n",
      "  [ 0.5         0.5         0.5        ...,  0.5         0.5         0.5       ]]\n",
      "\n",
      " [[-0.5        -0.39803922 -0.22941177 ..., -0.5        -0.5        -0.5       ]\n",
      "  [-0.14313726  0.08039216  0.46078432 ..., -0.5        -0.5        -0.5       ]\n",
      "  [ 0.39019608  0.4254902   0.48823529 ..., -0.5        -0.5        -0.5       ]\n",
      "  ..., \n",
      "  [-0.5        -0.5        -0.5        ...,  0.48039216  0.3509804\n",
      "    0.2764706 ]\n",
      "  [-0.5        -0.5        -0.5        ...,  0.42156863  0.00980392\n",
      "   -0.22941177]\n",
      "  [-0.5        -0.5        -0.5        ..., -0.28823531 -0.42156863 -0.5       ]]]\n",
      "Full dataset tensor: (52912L, 28L, 28L)\n",
      "Mean: 0.0307862\n",
      "Standard deviation: 0.468899\n",
      "Pickling ./notMNIST_large\\J.pickle.\n",
      "dataset.size  41482224 dataset.shape  (52911L, 28L, 28L)\n",
      "./notMNIST_large\\J\n",
      "expected image number 34892 of 52911 samples\n",
      "images # 34892 , file ./notMNIST_large\\J\\TWFzc2l2ZUhlYWRhY2hlMy50dGY=.png\n"
     ]
    },
    {
     "data": {
      "image/png": "[encoded data removed]",
      "text/plain": [
       "<IPython.core.display.Image object>"
      ]
     },
     "metadata": {},
     "output_type": "display_data"
    },
    {
     "name": "stdout",
     "output_type": "stream",
     "text": [
      "image_data  [[-0.5        -0.5        -0.5        -0.5        -0.5        -0.5        -0.5\n",
      "  -0.5        -0.5        -0.5        -0.5        -0.5        -0.49607843\n",
      "  -0.5        -0.46078431 -0.27647059 -0.10392157  0.08823529  0.26470588\n",
      "   0.4254902   0.5         0.5         0.5         0.48431373  0.5\n",
      "   0.17843137 -0.5        -0.49607843]\n",
      " [-0.5        -0.5        -0.5        -0.5        -0.5        -0.5        -0.5\n",
      "  -0.5        -0.5        -0.5        -0.5        -0.5        -0.49215686\n",
      "  -0.5         0.04509804  0.5         0.48823529  0.5         0.5         0.5\n",
      "   0.5         0.5         0.5         0.49607843  0.5         0.46470588\n",
      "  -0.3627451  -0.5       ]\n",
      " [-0.5        -0.5        -0.5        -0.5        -0.5        -0.5        -0.5\n",
      "  -0.5        -0.5        -0.5        -0.5        -0.5        -0.48823529\n",
      "  -0.5         0.02156863  0.5         0.47254902  0.48823529  0.49215686\n",
      "   0.5         0.5         0.5         0.5         0.5         0.49215686\n",
      "   0.5        -0.0254902  -0.5       ]\n",
      " [-0.5        -0.5        -0.5        -0.5        -0.5        -0.5        -0.5\n",
      "  -0.5        -0.5        -0.5        -0.5        -0.5        -0.48431373\n",
      "  -0.5        -0.13137255  0.5         0.48823529  0.5         0.5         0.5\n",
      "   0.5         0.5         0.5         0.5         0.49215686  0.5\n",
      "   0.31176471 -0.48823529]\n",
      " [-0.5        -0.5        -0.5        -0.5        -0.5        -0.5        -0.5\n",
      "  -0.5        -0.5        -0.5        -0.5        -0.5        -0.49607843\n",
      "  -0.5        -0.44509804  0.35882353  0.5         0.49215686  0.5         0.5\n",
      "   0.5         0.5         0.5         0.5         0.49607843  0.5         0.5\n",
      "  -0.19803922]\n",
      " [-0.5        -0.5        -0.5        -0.5        -0.5        -0.5        -0.5\n",
      "  -0.5        -0.5        -0.5        -0.5        -0.5        -0.5\n",
      "  -0.48823529 -0.5         0.14313725  0.5         0.48823529  0.5         0.5\n",
      "   0.5         0.5         0.5         0.5         0.5         0.48823529\n",
      "   0.5         0.13921569]\n",
      " [-0.5        -0.5        -0.5        -0.5        -0.5        -0.5        -0.5\n",
      "  -0.5        -0.5        -0.5        -0.5        -0.5        -0.5\n",
      "  -0.49215686 -0.5        -0.15882353  0.5         0.49215686  0.5         0.5\n",
      "   0.5         0.5         0.5         0.5         0.5         0.5         0.5\n",
      "   0.47254902]\n",
      " [-0.5        -0.5        -0.5        -0.5        -0.5        -0.5        -0.5\n",
      "  -0.5        -0.5        -0.5        -0.5        -0.5        -0.5\n",
      "  -0.49215686 -0.5        -0.36666667  0.46078431  0.5         0.49607843\n",
      "   0.5         0.5         0.5         0.5         0.5         0.5         0.5\n",
      "   0.5         0.5       ]\n",
      " [-0.5        -0.5        -0.5        -0.5        -0.5        -0.5        -0.5\n",
      "  -0.5        -0.5        -0.5        -0.5        -0.5        -0.5\n",
      "  -0.49607843 -0.5        -0.49215686  0.23333333  0.5         0.48823529\n",
      "   0.5         0.5         0.5         0.5         0.5         0.5         0.5\n",
      "   0.5         0.49607843]\n",
      " [-0.5        -0.5        -0.5        -0.5        -0.5        -0.5        -0.5\n",
      "  -0.5        -0.5        -0.5        -0.5        -0.5        -0.5        -0.5\n",
      "  -0.48039216 -0.5         0.07254902  0.5         0.48039216  0.5         0.5\n",
      "   0.5         0.5         0.5         0.5         0.5         0.5         0.5       ]\n",
      " [-0.5        -0.5        -0.5        -0.5        -0.5        -0.5        -0.5\n",
      "  -0.5        -0.5        -0.5        -0.5        -0.5        -0.5        -0.5\n",
      "  -0.48039216 -0.5         0.06862745  0.5         0.48039216  0.5         0.5\n",
      "   0.5         0.5         0.5         0.5         0.5         0.5         0.5       ]\n",
      " [-0.5        -0.5        -0.5        -0.5        -0.5        -0.5        -0.5\n",
      "  -0.5        -0.5        -0.5        -0.5        -0.5        -0.5        -0.5\n",
      "  -0.48039216 -0.5         0.06862745  0.5         0.48039216  0.5         0.5\n",
      "   0.5         0.5         0.5         0.5         0.5         0.5         0.5       ]\n",
      " [-0.5        -0.5        -0.5        -0.5        -0.5        -0.5        -0.5\n",
      "  -0.5        -0.5        -0.5        -0.5        -0.5        -0.5        -0.5\n",
      "  -0.48039216 -0.5         0.06862745  0.5         0.48039216  0.5         0.5\n",
      "   0.5         0.5         0.5         0.5         0.5         0.5         0.5       ]\n",
      " [-0.49607843 -0.49607843 -0.48823529 -0.48823529 -0.48431373 -0.48431373\n",
      "  -0.48431373 -0.48431373 -0.49215686 -0.48431373 -0.48431373 -0.49607843\n",
      "  -0.5        -0.5        -0.48039216 -0.5         0.06862745  0.5\n",
      "   0.48039216  0.5         0.5         0.5         0.5         0.5         0.5\n",
      "   0.5         0.5         0.5       ]\n",
      " [-0.5        -0.5        -0.5        -0.5        -0.5        -0.5        -0.5\n",
      "  -0.5        -0.5        -0.5        -0.5        -0.5        -0.5        -0.5\n",
      "  -0.48039216 -0.5         0.06862745  0.5         0.48039216  0.5         0.5\n",
      "   0.5         0.5         0.5         0.5         0.5         0.5         0.5       ]\n",
      " [-0.48823529 -0.41372549 -0.28823529 -0.26078431 -0.18627451 -0.07647059\n",
      "   0.0372549   0.15490196  0.20980392  0.17843137  0.02156863 -0.43333333\n",
      "  -0.5        -0.49607843 -0.48039216 -0.5         0.06862745  0.5\n",
      "   0.48039216  0.5         0.5         0.5         0.5         0.5         0.5\n",
      "   0.5         0.5         0.5       ]\n",
      " [ 0.29607843  0.45294118  0.49607843  0.5         0.5         0.5         0.5\n",
      "   0.5         0.5         0.49607843  0.5        -0.15098039 -0.5\n",
      "  -0.48823529 -0.48039216 -0.5         0.06862745  0.5         0.48039216\n",
      "   0.5         0.5         0.5         0.5         0.5         0.5         0.5\n",
      "   0.5         0.5       ]\n",
      " [ 0.37058824  0.5         0.49607843  0.49607843  0.48823529  0.48431373\n",
      "   0.48431373  0.48431373  0.48823529  0.47647059  0.5        -0.06470588\n",
      "  -0.5        -0.48431373 -0.47647059 -0.5         0.06862745  0.5\n",
      "   0.48039216  0.5         0.5         0.5         0.5         0.5         0.5\n",
      "   0.5         0.5         0.5       ]\n",
      " [ 0.20588235  0.5         0.49215686  0.5         0.5         0.5         0.5\n",
      "   0.5         0.5         0.48431373  0.5         0.02156863 -0.5\n",
      "  -0.48039216 -0.48039216 -0.5         0.06862745  0.5         0.48039216\n",
      "   0.5         0.5         0.5         0.5         0.5         0.5         0.5\n",
      "   0.5         0.5       ]\n",
      " [ 0.08823529  0.5         0.48823529  0.5         0.5         0.5         0.5\n",
      "   0.5         0.5         0.48823529  0.5         0.19411765 -0.5\n",
      "  -0.49607843 -0.47254902 -0.5        -0.03333333  0.5         0.49215686\n",
      "   0.5         0.5         0.5         0.5         0.5         0.5         0.5\n",
      "   0.5         0.5       ]\n",
      " [-0.04509804  0.5         0.48431373  0.5         0.5         0.5         0.5\n",
      "   0.5         0.5         0.5         0.5         0.47254902  0.26078431\n",
      "   0.27647059  0.33529412  0.39019608  0.42941176  0.49215686  0.5         0.5\n",
      "   0.5         0.5         0.5         0.5         0.5         0.5         0.5\n",
      "   0.49607843]\n",
      " [-0.31960784  0.42156863  0.5         0.49607843  0.5         0.5         0.5\n",
      "   0.5         0.5         0.5         0.5         0.5         0.5         0.5\n",
      "   0.5         0.5         0.5         0.5         0.5         0.5         0.5\n",
      "   0.5         0.5         0.5         0.5         0.49215686  0.5\n",
      "   0.21764706]\n",
      " [-0.5         0.05686275  0.5         0.48431373  0.5         0.5         0.5\n",
      "   0.5         0.5         0.5         0.5         0.5         0.48823529\n",
      "   0.48823529  0.49215686  0.49215686  0.49607843  0.5         0.5         0.5\n",
      "   0.5         0.5         0.5         0.5         0.5         0.48431373\n",
      "   0.5        -0.13921569]\n",
      " [-0.5        -0.40588235  0.39411765  0.5         0.48431373  0.5         0.5\n",
      "   0.5         0.5         0.5         0.5         0.5         0.5         0.5\n",
      "   0.5         0.5         0.5         0.5         0.5         0.5         0.5\n",
      "   0.5         0.5         0.5         0.48039216  0.5         0.25294118\n",
      "  -0.47647059]\n",
      " [-0.48823529 -0.5        -0.21372549  0.45686275  0.5         0.48823529\n",
      "   0.48823529  0.49607843  0.5         0.5         0.5         0.5         0.5\n",
      "   0.5         0.5         0.5         0.5         0.5         0.5         0.5\n",
      "   0.5         0.49215686  0.48431373  0.48823529  0.5         0.3745098\n",
      "  -0.35490196 -0.5       ]\n",
      " [-0.5        -0.49215686 -0.5        -0.28823529  0.31960784  0.5\n",
      "   0.49607843  0.5         0.49607843  0.48823529  0.48823529  0.49215686\n",
      "   0.5         0.5         0.5         0.5         0.49607843  0.49607843\n",
      "   0.49215686  0.48823529  0.49215686  0.5         0.5         0.49607843\n",
      "   0.18627451 -0.39803922 -0.5        -0.49215686]\n",
      " [-0.5        -0.5        -0.49215686 -0.5        -0.47647059 -0.17058824\n",
      "   0.19411765  0.42156863  0.5         0.5         0.5         0.5         0.5\n",
      "   0.5         0.5         0.5         0.5         0.5         0.5\n",
      "   0.49607843  0.5         0.39411765  0.07254902 -0.31176471 -0.5\n",
      "  -0.49607843 -0.49607843 -0.5       ]\n",
      " [-0.5        -0.5        -0.5        -0.48823529 -0.49607843 -0.5        -0.5\n",
      "  -0.41372549 -0.23333333 -0.07254902  0.08431373  0.30784314  0.49607843\n",
      "   0.5         0.5         0.49215686  0.42941176  0.34313725  0.25686275\n",
      "   0.08823529 -0.1745098  -0.42941176 -0.5        -0.5        -0.49215686\n",
      "  -0.49607843 -0.5        -0.5       ]]\n",
      "dataset [0:2,:,:]  [[[-0.5        -0.5        -0.5        ...,  0.5         0.5         0.5       ]\n",
      "  [-0.5        -0.5        -0.5        ...,  0.5         0.5         0.5       ]\n",
      "  [-0.5        -0.5        -0.5        ...,  0.5         0.5         0.5       ]\n",
      "  ..., \n",
      "  [ 0.5         0.5         0.5        ..., -0.5        -0.5        -0.5       ]\n",
      "  [ 0.5         0.5         0.5        ..., -0.5        -0.5        -0.5       ]\n",
      "  [ 0.5         0.5         0.5        ..., -0.5        -0.5        -0.5       ]]\n",
      "\n",
      " [[-0.5        -0.5        -0.5        ..., -0.01372549 -0.29607844\n",
      "   -0.46078432]\n",
      "  [-0.5        -0.5        -0.5        ...,  0.48039216  0.29607844\n",
      "    0.18627451]\n",
      "  [-0.5        -0.5        -0.5        ...,  0.48823529  0.49607843  0.5       ]\n",
      "  ..., \n",
      "  [ 0.27254903  0.3509804   0.48431373 ..., -0.5        -0.5        -0.5       ]\n",
      "  [ 0.24117647  0.33137256  0.48431373 ..., -0.5        -0.5        -0.5       ]\n",
      "  [-0.46862745 -0.30784315 -0.02941176 ..., -0.5        -0.5        -0.5       ]]]\n",
      "Full dataset tensor: (52911L, 28L, 28L)\n",
      "Mean: -0.153358\n",
      "Standard deviation: 0.443656\n",
      "Pickling ./notMNIST_small\\A.pickle.\n",
      "dataset.size  1468432 dataset.shape  (1873L, 28L, 28L)\n",
      "./notMNIST_small\\A\n",
      "expected image number 1094 of 1873 samples\n",
      "images # 1094 , file ./notMNIST_small\\A\\R2lsbFNhbnNDRS1JdGFsaWMub3Rm.png\n"
     ]
    },
    {
     "data": {
      "image/png": "[encoded data removed]",
      "text/plain": [
       "<IPython.core.display.Image object>"
      ]
     },
     "metadata": {},
     "output_type": "display_data"
    },
    {
     "name": "stdout",
     "output_type": "stream",
     "text": [
      "image_data  [[-0.5        -0.5        -0.5        -0.5        -0.5        -0.5        -0.5\n",
      "  -0.5        -0.5        -0.5        -0.5        -0.5        -0.5\n",
      "  -0.49215686 -0.5        -0.33137255  0.45294118  0.5         0.49215686\n",
      "   0.5         0.39411765 -0.41764706 -0.5        -0.49607843 -0.5        -0.5\n",
      "  -0.5        -0.5       ]\n",
      " [-0.5        -0.5        -0.5        -0.5        -0.5        -0.5        -0.5\n",
      "  -0.5        -0.5        -0.5        -0.5        -0.5        -0.5\n",
      "  -0.49215686 -0.5         0.14705882  0.5         0.48823529  0.5\n",
      "   0.49607843  0.5        -0.27254902 -0.5        -0.49215686 -0.5        -0.5\n",
      "  -0.5        -0.5       ]\n",
      " [-0.5        -0.5        -0.5        -0.5        -0.5        -0.5        -0.5\n",
      "  -0.5        -0.5        -0.5        -0.5        -0.5        -0.48823529\n",
      "  -0.5        -0.21764706  0.5         0.49607843  0.49607843  0.5\n",
      "   0.48823529  0.5        -0.00588235 -0.5        -0.48823529 -0.5        -0.5\n",
      "  -0.5        -0.5       ]\n",
      " [-0.5        -0.5        -0.5        -0.5        -0.5        -0.5        -0.5\n",
      "  -0.5        -0.5        -0.5        -0.5        -0.49607843 -0.5\n",
      "  -0.47647059  0.28823529  0.5         0.48823529  0.5         0.5\n",
      "   0.48823529  0.5         0.2254902  -0.5        -0.48823529 -0.5        -0.5\n",
      "  -0.5        -0.5       ]\n",
      " [-0.5        -0.5        -0.5        -0.5        -0.5        -0.5        -0.5\n",
      "  -0.5        -0.5        -0.5        -0.5        -0.48823529 -0.5\n",
      "  -0.08431373  0.5         0.48823529  0.49607843  0.46470588  0.5\n",
      "   0.49215686  0.5         0.38627451 -0.40196078 -0.5        -0.49215686\n",
      "  -0.5        -0.5        -0.5       ]\n",
      " [-0.5        -0.5        -0.5        -0.5        -0.5        -0.5        -0.5\n",
      "  -0.5        -0.5        -0.5        -0.49607843 -0.5        -0.40196078\n",
      "   0.39803922  0.5         0.5         0.46078431 -0.07647059  0.4254902\n",
      "   0.5         0.48823529  0.5        -0.2372549  -0.5        -0.48823529\n",
      "  -0.5        -0.5        -0.5       ]\n",
      " [-0.5        -0.5        -0.5        -0.5        -0.5        -0.5        -0.5\n",
      "  -0.5        -0.5        -0.5        -0.48823529 -0.5         0.06078431\n",
      "   0.5         0.47254902  0.5         0.13529412 -0.5         0.30784314\n",
      "   0.5         0.47647059  0.5        -0.01372549 -0.5        -0.48823529\n",
      "  -0.5        -0.5        -0.5       ]\n",
      " [-0.5        -0.5        -0.5        -0.5        -0.5        -0.5        -0.5\n",
      "  -0.5        -0.5        -0.49215686 -0.5        -0.3         0.47647059\n",
      "   0.5         0.5         0.45294118 -0.32745098 -0.5         0.12352941\n",
      "   0.5         0.48039216  0.5         0.25294118 -0.5        -0.49215686\n",
      "  -0.5        -0.5        -0.5       ]\n",
      " [-0.5        -0.5        -0.5        -0.5        -0.5        -0.5        -0.5\n",
      "  -0.5        -0.5        -0.49607843 -0.5         0.20196078  0.5\n",
      "   0.47254902  0.5         0.02941176 -0.5        -0.5        -0.14705882\n",
      "   0.5         0.48431373  0.5         0.40588235 -0.40980392 -0.5\n",
      "  -0.49607843 -0.5        -0.5       ]\n",
      " [-0.5        -0.5        -0.5        -0.5        -0.5        -0.5        -0.5\n",
      "  -0.5        -0.48823529 -0.5        -0.1745098   0.5         0.48431373\n",
      "   0.5         0.39019608 -0.41372549 -0.5        -0.5        -0.35882353\n",
      "   0.48431373  0.5         0.49607843  0.5        -0.19411765 -0.5\n",
      "  -0.48823529 -0.5        -0.5       ]\n",
      " [-0.5        -0.5        -0.5        -0.5        -0.5        -0.5        -0.5\n",
      "  -0.49607843 -0.5        -0.45294118  0.32745098  0.5         0.47647059\n",
      "   0.5        -0.07647059 -0.5        -0.48431373 -0.5        -0.46862745\n",
      "   0.29215686  0.5         0.47254902  0.5         0.00588235 -0.5\n",
      "  -0.48823529 -0.5        -0.5       ]\n",
      " [-0.5        -0.5        -0.5        -0.5        -0.5        -0.5        -0.5\n",
      "  -0.48823529 -0.5        -0.03333333  0.5         0.47647059  0.5\n",
      "   0.30784314 -0.46862745 -0.5        -0.49607843 -0.48431373 -0.5\n",
      "   0.09607843  0.5         0.47647059  0.5         0.24901961 -0.5        -0.5\n",
      "  -0.5        -0.5       ]\n",
      " [-0.5        -0.5        -0.5        -0.5        -0.5        -0.5\n",
      "  -0.49607843 -0.5        -0.37058824  0.42941176  0.5         0.48431373\n",
      "   0.5        -0.18235294 -0.5        -0.48823529 -0.5        -0.48823529\n",
      "  -0.5        -0.12352941  0.5         0.49215686  0.5         0.44901961\n",
      "  -0.40980392 -0.5        -0.49607843 -0.5       ]\n",
      " [-0.5        -0.5        -0.5        -0.5        -0.5        -0.5\n",
      "  -0.49215686 -0.5         0.11176471  0.5         0.47254902  0.5\n",
      "   0.21764706 -0.5        -0.49215686 -0.49607843 -0.49607843 -0.49215686\n",
      "  -0.5        -0.35882353  0.47254902  0.5         0.49607843  0.5\n",
      "  -0.18627451 -0.5        -0.48823529 -0.5       ]\n",
      " [-0.5        -0.5        -0.5        -0.5        -0.5        -0.49215686\n",
      "  -0.5        -0.26078431  0.49607843  0.5         0.5         0.47647059\n",
      "  -0.29215686 -0.5        -0.49215686 -0.5        -0.5        -0.49607843\n",
      "  -0.5        -0.48431373  0.30784314  0.5         0.47647059  0.5\n",
      "   0.04901961 -0.5        -0.48431373 -0.5       ]\n",
      " [-0.5        -0.5        -0.5        -0.5        -0.49607843 -0.5\n",
      "  -0.49607843  0.24117647  0.5         0.47647059  0.5         0.15882353\n",
      "  -0.44509804 -0.39411765 -0.40196078 -0.40196078 -0.40196078 -0.40196078\n",
      "  -0.39411765 -0.4372549   0.12352941  0.5         0.47647059  0.5\n",
      "   0.24901961 -0.49215686 -0.5        -0.49607843]\n",
      " [-0.5        -0.5        -0.5        -0.5        -0.48823529 -0.5\n",
      "  -0.13137255  0.5         0.49215686  0.49607843  0.5         0.46078431\n",
      "   0.46862745  0.47254902  0.47254902  0.47254902  0.47254902  0.47254902\n",
      "   0.47254902  0.46862745  0.47647059  0.5         0.49607843  0.5\n",
      "   0.45686275 -0.38235294 -0.5        -0.49215686]\n",
      " [-0.5        -0.5        -0.5        -0.49607843 -0.5        -0.42941176\n",
      "   0.35490196  0.5         0.49215686  0.49607843  0.5         0.5         0.5\n",
      "   0.5         0.5         0.5         0.5         0.5         0.5         0.5\n",
      "   0.5         0.5         0.5         0.49215686  0.5        -0.19019608\n",
      "  -0.5        -0.48823529]\n",
      " [-0.5        -0.5        -0.5        -0.48823529 -0.5         0.00588235\n",
      "   0.5         0.48823529  0.5         0.47254902  0.40980392  0.41372549\n",
      "   0.40980392  0.40980392  0.40980392  0.40980392  0.40980392  0.40980392\n",
      "   0.40980392  0.40980392  0.40980392  0.48431373  0.5         0.48823529\n",
      "   0.5         0.08431373 -0.5        -0.48431373]\n",
      " [-0.5        -0.5        -0.49215686 -0.5        -0.33529412  0.44509804\n",
      "   0.5         0.48431373  0.5        -0.02941176 -0.5        -0.45686275\n",
      "  -0.46862745 -0.46862745 -0.46862745 -0.46862745 -0.46862745 -0.46862745\n",
      "  -0.46862745 -0.46078431 -0.5         0.11176471  0.5         0.47647059\n",
      "   0.5         0.28431373 -0.5        -0.49607843]\n",
      " [-0.5        -0.5        -0.49215686 -0.5         0.14705882  0.5\n",
      "   0.48039216  0.5         0.34313725 -0.44117647 -0.5        -0.49607843\n",
      "  -0.5        -0.5        -0.5        -0.5        -0.5        -0.5        -0.5\n",
      "  -0.48823529 -0.5        -0.15098039  0.5         0.48039216  0.5\n",
      "   0.44901961 -0.34313725 -0.5       ]\n",
      " [-0.5        -0.48823529 -0.5        -0.22156863  0.5         0.5\n",
      "   0.48823529  0.5        -0.10392157 -0.5        -0.48039216 -0.49607843\n",
      "  -0.49607843 -0.49607843 -0.49607843 -0.49607843 -0.49607843 -0.49607843\n",
      "  -0.49607843 -0.48431373 -0.5        -0.31960784  0.46862745  0.5\n",
      "   0.48039216  0.5        -0.1745098  -0.5       ]\n",
      " [-0.49607843 -0.5        -0.47647059  0.27254902  0.5         0.48431373\n",
      "   0.5         0.29607843 -0.48823529 -0.5        -0.49607843 -0.5        -0.5\n",
      "  -0.5        -0.5        -0.5        -0.5        -0.5        -0.5\n",
      "  -0.49607843 -0.5        -0.47647059  0.30784314  0.5         0.47647059\n",
      "   0.5         0.07254902 -0.5       ]\n",
      " [-0.48823529 -0.5        -0.08823529  0.5         0.48823529  0.49215686\n",
      "   0.5        -0.1745098  -0.5        -0.48823529 -0.5        -0.5        -0.5\n",
      "  -0.5        -0.5        -0.5        -0.5        -0.5        -0.5        -0.5\n",
      "  -0.48431373 -0.5         0.13529412  0.5         0.48039216  0.5\n",
      "   0.31176471 -0.5       ]\n",
      " [-0.5        -0.40588235  0.38235294  0.5         0.48431373  0.5\n",
      "   0.24509804 -0.5        -0.49607843 -0.5        -0.5        -0.5        -0.5\n",
      "  -0.5        -0.5        -0.5        -0.5        -0.5        -0.5        -0.5\n",
      "  -0.48823529 -0.5        -0.11568627  0.5         0.48823529  0.5\n",
      "   0.43333333 -0.33137255]\n",
      " [-0.5         0.04117647  0.5         0.48431373  0.49607843  0.5\n",
      "  -0.23333333 -0.5        -0.48823529 -0.5        -0.5        -0.5        -0.5\n",
      "  -0.5        -0.5        -0.5        -0.5        -0.5        -0.5        -0.5\n",
      "  -0.49215686 -0.5        -0.33529412  0.5         0.49607843  0.49215686\n",
      "   0.5        -0.11568627]\n",
      " [-0.28823529  0.44901961  0.5         0.48431373  0.5         0.17843137\n",
      "  -0.5        -0.49215686 -0.5        -0.5        -0.5        -0.5        -0.5\n",
      "  -0.5        -0.5        -0.5        -0.5        -0.5        -0.5        -0.5\n",
      "  -0.49607843 -0.5        -0.44901961  0.33137255  0.5         0.48039216\n",
      "   0.5         0.11960784]\n",
      " [ 0.20588235  0.5         0.48823529  0.5         0.49215686 -0.28039216\n",
      "  -0.5        -0.49215686 -0.5        -0.5        -0.5        -0.5        -0.5\n",
      "  -0.5        -0.5        -0.5        -0.5        -0.5        -0.5        -0.5\n",
      "  -0.5        -0.48823529 -0.5         0.13921569  0.5         0.48039216\n",
      "   0.5         0.36666667]]\n",
      "Could not read: ./notMNIST_small\\A\\RGVtb2NyYXRpY2FCb2xkT2xkc3R5bGUgQm9sZC50dGY=.png : cannot identify image file './notMNIST_small\\\\A\\\\RGVtb2NyYXRpY2FCb2xkT2xkc3R5bGUgQm9sZC50dGY=.png' - it's ok, skipping.\n",
      "dataset [0:2,:,:]  [[[-0.5        -0.5        -0.5        ..., -0.5        -0.5        -0.5       ]\n",
      "  [-0.5        -0.5        -0.5        ..., -0.5        -0.5        -0.5       ]\n",
      "  [-0.5        -0.5        -0.5        ..., -0.5        -0.5        -0.5       ]\n",
      "  ..., \n",
      "  [-0.33137256  0.21764706  0.48431373 ...,  0.5        -0.00980392\n",
      "   -0.34313726]\n",
      "  [-0.33137256 -0.02941176 -0.00588235 ...,  0.20196079 -0.17843138\n",
      "   -0.45294118]\n",
      "  [-0.48431373 -0.40196079 -0.37450981 ..., -0.46862745 -0.19803922\n",
      "   -0.44901961]]\n",
      "\n",
      " [[ 0.5         0.5         0.5        ...,  0.5         0.5         0.5       ]\n",
      "  [ 0.5         0.5         0.5        ...,  0.5         0.5         0.5       ]\n",
      "  [ 0.5         0.5         0.5        ...,  0.5         0.5         0.5       ]\n",
      "  ..., \n",
      "  [ 0.5         0.5         0.5        ...,  0.5         0.5         0.5       ]\n",
      "  [ 0.5         0.5         0.5        ...,  0.5         0.5         0.5       ]\n",
      "  [ 0.5         0.5         0.5        ...,  0.5         0.5         0.5       ]]]\n",
      "Full dataset tensor: (1872L, 28L, 28L)\n",
      "Mean: -0.132626\n",
      "Standard deviation: 0.445128\n",
      "Pickling ./notMNIST_small\\B.pickle.\n",
      "dataset.size  1468432 dataset.shape  (1873L, 28L, 28L)\n",
      "./notMNIST_small\\B\n",
      "expected image number 680 of 1873 samples\n",
      "images # 680 , file ./notMNIST_small\\B\\QmxpbmRmaXNoTGlnaHQub3Rm.png\n"
     ]
    },
    {
     "data": {
      "image/png": "[encoded data removed]",
      "text/plain": [
       "<IPython.core.display.Image object>"
      ]
     },
     "metadata": {},
     "output_type": "display_data"
    },
    {
     "name": "stdout",
     "output_type": "stream",
     "text": [
      "image_data  [[ 0.5         0.5         0.5         0.5         0.5         0.5         0.5\n",
      "   0.48431373  0.48431373  0.49607843  0.5         0.5         0.5         0.5\n",
      "   0.5         0.49215686  0.44509804  0.39411765  0.29607843  0.10784314\n",
      "  -0.1745098  -0.46470588 -0.5        -0.49215686 -0.49215686 -0.5        -0.5\n",
      "  -0.5       ]\n",
      " [ 0.5         0.5         0.5         0.5         0.5         0.49215686\n",
      "   0.49215686  0.5         0.5         0.5         0.5         0.5         0.5\n",
      "   0.5         0.5         0.5         0.5         0.5         0.5         0.5\n",
      "   0.5         0.35490196 -0.10784314 -0.49607843 -0.49607843 -0.49607843\n",
      "  -0.5        -0.5       ]\n",
      " [ 0.5         0.5         0.5         0.5         0.49215686  0.5\n",
      "   0.48823529  0.21372549 -0.10392157 -0.25686275 -0.30784314 -0.31176471\n",
      "  -0.31176471 -0.31176471 -0.3        -0.22156863 -0.01372549  0.34313725\n",
      "   0.5         0.48039216  0.49215686  0.49607843  0.5         0.18627451\n",
      "  -0.46470588 -0.5        -0.49607843 -0.5       ]\n",
      " [ 0.5         0.5         0.5         0.49215686  0.5         0.3745098\n",
      "  -0.24117647 -0.5        -0.49607843 -0.5        -0.5        -0.5        -0.5\n",
      "  -0.5        -0.5        -0.49607843 -0.5        -0.47254902  0.02156863\n",
      "   0.5         0.5         0.49215686  0.48039216  0.5         0.15882353\n",
      "  -0.5        -0.49607843 -0.49607843]\n",
      " [ 0.5         0.5         0.49607843  0.5         0.40196078 -0.34705882\n",
      "  -0.5        -0.48431373 -0.48431373 -0.48823529 -0.49215686 -0.49215686\n",
      "  -0.49215686 -0.49215686 -0.49215686 -0.48823529 -0.48431373 -0.48823529\n",
      "  -0.5        -0.00980392  0.5         0.48823529  0.5         0.48431373\n",
      "   0.5        -0.1627451  -0.5        -0.48823529]\n",
      " [ 0.5         0.5         0.48823529  0.5        -0.10784314 -0.5\n",
      "  -0.48039216 -0.5        -0.5        -0.5        -0.5        -0.5        -0.5\n",
      "  -0.5        -0.5        -0.5        -0.5        -0.49215686 -0.49607843\n",
      "  -0.47647059  0.30784314  0.5         0.48823529  0.48823529  0.5\n",
      "   0.22156863 -0.5        -0.48823529]\n",
      " [ 0.5         0.49215686  0.5         0.40588235 -0.40588235 -0.5\n",
      "  -0.49607843 -0.5        -0.5        -0.5        -0.5        -0.5        -0.5\n",
      "  -0.5        -0.5        -0.5        -0.5        -0.5        -0.48431373\n",
      "  -0.5         0.00980392  0.5         0.48823529  0.49215686  0.5\n",
      "   0.35490196 -0.47254902 -0.5       ]\n",
      " [ 0.5         0.49215686  0.5         0.34313725 -0.5        -0.49607843\n",
      "  -0.5        -0.5        -0.5        -0.5        -0.5        -0.5        -0.5\n",
      "  -0.5        -0.5        -0.5        -0.5        -0.5        -0.48823529\n",
      "  -0.5        -0.13137255  0.5         0.49215686  0.49215686  0.5\n",
      "   0.35882353 -0.46470588 -0.5       ]\n",
      " [ 0.5         0.49215686  0.5         0.39019608 -0.4372549  -0.5\n",
      "  -0.49607843 -0.5        -0.5        -0.5        -0.5        -0.5        -0.5\n",
      "  -0.5        -0.5        -0.5        -0.5        -0.5        -0.48823529\n",
      "  -0.5        -0.03333333  0.5         0.48823529  0.48823529  0.5\n",
      "   0.22941176 -0.5        -0.49215686]\n",
      " [ 0.5         0.5         0.49215686  0.5        -0.15882353 -0.5\n",
      "  -0.47647059 -0.5        -0.5        -0.5        -0.5        -0.5        -0.5\n",
      "  -0.5        -0.5        -0.5        -0.5        -0.49607843 -0.48823529\n",
      "  -0.5         0.25294118  0.5         0.48431373  0.48431373  0.5\n",
      "  -0.17058824 -0.5        -0.48823529]\n",
      " [ 0.5         0.5         0.49215686  0.5         0.35490196 -0.39411765\n",
      "  -0.5        -0.48431373 -0.48823529 -0.49215686 -0.49607843 -0.49607843\n",
      "  -0.49607843 -0.49607843 -0.49607843 -0.49215686 -0.48431373 -0.48431373\n",
      "  -0.5        -0.11176471  0.5         0.48039216  0.48431373  0.5\n",
      "   0.10392157 -0.5        -0.49607843 -0.49607843]\n",
      " [ 0.5         0.5         0.5         0.49215686  0.5         0.32745098\n",
      "  -0.32745098 -0.5        -0.49607843 -0.5        -0.5        -0.5        -0.5\n",
      "  -0.5        -0.5        -0.5        -0.49607843 -0.5        -0.11960784\n",
      "   0.47254902  0.5         0.49607843  0.49607843  0.05294118 -0.49215686\n",
      "  -0.5        -0.49607843 -0.5       ]\n",
      " [ 0.5         0.5         0.5         0.5         0.49215686  0.5\n",
      "   0.46078431  0.11568627 -0.20588235 -0.35882353 -0.40980392 -0.41372549\n",
      "  -0.41372549 -0.41372549 -0.40588235 -0.33529412 -0.14313725  0.23333333\n",
      "   0.5         0.45294118  0.3         0.06862745 -0.30784314 -0.5\n",
      "  -0.48823529 -0.49607843 -0.5        -0.5       ]\n",
      " [ 0.5         0.5         0.5         0.5         0.5         0.48039216\n",
      "   0.48431373  0.5         0.49607843  0.46862745  0.44901961  0.44901961\n",
      "   0.44901961  0.44901961  0.45294118  0.47647059  0.5         0.49607843\n",
      "   0.5         0.37843137  0.01372549 -0.24117647 -0.46078431 -0.5\n",
      "  -0.49607843 -0.49215686 -0.5        -0.5       ]\n",
      " [ 0.5         0.5         0.5         0.5         0.5         0.5         0.5\n",
      "   0.5         0.5         0.5         0.5         0.5         0.5         0.5\n",
      "   0.5         0.5         0.5         0.5         0.5         0.5\n",
      "   0.49607843  0.5         0.42941176  0.07647059 -0.39019608 -0.5\n",
      "  -0.49215686 -0.5       ]\n",
      " [ 0.5         0.5         0.5         0.49607843  0.5         0.17058824\n",
      "  -0.07254902 -0.02941176 -0.04117647 -0.04117647 -0.04117647 -0.04117647\n",
      "  -0.04117647 -0.04117647 -0.04117647 -0.04117647 -0.0372549   0.01764706\n",
      "   0.20980392  0.45294118  0.5         0.48431373  0.49607843  0.5\n",
      "   0.43333333 -0.17058824 -0.5        -0.48823529]\n",
      " [ 0.5         0.5         0.5         0.49215686  0.5        -0.11960784\n",
      "  -0.5        -0.48431373 -0.5        -0.5        -0.5        -0.5        -0.5\n",
      "  -0.5        -0.5        -0.5        -0.5        -0.49607843 -0.5\n",
      "  -0.36666667  0.18235294  0.5         0.48431373  0.48431373  0.49607843\n",
      "   0.5        -0.12745098 -0.5       ]\n",
      " [ 0.5         0.5         0.5         0.49215686  0.5        -0.1        -0.5\n",
      "  -0.46470588 -0.48039216 -0.48039216 -0.48039216 -0.48039216 -0.48039216\n",
      "  -0.48039216 -0.48039216 -0.48039216 -0.48039216 -0.48431373 -0.49215686\n",
      "  -0.5        -0.5         0.12352941  0.5         0.49215686  0.48823529\n",
      "   0.5         0.44509804 -0.30784314]\n",
      " [ 0.5         0.5         0.5         0.49215686  0.5        -0.11176471\n",
      "  -0.5        -0.48431373 -0.5        -0.5        -0.5        -0.5        -0.5\n",
      "  -0.5        -0.5        -0.5        -0.5        -0.5        -0.5\n",
      "  -0.48823529 -0.5        -0.42156863  0.39019608  0.5         0.49607843\n",
      "   0.48431373  0.5         0.11568627]\n",
      " [ 0.5         0.5         0.5         0.49215686  0.5        -0.11176471\n",
      "  -0.5        -0.48431373 -0.5        -0.5        -0.5        -0.5        -0.5\n",
      "  -0.5        -0.5        -0.5        -0.5        -0.5        -0.5        -0.5\n",
      "  -0.48823529 -0.5         0.09215686  0.5         0.48431373  0.49607843\n",
      "   0.5         0.3745098 ]\n",
      " [ 0.5         0.5         0.5         0.49215686  0.5        -0.11176471\n",
      "  -0.5        -0.48431373 -0.5        -0.5        -0.5        -0.5        -0.5\n",
      "  -0.5        -0.5        -0.5        -0.5        -0.5        -0.5        -0.5\n",
      "  -0.48431373 -0.5         0.00588235  0.5         0.48039216  0.5         0.5\n",
      "   0.46470588]\n",
      " [ 0.5         0.5         0.5         0.49215686  0.5        -0.11176471\n",
      "  -0.5        -0.48431373 -0.5        -0.5        -0.5        -0.5        -0.5\n",
      "  -0.5        -0.5        -0.5        -0.5        -0.5        -0.5        -0.5\n",
      "  -0.48823529 -0.5         0.1627451   0.5         0.48823529  0.49607843\n",
      "   0.5         0.38627451]\n",
      " [ 0.5         0.5         0.5         0.49215686  0.5        -0.11176471\n",
      "  -0.5        -0.48431373 -0.5        -0.5        -0.5        -0.5        -0.5\n",
      "  -0.5        -0.5        -0.5        -0.5        -0.49607843 -0.49215686\n",
      "  -0.47647059 -0.5        -0.30392157  0.47254902  0.5         0.49607843\n",
      "   0.48823529  0.5         0.16666667]\n",
      " [ 0.5         0.5         0.5         0.49215686  0.5        -0.11176471\n",
      "  -0.5        -0.48431373 -0.5        -0.5        -0.5        -0.5        -0.5\n",
      "  -0.5        -0.5        -0.5        -0.5        -0.5        -0.49607843\n",
      "  -0.5        -0.37843137  0.33137255  0.5         0.49215686  0.49607843\n",
      "   0.49215686  0.48823529 -0.21764706]\n",
      " [ 0.5         0.5         0.5         0.49215686  0.5        -0.11176471\n",
      "  -0.5        -0.48431373 -0.5        -0.5        -0.5        -0.5        -0.5\n",
      "  -0.5        -0.5        -0.5        -0.5        -0.48823529 -0.37058824\n",
      "  -0.05294118  0.40980392  0.5         0.49215686  0.48823529  0.48039216\n",
      "   0.5         0.04901961 -0.5       ]\n",
      " [ 0.5         0.5         0.5         0.5         0.5         0.39019608\n",
      "   0.30784314  0.32352941  0.31960784  0.31960784  0.31960784  0.31960784\n",
      "   0.31960784  0.31960784  0.31960784  0.31960784  0.31960784  0.37058824\n",
      "   0.46078431  0.5         0.49215686  0.48431373  0.5         0.5         0.5\n",
      "   0.04901961 -0.48431373 -0.5       ]\n",
      " [ 0.5         0.5         0.5         0.5         0.5         0.5         0.5\n",
      "   0.5         0.5         0.5         0.5         0.5         0.5         0.5\n",
      "   0.5         0.5         0.5         0.5         0.5         0.5         0.5\n",
      "   0.5         0.48039216  0.22941176 -0.24509804 -0.5        -0.49215686\n",
      "  -0.5       ]\n",
      " [ 0.5         0.5         0.5         0.5         0.5         0.49607843\n",
      "   0.49215686  0.49215686  0.49215686  0.49215686  0.49215686  0.49215686\n",
      "   0.49215686  0.49215686  0.49215686  0.49215686  0.49215686  0.46862745\n",
      "   0.42941176  0.33921569  0.19411765 -0.0254902  -0.31960784 -0.49607843\n",
      "  -0.5        -0.48823529 -0.49607843 -0.5       ]]\n",
      "dataset [0:2,:,:]  [[[-0.5        -0.49607843 -0.46862745 ..., -0.5        -0.5        -0.5       ]\n",
      "  [-0.49607843 -0.48431373 -0.42941177 ..., -0.5        -0.5        -0.5       ]\n",
      "  [-0.5        -0.29215688 -0.22941177 ..., -0.5        -0.5        -0.5       ]\n",
      "  ..., \n",
      "  [-0.49607843 -0.3509804  -0.04509804 ..., -0.5        -0.5        -0.5       ]\n",
      "  [-0.47254902 -0.44901961 -0.19803922 ..., -0.5        -0.5        -0.5       ]\n",
      "  [-0.5        -0.5        -0.45294118 ..., -0.5        -0.5        -0.5       ]]\n",
      "\n",
      " [[ 0.5         0.5         0.5        ..., -0.5        -0.5        -0.5       ]\n",
      "  [ 0.5         0.5         0.5        ..., -0.5        -0.5        -0.5       ]\n",
      "  [ 0.5         0.5         0.5        ..., -0.5        -0.5        -0.5       ]\n",
      "  ..., \n",
      "  [ 0.5         0.5         0.5        ..., -0.5        -0.5        -0.5       ]\n",
      "  [ 0.5         0.5         0.5        ..., -0.5        -0.5        -0.5       ]\n",
      "  [ 0.5         0.5         0.5        ..., -0.5        -0.5        -0.5       ]]]\n",
      "Full dataset tensor: (1873L, 28L, 28L)\n",
      "Mean: 0.00535609\n",
      "Standard deviation: 0.457115\n",
      "Pickling ./notMNIST_small\\C.pickle.\n",
      "dataset.size  1468432 dataset.shape  (1873L, 28L, 28L)\n",
      "./notMNIST_small\\C\n",
      "expected image number 232 of 1873 samples\n",
      "images # 232 , file ./notMNIST_small\\C\\Q2FzIE9wZW4gRmFjZSBOb3JtYWwudHRm.png\n"
     ]
    },
    {
     "data": {
      "image/png": "[encoded data removed]",
      "text/plain": [
       "<IPython.core.display.Image object>"
      ]
     },
     "metadata": {},
     "output_type": "display_data"
    },
    {
     "name": "stdout",
     "output_type": "stream",
     "text": [
      "image_data  [[-0.5        -0.5        -0.5        -0.5        -0.5        -0.49607843\n",
      "  -0.49607843 -0.5        -0.5        -0.48431373 -0.33529412 -0.24509804\n",
      "  -0.14313725 -0.10392157 -0.0254902   0.0254902   0.1         0.15882353\n",
      "   0.15098039  0.02941176 -0.13137255 -0.06470588 -0.02156863  0.00196078\n",
      "   0.16666667  0.15490196 -0.41372549 -0.5       ]\n",
      " [-0.5        -0.5        -0.5        -0.5        -0.49607843 -0.49607843\n",
      "  -0.5        -0.48039216 -0.13921569  0.00588235 -0.13529412 -0.29215686\n",
      "  -0.37843137 -0.42156863 -0.3745098  -0.31176471 -0.20588235  0.02941176\n",
      "   0.32352941  0.49607843  0.15098039 -0.36666667 -0.5        -0.39803922\n",
      "   0.34705882  0.5        -0.35098039 -0.5       ]\n",
      " [-0.5        -0.5        -0.5        -0.49607843 -0.5        -0.44901961\n",
      "  -0.26470588  0.26470588  0.04901961 -0.43333333 -0.5        -0.49607843\n",
      "  -0.5        -0.5        -0.5        -0.5        -0.5        -0.49607843\n",
      "  -0.5        -0.28823529  0.22156863  0.40588235 -0.14705882 -0.5\n",
      "   0.02156863  0.5        -0.33529412 -0.5       ]\n",
      " [-0.5        -0.5        -0.49607843 -0.5        -0.40980392 -0.2372549\n",
      "   0.31960784 -0.03333333 -0.5        -0.49215686 -0.48823529 -0.49215686\n",
      "  -0.49607843 -0.49607843 -0.49607843 -0.49215686 -0.48823529 -0.48431373\n",
      "  -0.49215686 -0.49607843 -0.5        -0.1745098   0.45294118  0.06078431\n",
      "  -0.33921569  0.5        -0.22941176 -0.5       ]\n",
      " [-0.5        -0.49607843 -0.5        -0.41764706 -0.35098039  0.02941176\n",
      "   0.14313725 -0.5        -0.48039216 -0.49607843 -0.5        -0.5        -0.5\n",
      "  -0.5        -0.5        -0.5        -0.5        -0.5        -0.5\n",
      "  -0.48823529 -0.48431373 -0.5        -0.41372549  0.33529412  0.20588235\n",
      "   0.35490196 -0.05686275 -0.5       ]\n",
      " [-0.5        -0.5        -0.46862745 -0.36666667 -0.39411765  0.31568627\n",
      "  -0.38235294 -0.5        -0.49215686 -0.5        -0.5        -0.5        -0.5\n",
      "  -0.5        -0.5        -0.5        -0.5        -0.5        -0.5        -0.5\n",
      "  -0.5        -0.48431373 -0.5        -0.47254902  0.20980392  0.5\n",
      "   0.07254902 -0.5       ]\n",
      " [-0.5        -0.5        -0.41372549 -0.5         0.02941176  0.15490196\n",
      "  -0.5        -0.48823529 -0.5        -0.5        -0.5        -0.5        -0.5\n",
      "  -0.5        -0.5        -0.5        -0.5        -0.5        -0.5        -0.5\n",
      "  -0.5        -0.5        -0.48823529 -0.5        -0.48823529  0.27647059\n",
      "   0.31568627 -0.5       ]\n",
      " [-0.5        -0.47647059 -0.47647059 -0.5         0.34313725 -0.17058824\n",
      "  -0.5        -0.48823529 -0.5        -0.5        -0.5        -0.5        -0.5\n",
      "  -0.5        -0.5        -0.5        -0.5        -0.5        -0.5        -0.5\n",
      "  -0.5        -0.5        -0.5        -0.49215686 -0.5        -0.42156863\n",
      "   0.33529412 -0.26470588]\n",
      " [-0.49607843 -0.44117647 -0.5        -0.28431373  0.42941176 -0.40588235\n",
      "  -0.5        -0.49607843 -0.5        -0.5        -0.5        -0.5        -0.5\n",
      "  -0.5        -0.5        -0.5        -0.5        -0.5        -0.5        -0.5\n",
      "  -0.5        -0.5        -0.5        -0.5        -0.48823529 -0.5\n",
      "  -0.22156863 -0.0254902 ]\n",
      " [-0.42941176 -0.37843137 -0.5        -0.06078431  0.40588235 -0.5        -0.5\n",
      "  -0.49607843 -0.5        -0.5        -0.5        -0.5        -0.5        -0.5\n",
      "  -0.5        -0.5        -0.5        -0.5        -0.5        -0.5        -0.5\n",
      "  -0.5        -0.5        -0.5        -0.5        -0.49607843 -0.48823529\n",
      "  -0.45294118]\n",
      " [-0.28431373 -0.43333333 -0.5         0.11960784  0.25294118 -0.5\n",
      "  -0.49607843 -0.5        -0.5        -0.5        -0.5        -0.5        -0.5\n",
      "  -0.5        -0.5        -0.5        -0.5        -0.5        -0.5        -0.5\n",
      "  -0.5        -0.5        -0.5        -0.5        -0.5        -0.5\n",
      "  -0.49607843 -0.49607843]\n",
      " [-0.19019608 -0.46470588 -0.5         0.25686275  0.17058824 -0.5\n",
      "  -0.48823529 -0.5        -0.5        -0.5        -0.5        -0.5        -0.5\n",
      "  -0.5        -0.5        -0.5        -0.5        -0.5        -0.5        -0.5\n",
      "  -0.5        -0.5        -0.5        -0.5        -0.5        -0.5        -0.5\n",
      "  -0.5       ]\n",
      " [-0.14313725 -0.5        -0.5         0.33921569  0.13137255 -0.5\n",
      "  -0.48431373 -0.5        -0.5        -0.5        -0.5        -0.5        -0.5\n",
      "  -0.5        -0.5        -0.5        -0.5        -0.5        -0.5        -0.5\n",
      "  -0.5        -0.5        -0.5        -0.5        -0.5        -0.5        -0.5\n",
      "  -0.5       ]\n",
      " [-0.1        -0.5        -0.5         0.38627451  0.08039216 -0.5\n",
      "  -0.48431373 -0.5        -0.5        -0.5        -0.5        -0.5        -0.5\n",
      "  -0.5        -0.5        -0.5        -0.5        -0.5        -0.5        -0.5\n",
      "  -0.5        -0.5        -0.5        -0.5        -0.5        -0.5        -0.5\n",
      "  -0.5       ]\n",
      " [-0.07647059 -0.5        -0.5         0.35882353  0.08431373 -0.5\n",
      "  -0.48431373 -0.5        -0.5        -0.5        -0.5        -0.5        -0.5\n",
      "  -0.5        -0.5        -0.5        -0.5        -0.5        -0.5        -0.5\n",
      "  -0.5        -0.5        -0.5        -0.5        -0.5        -0.5        -0.5\n",
      "  -0.5       ]\n",
      " [-0.06862745 -0.5        -0.5         0.24117647  0.1627451  -0.5\n",
      "  -0.48823529 -0.5        -0.5        -0.5        -0.5        -0.5        -0.5\n",
      "  -0.5        -0.5        -0.5        -0.5        -0.5        -0.5        -0.5\n",
      "  -0.5        -0.5        -0.5        -0.5        -0.5        -0.5        -0.5\n",
      "  -0.5       ]\n",
      " [ 0.02941176 -0.45294118 -0.5         0.10784314  0.22941176 -0.5\n",
      "  -0.49215686 -0.5        -0.5        -0.5        -0.5        -0.5        -0.5\n",
      "  -0.5        -0.5        -0.5        -0.5        -0.5        -0.5        -0.5\n",
      "  -0.5        -0.5        -0.5        -0.5        -0.5        -0.5        -0.5\n",
      "  -0.5       ]\n",
      " [-0.00980392 -0.30784314 -0.5        -0.13137255  0.31960784 -0.5        -0.5\n",
      "  -0.49607843 -0.5        -0.5        -0.5        -0.5        -0.5        -0.5\n",
      "  -0.5        -0.5        -0.5        -0.5        -0.5        -0.5        -0.5\n",
      "  -0.5        -0.5        -0.5        -0.5        -0.5        -0.5        -0.5       ]\n",
      " [-0.20196078 -0.06862745 -0.5        -0.40588235  0.35098039 -0.39411765\n",
      "  -0.5        -0.49607843 -0.5        -0.5        -0.5        -0.5        -0.5\n",
      "  -0.5        -0.5        -0.5        -0.5        -0.5        -0.5        -0.5\n",
      "  -0.5        -0.5        -0.5        -0.5        -0.5        -0.5\n",
      "  -0.49607843 -0.48823529]\n",
      " [-0.44901961  0.10392157 -0.4254902  -0.5         0.14705882 -0.15490196\n",
      "  -0.5        -0.48823529 -0.5        -0.5        -0.5        -0.5        -0.5\n",
      "  -0.5        -0.5        -0.5        -0.5        -0.5        -0.5        -0.5\n",
      "  -0.5        -0.5        -0.5        -0.5        -0.5        -0.5\n",
      "  -0.49607843 -0.5       ]\n",
      " [-0.5        -0.13529412  0.00196078 -0.5        -0.24509804 -0.02156863\n",
      "  -0.5        -0.48823529 -0.5        -0.5        -0.5        -0.5        -0.5\n",
      "  -0.5        -0.5        -0.5        -0.5        -0.5        -0.5        -0.5\n",
      "  -0.5        -0.5        -0.5        -0.5        -0.5        -0.5\n",
      "  -0.44117647 -0.07647059]\n",
      " [-0.5        -0.5         0.17058824 -0.25294118 -0.5        -0.07254902\n",
      "  -0.40588235 -0.5        -0.49607843 -0.5        -0.5        -0.5        -0.5\n",
      "  -0.5        -0.5        -0.5        -0.5        -0.5        -0.5        -0.5\n",
      "  -0.5        -0.5        -0.5        -0.5        -0.48039216 -0.5\n",
      "   0.03333333  0.0254902 ]\n",
      " [-0.49607843 -0.5        -0.36666667  0.13921569 -0.44901961 -0.39411765\n",
      "  -0.27254902 -0.5        -0.49607843 -0.5        -0.5        -0.5        -0.5\n",
      "  -0.5        -0.5        -0.5        -0.5        -0.5        -0.5        -0.5\n",
      "  -0.5        -0.5        -0.49607843 -0.48039216 -0.5        -0.14313725\n",
      "   0.13137255 -0.5       ]\n",
      " [-0.5        -0.48823529 -0.5        -0.24509804  0.17058824 -0.42941176\n",
      "  -0.42941176 -0.43333333 -0.5        -0.5        -0.5        -0.5        -0.5\n",
      "  -0.5        -0.5        -0.5        -0.5        -0.5        -0.5        -0.5\n",
      "  -0.5        -0.48823529 -0.48823529 -0.5        -0.1         0.19411765\n",
      "  -0.46470588 -0.5       ]\n",
      " [-0.5        -0.5        -0.48823529 -0.5        -0.26470588  0.10392157\n",
      "  -0.38235294 -0.5        -0.48823529 -0.49215686 -0.49607843 -0.49607843\n",
      "  -0.5        -0.5        -0.5        -0.5        -0.5        -0.5\n",
      "  -0.49607843 -0.48823529 -0.49607843 -0.5        -0.45686275  0.03333333\n",
      "   0.12745098 -0.44509804 -0.5        -0.49215686]\n",
      " [-0.5        -0.5        -0.5        -0.48823529 -0.5        -0.35882353\n",
      "   0.00980392 -0.22156863 -0.47254902 -0.5        -0.5        -0.5        -0.5\n",
      "  -0.49607843 -0.48823529 -0.49215686 -0.5        -0.5        -0.5        -0.5\n",
      "  -0.47647059 -0.18627451  0.20980392 -0.06078431 -0.5        -0.49215686\n",
      "  -0.49215686 -0.5       ]\n",
      " [-0.5        -0.5        -0.5        -0.5        -0.49215686 -0.5\n",
      "  -0.48823529 -0.24117647 -0.09215686 -0.23333333 -0.33921569 -0.40980392\n",
      "  -0.49215686 -0.5        -0.5        -0.5        -0.5        -0.46862745\n",
      "  -0.33137255 -0.12352941  0.12352941 -0.01764706 -0.39411765 -0.5\n",
      "  -0.48823529 -0.49607843 -0.5        -0.5       ]\n",
      " [-0.5        -0.5        -0.5        -0.5        -0.5        -0.49215686\n",
      "  -0.49215686 -0.5        -0.45686275 -0.31176471 -0.14313725  0.04901961\n",
      "   0.01372549 -0.06862745 -0.08039216 -0.11960784 -0.09607843 -0.00196078\n",
      "  -0.0254902  -0.19411765 -0.40980392 -0.5        -0.49607843 -0.48823529\n",
      "  -0.5        -0.5        -0.5        -0.5       ]]\n",
      "dataset [0:2,:,:]  [[[-0.5        -0.5        -0.5        ..., -0.5        -0.5        -0.5       ]\n",
      "  [-0.5        -0.5        -0.5        ..., -0.5        -0.5        -0.5       ]\n",
      "  [-0.5        -0.5        -0.5        ..., -0.49215686 -0.49607843 -0.5       ]\n",
      "  ..., \n",
      "  [-0.5        -0.5        -0.5        ..., -0.49607843 -0.5        -0.5       ]\n",
      "  [-0.5        -0.5        -0.5        ..., -0.49607843 -0.5        -0.5       ]\n",
      "  [-0.5        -0.5        -0.5        ..., -0.5        -0.5        -0.5       ]]\n",
      "\n",
      " [[ 0.5         0.5         0.5        ...,  0.5         0.5         0.5       ]\n",
      "  [ 0.5         0.5         0.5        ...,  0.5         0.5         0.5       ]\n",
      "  [ 0.5         0.5         0.5        ...,  0.5         0.5         0.5       ]\n",
      "  ..., \n",
      "  [ 0.5         0.5         0.5        ...,  0.5         0.5         0.5       ]\n",
      "  [ 0.5         0.5         0.5        ...,  0.5         0.5         0.5       ]\n",
      "  [ 0.5         0.5         0.5        ...,  0.5         0.5         0.5       ]]]\n",
      "Full dataset tensor: (1873L, 28L, 28L)\n",
      "Mean: -0.141521\n",
      "Standard deviation: 0.44269\n",
      "Pickling ./notMNIST_small\\D.pickle.\n",
      "dataset.size  1468432 dataset.shape  (1873L, 28L, 28L)\n",
      "./notMNIST_small\\D\n",
      "expected image number 148 of 1873 samples\n",
      "images # 148 , file ./notMNIST_small\\D\\Q2dFZ2l6aWFub0JsLnR0Zg==.png\n"
     ]
    },
    {
     "data": {
      "image/png": "[encoded data removed]",
      "text/plain": [
       "<IPython.core.display.Image object>"
      ]
     },
     "metadata": {},
     "output_type": "display_data"
    },
    {
     "name": "stdout",
     "output_type": "stream",
     "text": [
      "image_data  [[ 0.24901961  0.5         0.49215686  0.5         0.5         0.5         0.5\n",
      "   0.5         0.5         0.5         0.5         0.5         0.5         0.5\n",
      "   0.5         0.44509804  0.3745098   0.28823529  0.08823529 -0.19411765\n",
      "  -0.42941176 -0.5        -0.5        -0.48823529 -0.5        -0.5        -0.5\n",
      "  -0.5       ]\n",
      " [ 0.24901961  0.5         0.49215686  0.5         0.5         0.5         0.5\n",
      "   0.5         0.5         0.5         0.5         0.5         0.5         0.5\n",
      "   0.5         0.5         0.5         0.5         0.5         0.5\n",
      "   0.37058824 -0.02941176 -0.43333333 -0.5        -0.48823529 -0.5        -0.5\n",
      "  -0.5       ]\n",
      " [ 0.24901961  0.5         0.49215686  0.5         0.5         0.5         0.5\n",
      "   0.5         0.5         0.5         0.5         0.5         0.5         0.5\n",
      "   0.5         0.5         0.49607843  0.49215686  0.48823529  0.49607843\n",
      "   0.5         0.5         0.34705882 -0.28823529 -0.5        -0.48823529\n",
      "  -0.5        -0.5       ]\n",
      " [ 0.24117647  0.49215686  0.48431373  0.49215686  0.49607843  0.5         0.5\n",
      "   0.5         0.5         0.5         0.5         0.5         0.49215686\n",
      "   0.49215686  0.49215686  0.49215686  0.49607843  0.5         0.5         0.5\n",
      "   0.49215686  0.48431373  0.5         0.45686275 -0.19019608 -0.5\n",
      "  -0.48823529 -0.5       ]\n",
      " [ 0.27647059  0.5         0.5         0.5         0.5         0.5         0.5\n",
      "   0.5         0.5         0.5         0.5         0.5         0.5         0.5\n",
      "   0.5         0.5         0.5         0.49215686  0.5         0.5         0.5\n",
      "   0.5         0.48823529  0.5         0.45686275 -0.32745098 -0.5\n",
      "  -0.48823529]\n",
      " [ 0.12352941  0.33529412  0.32745098  0.33529412  0.45686275  0.5\n",
      "   0.49607843  0.5         0.5         0.5         0.5         0.5\n",
      "   0.38235294  0.33529412  0.33529412  0.34313725  0.46470588  0.5\n",
      "   0.49215686  0.5         0.5         0.5         0.5         0.48823529\n",
      "   0.5         0.31960784 -0.46470588 -0.49215686]\n",
      " [-0.5        -0.5        -0.5        -0.5        -0.13529412  0.5\n",
      "   0.48823529  0.5         0.5         0.5         0.48823529  0.5\n",
      "  -0.21764706 -0.5        -0.5        -0.5        -0.35098039  0.1745098\n",
      "   0.5         0.49215686  0.5         0.5         0.5         0.5\n",
      "   0.48823529  0.5        -0.13137255 -0.5       ]\n",
      " [-0.49607843 -0.49607843 -0.48431373 -0.49607843 -0.28823529  0.5\n",
      "   0.49215686  0.5         0.5         0.5         0.48823529  0.5\n",
      "  -0.20588235 -0.49607843 -0.48431373 -0.49607843 -0.5        -0.48431373\n",
      "   0.3         0.49607843  0.48823529  0.5         0.5         0.5\n",
      "   0.48823529  0.49607843  0.3        -0.47647059]\n",
      " [-0.5        -0.5        -0.48823529 -0.5        -0.26862745  0.5\n",
      "   0.49215686  0.5         0.5         0.5         0.48823529  0.5\n",
      "  -0.20588235 -0.5        -0.48823529 -0.5        -0.48039216 -0.5\n",
      "  -0.1627451   0.5         0.48823529  0.5         0.5         0.5         0.5\n",
      "   0.49607843  0.5        -0.24901961]\n",
      " [-0.5        -0.5        -0.48823529 -0.5        -0.27254902  0.5\n",
      "   0.49215686  0.5         0.5         0.5         0.48823529  0.5\n",
      "  -0.20588235 -0.5        -0.48823529 -0.5        -0.49607843 -0.49607843\n",
      "  -0.41764706  0.4372549   0.5         0.49607843  0.5         0.5         0.5\n",
      "   0.48823529  0.5         0.03333333]\n",
      " [-0.5        -0.5        -0.48823529 -0.5        -0.27254902  0.5\n",
      "   0.49215686  0.5         0.5         0.5         0.48823529  0.5\n",
      "  -0.20588235 -0.5        -0.48823529 -0.5        -0.5        -0.49607843\n",
      "  -0.5         0.28823529  0.5         0.48823529  0.5         0.5         0.5\n",
      "   0.49215686  0.5         0.24117647]\n",
      " [-0.5        -0.5        -0.48823529 -0.5        -0.27254902  0.5\n",
      "   0.49215686  0.5         0.5         0.5         0.48823529  0.5\n",
      "  -0.20588235 -0.5        -0.48823529 -0.5        -0.5        -0.49215686\n",
      "  -0.5         0.19411765  0.5         0.48823529  0.5         0.5         0.5\n",
      "   0.49607843  0.5         0.36666667]\n",
      " [-0.5        -0.5        -0.48823529 -0.5        -0.27254902  0.5\n",
      "   0.49215686  0.5         0.5         0.5         0.48823529  0.5\n",
      "  -0.20588235 -0.5        -0.48823529 -0.5        -0.5        -0.48823529\n",
      "  -0.5         0.13529412  0.5         0.48431373  0.5         0.5         0.5\n",
      "   0.5         0.5         0.44901961]\n",
      " [-0.5        -0.5        -0.48823529 -0.5        -0.27254902  0.5\n",
      "   0.49215686  0.5         0.5         0.5         0.48823529  0.5\n",
      "  -0.20588235 -0.5        -0.48823529 -0.5        -0.5        -0.48431373\n",
      "  -0.5         0.06470588  0.5         0.48431373  0.5         0.5         0.5\n",
      "   0.5         0.5         0.48823529]\n",
      " [-0.5        -0.5        -0.48823529 -0.5        -0.27254902  0.5\n",
      "   0.49215686  0.5         0.5         0.5         0.48823529  0.5\n",
      "  -0.20588235 -0.5        -0.48823529 -0.5        -0.5        -0.48431373\n",
      "  -0.5         0.04901961  0.5         0.48431373  0.5         0.5         0.5\n",
      "   0.5         0.5         0.47647059]\n",
      " [-0.5        -0.5        -0.48823529 -0.5        -0.27254902  0.5\n",
      "   0.49215686  0.5         0.5         0.5         0.48823529  0.5\n",
      "  -0.20588235 -0.5        -0.48823529 -0.5        -0.5        -0.48431373\n",
      "  -0.5         0.07647059  0.5         0.48431373  0.5         0.5         0.5\n",
      "   0.49607843  0.5         0.40980392]\n",
      " [-0.5        -0.5        -0.48823529 -0.5        -0.27254902  0.5\n",
      "   0.49215686  0.5         0.5         0.5         0.48823529  0.5\n",
      "  -0.20588235 -0.5        -0.48823529 -0.5        -0.5        -0.48823529\n",
      "  -0.5         0.13529412  0.5         0.48431373  0.5         0.5         0.5\n",
      "   0.49607843  0.5         0.35490196]\n",
      " [-0.5        -0.5        -0.48823529 -0.5        -0.27254902  0.5\n",
      "   0.49215686  0.5         0.5         0.5         0.48823529  0.5\n",
      "  -0.20588235 -0.5        -0.48823529 -0.5        -0.5        -0.49607843\n",
      "  -0.5         0.23333333  0.5         0.48823529  0.5         0.5         0.5\n",
      "   0.49215686  0.5         0.2372549 ]\n",
      " [-0.5        -0.5        -0.48823529 -0.5        -0.27254902  0.5\n",
      "   0.49215686  0.5         0.5         0.5         0.48823529  0.5\n",
      "  -0.20588235 -0.5        -0.48823529 -0.5        -0.49607843 -0.5\n",
      "  -0.47254902  0.37843137  0.5         0.49215686  0.5         0.5         0.5\n",
      "   0.48823529  0.5        -0.00588235]\n",
      " [-0.5        -0.5        -0.48823529 -0.5        -0.26862745  0.5\n",
      "   0.49215686  0.5         0.5         0.5         0.48823529  0.5\n",
      "  -0.20196078 -0.5        -0.48823529 -0.5        -0.48039216 -0.49215686\n",
      "  -0.28039216  0.49215686  0.49215686  0.5         0.5         0.5         0.5\n",
      "   0.49607843  0.5        -0.24117647]\n",
      " [-0.49607843 -0.49607843 -0.48431373 -0.49607843 -0.28039216  0.5\n",
      "   0.49215686  0.5         0.5         0.5         0.48823529  0.5\n",
      "  -0.22156863 -0.49607843 -0.48431373 -0.49607843 -0.5        -0.5\n",
      "   0.18235294  0.5         0.48823529  0.5         0.5         0.5\n",
      "   0.49215686  0.49607843  0.33137255 -0.46862745]\n",
      " [-0.5        -0.5        -0.5        -0.5        -0.07647059  0.5\n",
      "   0.48823529  0.5         0.5         0.5         0.48823529  0.5\n",
      "  -0.08431373 -0.5        -0.5        -0.5        -0.38627451  0.06078431\n",
      "   0.5         0.49607843  0.5         0.5         0.5         0.5\n",
      "   0.48431373  0.5        -0.04901961 -0.5       ]\n",
      " [ 0.12352941  0.33529412  0.32745098  0.33529412  0.46862745  0.5\n",
      "   0.49607843  0.5         0.5         0.5         0.5         0.5\n",
      "   0.44901961  0.33529412  0.33529412  0.33921569  0.4372549   0.5\n",
      "   0.49607843  0.5         0.5         0.5         0.5         0.49215686\n",
      "   0.49215686  0.40196078 -0.42156863 -0.49607843]\n",
      " [ 0.27647059  0.5         0.5         0.5         0.5         0.5         0.5\n",
      "   0.5         0.5         0.5         0.5         0.5         0.5         0.5\n",
      "   0.5         0.5         0.5         0.48823529  0.5         0.5         0.5\n",
      "   0.5         0.49607843  0.48039216  0.5        -0.16666667 -0.5\n",
      "  -0.48823529]\n",
      " [ 0.24117647  0.49215686  0.48431373  0.49215686  0.49607843  0.5         0.5\n",
      "   0.5         0.5         0.5         0.5         0.5         0.49607843\n",
      "   0.49215686  0.49215686  0.49215686  0.49607843  0.5         0.5         0.5\n",
      "   0.5         0.49215686  0.48823529  0.5         0.05686275 -0.5\n",
      "  -0.48823529 -0.5       ]\n",
      " [ 0.24901961  0.5         0.49215686  0.5         0.5         0.5         0.5\n",
      "   0.5         0.5         0.5         0.5         0.5         0.5         0.5\n",
      "   0.5         0.5         0.5         0.5         0.49607843  0.49215686\n",
      "   0.49215686  0.5         0.5         0.05686275 -0.5        -0.48823529\n",
      "  -0.5        -0.5       ]\n",
      " [ 0.24901961  0.5         0.49215686  0.5         0.5         0.5         0.5\n",
      "   0.5         0.5         0.5         0.5         0.5         0.5         0.5\n",
      "   0.5         0.5         0.5         0.5         0.5         0.5         0.5\n",
      "   0.34313725 -0.17843137 -0.5        -0.49215686 -0.49607843 -0.5        -0.5       ]\n",
      " [ 0.24901961  0.5         0.49215686  0.5         0.5         0.5         0.5\n",
      "   0.5         0.5         0.5         0.5         0.5         0.5         0.5\n",
      "   0.5         0.5         0.5         0.45294118  0.3627451   0.20196078\n",
      "  -0.14313725 -0.44117647 -0.5        -0.48823529 -0.5        -0.5        -0.5\n",
      "  -0.5       ]]\n",
      "dataset [0:2,:,:]  [[[-0.5        -0.5        -0.46862745 ..., -0.5        -0.5        -0.5       ]\n",
      "  [-0.5        -0.48039216 -0.36666667 ..., -0.5        -0.5        -0.5       ]\n",
      "  [-0.5        -0.28823531 -0.12745099 ..., -0.5        -0.5        -0.5       ]\n",
      "  ..., \n",
      "  [-0.40588236 -0.31176472  0.20980392 ..., -0.5        -0.5        -0.5       ]\n",
      "  [-0.46470588 -0.24901961 -0.21764706 ..., -0.5        -0.5        -0.5       ]\n",
      "  [-0.5        -0.47647059 -0.5        ..., -0.5        -0.5        -0.5       ]]\n",
      "\n",
      " [[ 0.5         0.5         0.5        ..., -0.5        -0.5        -0.5       ]\n",
      "  [ 0.5         0.5         0.5        ..., -0.5        -0.5        -0.5       ]\n",
      "  [ 0.5         0.5         0.5        ..., -0.5        -0.5        -0.5       ]\n",
      "  ..., \n",
      "  [ 0.5         0.5         0.5        ..., -0.5        -0.5        -0.5       ]\n",
      "  [ 0.5         0.5         0.5        ..., -0.5        -0.5        -0.5       ]\n",
      "  [ 0.5         0.5         0.5        ..., -0.5        -0.5        -0.5       ]]]\n",
      "Full dataset tensor: (1873L, 28L, 28L)\n",
      "Mean: -0.0492167\n",
      "Standard deviation: 0.459759\n",
      "Pickling ./notMNIST_small\\E.pickle.\n",
      "dataset.size  1468432 dataset.shape  (1873L, 28L, 28L)\n",
      "./notMNIST_small\\E\n",
      "expected image number 1355 of 1873 samples\n",
      "images # 1355 , file ./notMNIST_small\\E\\RkZGIEludGVyZmFjZTA2Yi50dGY=.png\n"
     ]
    },
    {
     "data": {
      "image/png": "[encoded data removed]",
      "text/plain": [
       "<IPython.core.display.Image object>"
      ]
     },
     "metadata": {},
     "output_type": "display_data"
    },
    {
     "name": "stdout",
     "output_type": "stream",
     "text": [
      "image_data  [[-0.5        -0.49607843 -0.48431373 -0.40196078  0.44901961  0.5\n",
      "   0.49607843  0.5         0.5         0.5         0.5         0.5         0.5\n",
      "   0.5         0.5         0.5         0.5         0.5         0.5         0.5\n",
      "   0.5         0.49607843  0.5         0.40980392 -0.42941176 -0.48431373\n",
      "  -0.49607843 -0.5       ]\n",
      " [-0.5        -0.5        -0.5        -0.48039216  0.44509804  0.5\n",
      "   0.49607843  0.5         0.5         0.5         0.5         0.5         0.5\n",
      "   0.5         0.5         0.5         0.5         0.5         0.5         0.5\n",
      "   0.5         0.49607843  0.5         0.40196078 -0.5        -0.5        -0.5\n",
      "  -0.5       ]\n",
      " [-0.49607843 -0.45294118  0.00588235  0.07647059  0.47254902  0.5\n",
      "   0.49607843  0.5         0.5         0.5         0.5         0.5         0.5\n",
      "   0.5         0.5         0.5         0.5         0.5         0.5         0.5\n",
      "   0.5         0.49607843  0.5         0.45686275  0.06862745 -0.01372549\n",
      "  -0.46862745 -0.49607843]\n",
      " [-0.5        -0.4372549   0.5         0.5         0.5         0.5         0.5\n",
      "   0.5         0.5         0.5         0.5         0.5         0.5         0.5\n",
      "   0.5         0.5         0.5         0.5         0.5         0.5         0.5\n",
      "   0.5         0.5         0.5         0.5         0.46862745 -0.46470588\n",
      "  -0.5       ]\n",
      " [-0.43333333 -0.3627451   0.43333333  0.48431373  0.49607843  0.5         0.5\n",
      "   0.5         0.5         0.5         0.5         0.5         0.5         0.5\n",
      "   0.5         0.5         0.5         0.5         0.5         0.5         0.5\n",
      "   0.5         0.5         0.49607843  0.48431373  0.39803922 -0.39019608\n",
      "  -0.4372549 ]\n",
      " [ 0.42156863  0.42941176  0.49607843  0.5         0.5         0.5         0.5\n",
      "   0.49607843  0.48431373  0.48431373  0.48431373  0.48431373  0.48431373\n",
      "   0.48431373  0.48431373  0.48431373  0.48431373  0.48431373  0.48431373\n",
      "   0.48431373  0.5         0.5         0.5         0.5         0.5\n",
      "   0.49215686  0.4254902   0.38235294]\n",
      " [ 0.5         0.5         0.5         0.5         0.5         0.5         0.5\n",
      "   0.5         0.5         0.5         0.5         0.5         0.5         0.5\n",
      "   0.5         0.5         0.5         0.5         0.5         0.5         0.5\n",
      "   0.5         0.5         0.5         0.5         0.5         0.5\n",
      "   0.47647059]\n",
      " [ 0.49607843  0.49607843  0.5         0.5         0.5         0.49607843\n",
      "   0.5         0.40588235 -0.00980392 -0.00588235 -0.00588235 -0.00588235\n",
      "  -0.00588235 -0.00588235 -0.00588235 -0.00588235 -0.00588235 -0.00588235\n",
      "  -0.00980392  0.03333333  0.46470588  0.5         0.49607843  0.5         0.5\n",
      "   0.5         0.49607843  0.45294118]\n",
      " [ 0.5         0.5         0.5         0.5         0.5         0.49215686\n",
      "   0.5         0.30392157 -0.5        -0.5        -0.5        -0.5        -0.5\n",
      "  -0.5        -0.5        -0.5        -0.5        -0.5        -0.5\n",
      "  -0.47647059  0.42941176  0.5         0.49607843  0.5         0.5         0.5\n",
      "   0.5         0.45686275]\n",
      " [ 0.5         0.5         0.5         0.5         0.5         0.49215686\n",
      "   0.5         0.31960784 -0.48431373 -0.48431373 -0.48431373 -0.48823529\n",
      "  -0.5        -0.5        -0.5        -0.5        -0.5        -0.5        -0.5\n",
      "  -0.47647059  0.42941176  0.5         0.49607843  0.5         0.5         0.5\n",
      "   0.5         0.45686275]\n",
      " [ 0.5         0.5         0.5         0.5         0.5         0.49215686\n",
      "   0.5         0.31568627 -0.5        -0.49607843 -0.5        -0.47254902\n",
      "   0.0372549   0.09215686  0.09215686  0.09215686  0.09215686  0.09607843\n",
      "   0.10392157  0.13529412  0.47254902  0.5         0.5         0.5         0.5\n",
      "   0.5         0.5         0.45686275]\n",
      " [ 0.5         0.5         0.5         0.5         0.5         0.49215686\n",
      "   0.5         0.31568627 -0.5        -0.49607843 -0.5        -0.44509804\n",
      "   0.5         0.5         0.5         0.5         0.5         0.5         0.5\n",
      "   0.5         0.5         0.5         0.5         0.5         0.5         0.5\n",
      "   0.5         0.45686275]\n",
      " [ 0.5         0.5         0.5         0.5         0.5         0.49215686\n",
      "   0.5         0.31568627 -0.5        -0.49607843 -0.5        -0.46862745\n",
      "   0.13921569  0.20588235  0.20588235  0.20980392  0.20588235  0.2254902\n",
      "   0.46470588  0.48431373  0.49607843  0.5         0.5         0.5         0.5\n",
      "   0.5         0.5         0.45686275]\n",
      " [ 0.5         0.5         0.5         0.5         0.5         0.49215686\n",
      "   0.5         0.31568627 -0.5        -0.5        -0.5        -0.5        -0.5\n",
      "  -0.5        -0.5        -0.5        -0.5        -0.46862745  0.42156863\n",
      "   0.5         0.49607843  0.5         0.5         0.5         0.5         0.5\n",
      "   0.5         0.45686275]\n",
      " [ 0.5         0.5         0.5         0.5         0.5         0.49215686\n",
      "   0.5         0.31568627 -0.5        -0.5        -0.5        -0.5        -0.5\n",
      "  -0.5        -0.5        -0.5        -0.5        -0.46862745  0.42156863\n",
      "   0.5         0.49607843  0.5         0.5         0.5         0.5         0.5\n",
      "   0.5         0.45686275]\n",
      " [ 0.5         0.5         0.5         0.5         0.5         0.49215686\n",
      "   0.5         0.31568627 -0.5        -0.49607843 -0.5        -0.46862745\n",
      "   0.13921569  0.20588235  0.20588235  0.20980392  0.20588235  0.2254902\n",
      "   0.46470588  0.48431373  0.49607843  0.5         0.5         0.5         0.5\n",
      "   0.5         0.5         0.45686275]\n",
      " [ 0.5         0.5         0.5         0.5         0.5         0.49215686\n",
      "   0.5         0.31568627 -0.5        -0.49607843 -0.5        -0.44509804\n",
      "   0.5         0.5         0.5         0.5         0.5         0.5         0.5\n",
      "   0.5         0.5         0.5         0.5         0.5         0.5         0.5\n",
      "   0.5         0.45686275]\n",
      " [ 0.5         0.5         0.5         0.5         0.5         0.49215686\n",
      "   0.5         0.31568627 -0.5        -0.49607843 -0.5        -0.47254902\n",
      "   0.0372549   0.09215686  0.09215686  0.09215686  0.09215686  0.09607843\n",
      "   0.10392157  0.13529412  0.47254902  0.5         0.5         0.5         0.5\n",
      "   0.5         0.5         0.45686275]\n",
      " [ 0.5         0.5         0.5         0.5         0.5         0.49215686\n",
      "   0.5         0.31960784 -0.48431373 -0.48431373 -0.48431373 -0.48823529\n",
      "  -0.5        -0.5        -0.5        -0.5        -0.5        -0.5        -0.5\n",
      "  -0.47647059  0.42941176  0.5         0.49607843  0.5         0.5         0.5\n",
      "   0.5         0.45686275]\n",
      " [ 0.5         0.5         0.5         0.5         0.5         0.49215686\n",
      "   0.5         0.30392157 -0.5        -0.5        -0.5        -0.5        -0.5\n",
      "  -0.5        -0.5        -0.5        -0.5        -0.5        -0.5\n",
      "  -0.47647059  0.42941176  0.5         0.49607843  0.5         0.5         0.5\n",
      "   0.5         0.45686275]\n",
      " [ 0.49607843  0.49607843  0.5         0.5         0.5         0.49607843\n",
      "   0.5         0.40588235 -0.00980392 -0.00588235 -0.00588235 -0.00588235\n",
      "  -0.00588235 -0.00588235 -0.00588235 -0.00588235 -0.00588235 -0.00588235\n",
      "  -0.00980392  0.03333333  0.46470588  0.5         0.49607843  0.5         0.5\n",
      "   0.5         0.49607843  0.45294118]\n",
      " [ 0.5         0.5         0.5         0.5         0.5         0.5         0.5\n",
      "   0.5         0.5         0.5         0.5         0.5         0.5         0.5\n",
      "   0.5         0.5         0.5         0.5         0.5         0.5         0.5\n",
      "   0.5         0.5         0.5         0.5         0.5         0.5\n",
      "   0.47647059]\n",
      " [ 0.42156863  0.42941176  0.49607843  0.5         0.5         0.5         0.5\n",
      "   0.49607843  0.48431373  0.48431373  0.48431373  0.48431373  0.48431373\n",
      "   0.48431373  0.48431373  0.48431373  0.48431373  0.48431373  0.48431373\n",
      "   0.48431373  0.5         0.5         0.5         0.5         0.5\n",
      "   0.49215686  0.4254902   0.38235294]\n",
      " [-0.43333333 -0.3627451   0.43333333  0.48431373  0.49607843  0.5         0.5\n",
      "   0.5         0.5         0.5         0.5         0.5         0.5         0.5\n",
      "   0.5         0.5         0.5         0.5         0.5         0.5         0.5\n",
      "   0.5         0.5         0.49607843  0.48431373  0.39803922 -0.39019608\n",
      "  -0.4372549 ]\n",
      " [-0.5        -0.4372549   0.5         0.5         0.5         0.5         0.5\n",
      "   0.5         0.5         0.5         0.5         0.5         0.5         0.5\n",
      "   0.5         0.5         0.5         0.5         0.5         0.5         0.5\n",
      "   0.5         0.5         0.5         0.5         0.46862745 -0.46470588\n",
      "  -0.5       ]\n",
      " [-0.49607843 -0.45294118  0.00588235  0.07647059  0.47254902  0.5\n",
      "   0.49607843  0.5         0.5         0.5         0.5         0.5         0.5\n",
      "   0.5         0.5         0.5         0.5         0.5         0.5         0.5\n",
      "   0.5         0.49607843  0.5         0.45686275  0.06862745 -0.01372549\n",
      "  -0.46862745 -0.49607843]\n",
      " [-0.5        -0.5        -0.5        -0.48039216  0.44509804  0.5\n",
      "   0.49607843  0.5         0.5         0.5         0.5         0.5         0.5\n",
      "   0.5         0.5         0.5         0.5         0.5         0.5         0.5\n",
      "   0.5         0.49607843  0.5         0.40196078 -0.5        -0.5        -0.5\n",
      "  -0.5       ]\n",
      " [-0.5        -0.49607843 -0.48431373 -0.40196078  0.44901961  0.5\n",
      "   0.49607843  0.5         0.5         0.5         0.5         0.5         0.5\n",
      "   0.5         0.5         0.5         0.5         0.5         0.5         0.5\n",
      "   0.5         0.49607843  0.5         0.40980392 -0.42941176 -0.48431373\n",
      "  -0.49607843 -0.5       ]]\n",
      "dataset [0:2,:,:]  [[[-0.5        -0.49607843 -0.48039216 ..., -0.49215686 -0.5        -0.5       ]\n",
      "  [-0.49607843 -0.48431373 -0.46078432 ..., -0.42941177 -0.44509804 -0.5       ]\n",
      "  [-0.5        -0.33137256 -0.32352942 ..., -0.40196079 -0.3509804\n",
      "   -0.48823529]\n",
      "  ..., \n",
      "  [-0.49607843 -0.40980393 -0.19019608 ..., -0.43333334 -0.45686275 -0.5       ]\n",
      "  [-0.44901961 -0.44509804 -0.30392158 ..., -0.25294119 -0.49607843 -0.5       ]\n",
      "  [-0.5        -0.5        -0.48823529 ..., -0.48039216 -0.5        -0.5       ]]\n",
      "\n",
      " [[ 0.5         0.5         0.5        ...,  0.5         0.5         0.5       ]\n",
      "  [ 0.5         0.5         0.5        ...,  0.5         0.5         0.5       ]\n",
      "  [ 0.5         0.5         0.5        ...,  0.5         0.5         0.5       ]\n",
      "  ..., \n",
      "  [ 0.5         0.5         0.5        ...,  0.5         0.5         0.5       ]\n",
      "  [ 0.5         0.5         0.5        ...,  0.5         0.5         0.5       ]\n",
      "  [ 0.5         0.5         0.5        ...,  0.5         0.5         0.5       ]]]\n",
      "Full dataset tensor: (1873L, 28L, 28L)\n",
      "Mean: -0.0599148\n",
      "Standard deviation: 0.45735\n",
      "Pickling ./notMNIST_small\\F.pickle.\n",
      "dataset.size  1468432 dataset.shape  (1873L, 28L, 28L)\n",
      "./notMNIST_small\\F\n",
      "expected image number 547 of 1873 samples\n",
      "Could not read: ./notMNIST_small\\F\\Q3Jvc3NvdmVyIEJvbGRPYmxpcXVlLnR0Zg==.png : cannot identify image file './notMNIST_small\\\\F\\\\Q3Jvc3NvdmVyIEJvbGRPYmxpcXVlLnR0Zg==.png' - it's ok, skipping.\n",
      "images # 547 , file ./notMNIST_small\\F\\QmFyYmVyUG9sZSBSZWd1bGFyLnR0Zg==.png\n"
     ]
    },
    {
     "data": {
      "image/png": "[encoded data removed]",
      "text/plain": [
       "<IPython.core.display.Image object>"
      ]
     },
     "metadata": {},
     "output_type": "display_data"
    },
    {
     "name": "stdout",
     "output_type": "stream",
     "text": [
      "image_data  [[-0.11568627  0.5         0.5         0.49607843  0.48431373  0.48823529\n",
      "   0.5         0.41372549  0.00980392 -0.39019608 -0.5        -0.49607843\n",
      "  -0.49215686 -0.48431373 -0.48823529 -0.18235294  0.26078431  0.48431373\n",
      "   0.5         0.46078431  0.45686275  0.47647059  0.5         0.30392157\n",
      "  -0.14313725 -0.46862745 -0.5        -0.49607843]\n",
      " [-0.5        -0.32352941  0.08039216  0.42156863  0.5         0.5\n",
      "   0.48823529  0.49215686  0.5         0.42156863  0.08431373 -0.32352941\n",
      "  -0.5        -0.5        -0.49607843 -0.5        -0.44901961 -0.15098039\n",
      "   0.26470588  0.49215686  0.5         0.49607843  0.48823529  0.5         0.5\n",
      "   0.33529412 -0.06862745 -0.40588235]\n",
      " [-0.5        -0.49607843 -0.5        -0.40588235 -0.04509804  0.35098039\n",
      "   0.5         0.5         0.49215686  0.49607843  0.5         0.48039216\n",
      "   0.20196078 -0.2254902  -0.48039216 -0.5        -0.49607843 -0.5\n",
      "  -0.49607843 -0.27254902  0.14705882  0.45686275  0.5         0.49607843\n",
      "   0.48823529  0.49607843  0.5         0.26862745]\n",
      " [-0.49215686 -0.5        -0.5        -0.5        -0.5        -0.45686275\n",
      "  -0.15490196  0.26862745  0.49607843  0.5         0.48823529  0.48823529\n",
      "   0.5         0.49607843  0.29607843 -0.11568627 -0.44509804 -0.5\n",
      "  -0.49607843 -0.5        -0.5        -0.35490196  0.0372549   0.40980392\n",
      "   0.5         0.49215686  0.5         0.28823529]\n",
      " [-0.06862745  0.13529412 -0.34313725 -0.5        -0.5        -0.5        -0.5\n",
      "  -0.49607843 -0.25686275  0.16666667  0.46862745  0.5         0.49215686\n",
      "   0.48431373  0.5         0.5         0.38235294 -0.00588235 -0.38627451\n",
      "  -0.5        -0.49607843 -0.49607843 -0.5        -0.42941176 -0.07254902\n",
      "   0.32745098  0.5         0.26862745]\n",
      " [-0.00588235  0.5         0.45686275  0.18627451 -0.2372549  -0.48823529\n",
      "  -0.5        -0.5        -0.49607843 -0.5        -0.34705882  0.06078431\n",
      "   0.42156863  0.5         0.49607843  0.48431373  0.49607843  0.5\n",
      "   0.4372549   0.1        -0.31960784 -0.5        -0.49607843 -0.5        -0.5\n",
      "  -0.48039216 -0.15098039 -0.00196078]\n",
      " [ 0.00588235  0.5         0.47254902  0.5         0.49607843  0.28431373\n",
      "  -0.13921569 -0.45686275 -0.5        -0.49607843 -0.49607843 -0.5\n",
      "  -0.41764706 -0.05294118  0.34313725  0.5         0.49607843  0.5         0.5\n",
      "   0.5         0.49607843  0.23333333 -0.19411765 -0.46862745 -0.5\n",
      "  -0.49607843 -0.5        -0.5       ]\n",
      " [-0.11176471  0.5         0.5         0.49215686  0.48823529  0.5         0.5\n",
      "   0.3627451  -0.03333333 -0.40588235 -0.5        -0.49607843 -0.5        -0.5\n",
      "  -0.46078431 -0.1627451   0.24901961  0.38235294  0.3745098   0.3745098\n",
      "   0.40196078  0.46470588  0.45686275  0.23333333 -0.17058824 -0.47254902\n",
      "  -0.49215686 -0.49215686]\n",
      " [-0.5        -0.33529412  0.07647059  0.42156863  0.5         0.49607843\n",
      "   0.48039216  0.49607843  0.5         0.42941176  0.07647059 -0.33137255\n",
      "  -0.5        -0.5        -0.5        -0.5        -0.49607843 -0.46862745\n",
      "  -0.46470588 -0.46078431 -0.46078431 -0.46862745 -0.46078431 -0.40588235\n",
      "  -0.39411765 -0.48823529 -0.5        -0.5       ]\n",
      " [-0.5        -0.49607843 -0.5        -0.40588235 -0.0372549   0.35882353\n",
      "   0.5         0.49607843  0.48823529  0.49215686  0.5         0.47647059\n",
      "   0.18235294 -0.2372549  -0.48431373 -0.5        -0.49607843 -0.49607843\n",
      "  -0.5        -0.5        -0.5        -0.5        -0.5        -0.5        -0.5\n",
      "  -0.5        -0.5        -0.5       ]\n",
      " [-0.47647059 -0.48431373 -0.5        -0.49607843 -0.5        -0.45686275\n",
      "  -0.14705882  0.27647059  0.5         0.5         0.48823529  0.48431373\n",
      "   0.5         0.49607843  0.27647059 -0.26862745 -0.49215686 -0.5        -0.5\n",
      "  -0.48431373 -0.48431373 -0.49607843 -0.5        -0.48823529 -0.44117647\n",
      "  -0.48823529 -0.5        -0.5       ]\n",
      " [-0.11960784  0.25686275 -0.25294118 -0.48823529 -0.5        -0.49607843\n",
      "  -0.5        -0.49607843 -0.24509804  0.17843137  0.47254902  0.5\n",
      "   0.49215686  0.48431373  0.5         0.46862745  0.34313725 -0.02156863\n",
      "  -0.40196078 -0.5        -0.5        -0.48823529 -0.49215686 -0.46078431\n",
      "  -0.07254902  0.33529412 -0.22941176 -0.5       ]\n",
      " [-0.08431373  0.5         0.48431373  0.28823529 -0.13137255 -0.44901961\n",
      "  -0.5        -0.49607843 -0.5        -0.5        -0.33529412  0.07254902\n",
      "   0.4254902   0.5         0.49607843  0.49607843  0.49607843  0.5\n",
      "   0.43333333  0.08431373 -0.32745098 -0.5        -0.49607843 -0.5        -0.5\n",
      "  -0.31960784 -0.3745098  -0.5       ]\n",
      " [-0.06078431  0.5         0.47254902  0.49607843  0.5         0.37058824\n",
      "  -0.02156863 -0.39019608 -0.5        -0.49607843 -0.49607843 -0.5\n",
      "  -0.40588235 -0.03333333  0.35490196  0.5         0.49607843  0.48431373\n",
      "   0.49215686  0.5         0.48039216  0.19019608 -0.23333333 -0.48039216\n",
      "  -0.5        -0.5        -0.5        -0.5       ]\n",
      " [-0.19803922  0.44901961  0.5         0.49607843  0.48431373  0.49607843\n",
      "   0.5         0.42941176  0.09607843 -0.31568627 -0.5        -0.49607843\n",
      "  -0.49607843 -0.5        -0.45294118 -0.14705882  0.27254902  0.5         0.5\n",
      "   0.48823529  0.48431373  0.5         0.49607843  0.28823529 -0.12745098\n",
      "  -0.45294118 -0.5        -0.49607843]\n",
      " [-0.5        -0.41372549 -0.04509804  0.35098039  0.5         0.5\n",
      "   0.48431373  0.49215686  0.5         0.48431373  0.19803922 -0.2254902\n",
      "  -0.48431373 -0.5        -0.49607843 -0.5        -0.49607843 -0.24901961\n",
      "   0.1745098   0.47254902  0.5         0.49215686  0.48431373  0.5         0.5\n",
      "   0.37058824 -0.31960784 -0.5       ]\n",
      " [-0.5        -0.5        -0.5        -0.46078431 -0.15490196  0.26470588\n",
      "   0.49215686  0.5         0.48823529  0.48823529  0.5         0.5\n",
      "   0.29607843 -0.12352941 -0.44509804 -0.5        -0.49607843 -0.49607843\n",
      "  -0.5        -0.33529412  0.07254902  0.42941176  0.5         0.49607843\n",
      "   0.48431373  0.5        -0.19803922 -0.5       ]\n",
      " [-0.46078431 -0.47254902 -0.5        -0.49607843 -0.5        -0.49215686\n",
      "  -0.25294118  0.1627451   0.46470588  0.5         0.49215686  0.48431373\n",
      "   0.49607843  0.5         0.38235294 -0.00588235 -0.40196078 -0.49607843\n",
      "  -0.48823529 -0.49607843 -0.5        -0.40980392 -0.03333333  0.35882353\n",
      "   0.5         0.5        -0.20980392 -0.5       ]\n",
      " [-0.13529412  0.29215686 -0.21372549 -0.48039216 -0.5        -0.49607843\n",
      "  -0.5        -0.5        -0.34705882  0.05294118  0.42156863  0.5\n",
      "   0.49607843  0.48039216  0.5         0.04117647 -0.44117647 -0.5        -0.5\n",
      "  -0.49215686 -0.48823529 -0.5        -0.5        -0.44117647 -0.28823529\n",
      "  -0.28431373 -0.44117647 -0.5       ]\n",
      " [-0.13137255  0.5         0.48431373  0.31960784 -0.09215686 -0.43333333\n",
      "  -0.5        -0.49607843 -0.49607843 -0.5        -0.42156863 -0.05294118\n",
      "   0.34705882  0.5         0.5        -0.14705882 -0.5        -0.48823529\n",
      "  -0.5        -0.5        -0.5        -0.49215686 -0.48823529 -0.49607843\n",
      "  -0.5        -0.5        -0.5        -0.5       ]\n",
      " [-0.14313725  0.5         0.46862745  0.49607843  0.5         0.39803922\n",
      "   0.02156863 -0.37058824 -0.5        -0.49607843 -0.5        -0.5\n",
      "  -0.46862745 -0.16666667  0.28039216 -0.11960784 -0.5        -0.48823529\n",
      "  -0.5        -0.5        -0.5        -0.5        -0.5        -0.49607843\n",
      "  -0.48823529 -0.48823529 -0.49607843 -0.5       ]\n",
      " [-0.26470588  0.41764706  0.5         0.49607843  0.48431373  0.49607843\n",
      "   0.5         0.45686275  0.12745098 -0.29215686 -0.49607843 -0.5        -0.5\n",
      "  -0.5        -0.48823529 -0.44901961 -0.5        -0.5        -0.5        -0.5\n",
      "  -0.5        -0.5        -0.5        -0.5        -0.5        -0.5        -0.5\n",
      "  -0.5       ]\n",
      " [-0.5        -0.4254902  -0.08039216  0.32745098  0.5         0.5\n",
      "   0.48823529  0.48823529  0.5         0.48823529  0.23333333 -0.19019608\n",
      "  -0.47254902 -0.5        -0.49607843 -0.5        -0.5        -0.5        -0.5\n",
      "  -0.5        -0.5        -0.5        -0.5        -0.5        -0.5        -0.5\n",
      "  -0.5        -0.5       ]\n",
      " [-0.5        -0.49607843 -0.5        -0.47254902 -0.19019608  0.23333333\n",
      "   0.48823529  0.5         0.48823529  0.48431373  0.5         0.5\n",
      "   0.32745098 -0.08039216 -0.42941176 -0.5        -0.49607843 -0.5        -0.5\n",
      "  -0.5        -0.5        -0.5        -0.5        -0.5        -0.5        -0.5\n",
      "  -0.5        -0.5       ]\n",
      " [-0.48039216 -0.5        -0.5        -0.5        -0.5        -0.5\n",
      "  -0.28823529  0.13137255  0.45686275  0.5         0.49607843  0.48431373\n",
      "   0.49607843  0.5         0.41372549 -0.22156863 -0.5        -0.49215686\n",
      "  -0.5        -0.5        -0.5        -0.5        -0.5        -0.5        -0.5\n",
      "  -0.5        -0.5        -0.5       ]\n",
      " [-0.03333333  0.15098039 -0.33529412 -0.5        -0.5        -0.5\n",
      "  -0.49607843 -0.5        -0.37058824  0.0254902   0.40196078  0.5\n",
      "   0.49607843  0.47647059  0.5        -0.05686275 -0.5        -0.48431373\n",
      "  -0.5        -0.5        -0.5        -0.5        -0.5        -0.5        -0.5\n",
      "  -0.5        -0.5        -0.5       ]\n",
      " [ 0.01764706  0.5         0.46470588  0.21372549 -0.20196078 -0.47254902\n",
      "  -0.5        -0.49215686 -0.49607843 -0.5        -0.43333333 -0.09607843\n",
      "   0.30392157  0.5         0.5        -0.11568627 -0.5        -0.48823529\n",
      "  -0.5        -0.5        -0.5        -0.5        -0.5        -0.5        -0.5\n",
      "  -0.5        -0.5        -0.5       ]\n",
      " [-0.00196078  0.5         0.46078431  0.5         0.47254902  0.21372549\n",
      "  -0.24901961 -0.5        -0.49215686 -0.48823529 -0.49607843 -0.5\n",
      "  -0.47254902 -0.17843137  0.27647059 -0.14705882 -0.5        -0.48823529\n",
      "  -0.5        -0.5        -0.5        -0.5        -0.5        -0.5        -0.5\n",
      "  -0.5        -0.5        -0.5       ]]\n",
      "dataset [0:2,:,:]  [[[-0.5        -0.5        -0.48039216 ..., -0.44901961 -0.5        -0.5       ]\n",
      "  [-0.5        -0.32352942 -0.17843138 ..., -0.36666667 -0.45686275\n",
      "   -0.42941177]\n",
      "  [-0.5        -0.35882354  0.08431373 ...,  0.24117647 -0.35882354\n",
      "   -0.48431373]\n",
      "  ..., \n",
      "  [-0.5        -0.1627451  -0.46470588 ..., -0.5        -0.5        -0.5       ]\n",
      "  [-0.48823529 -0.28823531 -0.44117647 ..., -0.5        -0.5        -0.5       ]\n",
      "  [-0.5        -0.4137255  -0.41764706 ..., -0.5        -0.5        -0.5       ]]\n",
      "\n",
      " [[ 0.5         0.5         0.5        ...,  0.5         0.5         0.5       ]\n",
      "  [ 0.5         0.5         0.5        ...,  0.5         0.5         0.5       ]\n",
      "  [ 0.5         0.5         0.5        ...,  0.5         0.5         0.5       ]\n",
      "  ..., \n",
      "  [ 0.5         0.5         0.5        ..., -0.5        -0.5        -0.5       ]\n",
      "  [ 0.5         0.5         0.5        ..., -0.5        -0.5        -0.5       ]\n",
      "  [ 0.5         0.5         0.5        ..., -0.5        -0.5        -0.5       ]]]\n",
      "Full dataset tensor: (1872L, 28L, 28L)\n",
      "Mean: -0.118185\n",
      "Standard deviation: 0.452279\n",
      "Pickling ./notMNIST_small\\G.pickle.\n",
      "dataset.size  1467648 dataset.shape  (1872L, 28L, 28L)\n",
      "./notMNIST_small\\G\n",
      "expected image number 449 of 1872 samples\n",
      "images # 449 , file ./notMNIST_small\\G\\Qm9kb25pLUl0YWxpYy5vdGY=.png\n"
     ]
    },
    {
     "data": {
      "image/png": "[encoded data removed]",
      "text/plain": [
       "<IPython.core.display.Image object>"
      ]
     },
     "metadata": {},
     "output_type": "display_data"
    },
    {
     "name": "stdout",
     "output_type": "stream",
     "text": [
      "image_data  [[-0.5        -0.5        -0.5        -0.5        -0.5        -0.5        -0.5\n",
      "  -0.49607843 -0.48823529 -0.49607843 -0.5        -0.49607843 -0.35098039\n",
      "  -0.06470588  0.13137255  0.20980392  0.21372549  0.1627451   0.01764706\n",
      "  -0.26470588 -0.49215686 -0.5        -0.48823529 -0.5        -0.3745098\n",
      "  -0.39019608 -0.5        -0.49607843]\n",
      " [-0.5        -0.5        -0.5        -0.5        -0.5        -0.5\n",
      "  -0.49215686 -0.49215686 -0.5        -0.45294118 -0.12352941  0.28039216\n",
      "   0.5         0.28823529  0.00588235 -0.15098039 -0.16666667 -0.08039216\n",
      "   0.11960784  0.40588235  0.33529412 -0.1745098  -0.5        -0.26862745\n",
      "   0.46078431 -0.1        -0.5        -0.48823529]\n",
      " [-0.5        -0.5        -0.5        -0.5        -0.5        -0.48823529\n",
      "  -0.49607843 -0.49607843 -0.13137255  0.37058824  0.5         0.4254902\n",
      "  -0.19411765 -0.5        -0.49607843 -0.5        -0.5        -0.49607843\n",
      "  -0.5        -0.43333333  0.18235294  0.5         0.19019608  0.41372549\n",
      "   0.5        -0.28823529 -0.5        -0.48823529]\n",
      " [-0.5        -0.5        -0.5        -0.5        -0.48823529 -0.5\n",
      "  -0.39411765  0.21764706  0.5         0.5         0.38235294 -0.35098039\n",
      "  -0.5        -0.48823529 -0.48431373 -0.48823529 -0.48823529 -0.48823529\n",
      "  -0.48431373 -0.49607843 -0.5         0.15882353  0.5         0.5\n",
      "   0.42941176 -0.38235294 -0.5        -0.49215686]\n",
      " [-0.5        -0.5        -0.5        -0.48431373 -0.5        -0.27254902\n",
      "   0.39803922  0.5         0.49215686  0.47254902 -0.25686275 -0.5\n",
      "  -0.48039216 -0.49607843 -0.5        -0.5        -0.5        -0.5        -0.5\n",
      "  -0.48823529 -0.5        -0.3627451   0.4254902   0.5         0.31568627\n",
      "  -0.48039216 -0.5        -0.49607843]\n",
      " [-0.5        -0.5        -0.48823529 -0.5        -0.22941176  0.45294118\n",
      "   0.5         0.47254902  0.5         0.02941176 -0.5        -0.48039216\n",
      "  -0.5        -0.5        -0.5        -0.5        -0.5        -0.5        -0.5\n",
      "  -0.5        -0.48431373 -0.5         0.11960784  0.5         0.19019608\n",
      "  -0.5        -0.48823529 -0.5       ]\n",
      " [-0.5        -0.49215686 -0.5        -0.29215686  0.44509804  0.5\n",
      "   0.48431373  0.5         0.39803922 -0.41764706 -0.5        -0.49607843\n",
      "  -0.5        -0.5        -0.5        -0.5        -0.5        -0.5        -0.5\n",
      "  -0.5        -0.48823529 -0.5        -0.14313725  0.5         0.02941176\n",
      "  -0.5        -0.48823529 -0.5       ]\n",
      " [-0.49607843 -0.5        -0.42941176  0.35098039  0.5         0.48823529\n",
      "   0.48431373  0.5         0.00980392 -0.5        -0.48823529 -0.5        -0.5\n",
      "  -0.5        -0.5        -0.5        -0.5        -0.5        -0.5        -0.5\n",
      "  -0.49215686 -0.5        -0.32352941  0.5        -0.13921569 -0.5\n",
      "  -0.48823529 -0.5       ]\n",
      " [-0.49215686 -0.5         0.11176471  0.5         0.48431373  0.49607843\n",
      "   0.5         0.46470588 -0.33529412 -0.5        -0.49215686 -0.5        -0.5\n",
      "  -0.5        -0.5        -0.5        -0.5        -0.5        -0.5        -0.5\n",
      "  -0.49607843 -0.5        -0.44901961 -0.05294118 -0.39019608 -0.5\n",
      "  -0.49607843 -0.5       ]\n",
      " [-0.5        -0.24509804  0.5         0.49607843  0.5         0.48823529\n",
      "   0.5         0.21372549 -0.5        -0.49607843 -0.5        -0.5        -0.5\n",
      "  -0.5        -0.5        -0.5        -0.5        -0.5        -0.5        -0.5\n",
      "  -0.5        -0.5        -0.5        -0.5        -0.5        -0.5        -0.5\n",
      "  -0.5       ]\n",
      " [-0.5         0.19803922  0.5         0.48823529  0.5         0.48823529\n",
      "   0.5        -0.11960784 -0.5        -0.48431373 -0.5        -0.5        -0.5\n",
      "  -0.5        -0.5        -0.5        -0.5        -0.5        -0.5        -0.5\n",
      "  -0.5        -0.5        -0.5        -0.48823529 -0.49607843 -0.5        -0.5\n",
      "  -0.5       ]\n",
      " [-0.31568627  0.47254902  0.5         0.5         0.49607843  0.5\n",
      "   0.46470588 -0.37843137 -0.5        -0.49215686 -0.5        -0.5        -0.5\n",
      "  -0.5        -0.5        -0.5        -0.5        -0.5        -0.5        -0.5\n",
      "  -0.5        -0.5        -0.5        -0.5        -0.5        -0.5        -0.5\n",
      "  -0.5       ]\n",
      " [-0.00588235  0.5         0.48823529  0.5         0.48823529  0.5\n",
      "   0.27254902 -0.5        -0.5        -0.49607843 -0.5        -0.5        -0.5\n",
      "  -0.5        -0.5        -0.5        -0.5        -0.5        -0.5        -0.5\n",
      "  -0.5        -0.5        -0.5        -0.5        -0.5        -0.5        -0.5\n",
      "  -0.5       ]\n",
      " [ 0.21764706  0.5         0.49215686  0.5         0.48431373  0.5\n",
      "   0.06078431 -0.5        -0.48431373 -0.5        -0.5        -0.5        -0.5\n",
      "  -0.5        -0.5        -0.5        -0.5        -0.5        -0.5        -0.5\n",
      "  -0.5        -0.5        -0.5        -0.5        -0.5        -0.5        -0.5\n",
      "  -0.5       ]\n",
      " [ 0.38627451  0.5         0.49607843  0.5         0.49215686  0.5\n",
      "  -0.12352941 -0.5        -0.48431373 -0.5        -0.5        -0.5        -0.5\n",
      "  -0.5        -0.5        -0.5        -0.5        -0.5        -0.5        -0.5\n",
      "  -0.5        -0.5        -0.5        -0.5        -0.5        -0.5        -0.5\n",
      "  -0.5       ]\n",
      " [ 0.46862745  0.5         0.5         0.5         0.5         0.5\n",
      "  -0.31960784 -0.5        -0.49215686 -0.5        -0.5        -0.5        -0.5\n",
      "  -0.5        -0.48823529 -0.48823529 -0.48823529 -0.48823529 -0.48823529\n",
      "  -0.48823529 -0.48823529 -0.48823529 -0.48823529 -0.48823529 -0.48823529\n",
      "  -0.48823529 -0.48823529 -0.49215686]\n",
      " [ 0.48039216  0.5         0.5         0.49607843  0.5         0.4372549\n",
      "  -0.42156863 -0.5        -0.49607843 -0.5        -0.5        -0.5        -0.5\n",
      "  -0.5        -0.5        -0.5        -0.5        -0.5        -0.5        -0.5\n",
      "  -0.5        -0.5        -0.5        -0.5        -0.5        -0.5        -0.5\n",
      "  -0.5       ]\n",
      " [ 0.41372549  0.5         0.49607843  0.49215686  0.5         0.31176471\n",
      "  -0.47647059 -0.5        -0.49607843 -0.5        -0.5        -0.5        -0.5\n",
      "  -0.48431373 -0.11568627 -0.05294118 -0.06470588 -0.06862745 -0.13137255\n",
      "  -0.14705882 -0.14313725 -0.14313725 -0.14313725 -0.14313725 -0.08039216\n",
      "  -0.06862745 -0.04117647 -0.24117647]\n",
      " [ 0.32352941  0.5         0.49607843  0.48823529  0.5         0.21372549\n",
      "  -0.5        -0.49607843 -0.5        -0.5        -0.5        -0.49607843\n",
      "  -0.5        -0.46078431  0.04901961  0.10392157  0.08431373  0.12352941\n",
      "   0.45686275  0.5         0.49607843  0.5         0.49607843  0.5\n",
      "   0.18627451  0.06470588  0.12745098 -0.18235294]\n",
      " [ 0.11960784  0.5         0.48823529  0.48431373  0.5         0.15882353\n",
      "  -0.5        -0.48823529 -0.5        -0.5        -0.5        -0.5        -0.5\n",
      "  -0.5        -0.5        -0.49607843 -0.5        -0.40588235  0.39803922\n",
      "   0.5         0.48431373  0.48039216  0.5         0.34705882 -0.46862745\n",
      "  -0.5        -0.49607843 -0.5       ]\n",
      " [-0.14313725  0.5         0.49607843  0.48431373  0.5         0.11568627\n",
      "  -0.5        -0.48431373 -0.5        -0.5        -0.5        -0.5        -0.5\n",
      "  -0.5        -0.48431373 -0.46862745 -0.5        -0.26470588  0.5\n",
      "   0.49607843  0.5         0.48823529  0.5         0.08039216 -0.5\n",
      "  -0.46862745 -0.48039216 -0.49215686]\n",
      " [-0.46078431  0.33137255  0.5         0.47647059  0.5         0.13921569\n",
      "  -0.5        -0.48431373 -0.5        -0.5        -0.5        -0.5        -0.5\n",
      "  -0.5        -0.5        -0.48823529 -0.5        -0.1         0.5\n",
      "   0.48823529  0.49607843  0.5         0.46862745 -0.32352941 -0.5\n",
      "  -0.49215686 -0.5        -0.5       ]\n",
      " [-0.5        -0.08039216  0.5         0.47254902  0.5         0.24509804\n",
      "  -0.5        -0.49607843 -0.49607843 -0.5        -0.5        -0.5        -0.5\n",
      "  -0.5        -0.5        -0.48823529 -0.5         0.19411765  0.5\n",
      "   0.48823529  0.48039216  0.5         0.08431373 -0.5        -0.49215686\n",
      "  -0.5        -0.5        -0.5       ]\n",
      " [-0.5        -0.48823529  0.2372549   0.5         0.49215686  0.44117647\n",
      "  -0.39019608 -0.5        -0.49215686 -0.5        -0.5        -0.5        -0.5\n",
      "  -0.5        -0.48823529 -0.5        -0.33137255  0.46862745  0.5\n",
      "   0.47647059  0.5         0.29215686 -0.44901961 -0.5        -0.49607843\n",
      "  -0.5        -0.5        -0.5       ]\n",
      " [-0.49607843 -0.5        -0.41372549  0.29607843  0.5         0.5\n",
      "   0.02156863 -0.5        -0.48431373 -0.48431373 -0.48823529 -0.48823529\n",
      "  -0.48823529 -0.48431373 -0.49607843 -0.5         0.19411765  0.5\n",
      "   0.47647059  0.5         0.31568627 -0.38235294 -0.5        -0.49215686\n",
      "  -0.5        -0.5        -0.5        -0.5       ]\n",
      " [-0.5        -0.49215686 -0.5        -0.44117647  0.13921569  0.5         0.5\n",
      "  -0.05294118 -0.5        -0.49607843 -0.5        -0.5        -0.49607843\n",
      "  -0.5        -0.47647059  0.09607843  0.5         0.49215686  0.49607843\n",
      "   0.13921569 -0.4254902  -0.5        -0.49215686 -0.5        -0.5        -0.5\n",
      "  -0.5        -0.5       ]\n",
      " [-0.5        -0.5        -0.49607843 -0.49607843 -0.5        -0.25294118\n",
      "   0.18627451  0.47647059  0.31568627  0.02156863 -0.12352941 -0.18235294\n",
      "  -0.13137255  0.07254902  0.39803922  0.5         0.41764706  0.15490196\n",
      "  -0.25686275 -0.5        -0.49215686 -0.49215686 -0.5        -0.5        -0.5\n",
      "  -0.5        -0.5        -0.5       ]\n",
      " [-0.5        -0.5        -0.5        -0.49607843 -0.49215686 -0.5        -0.5\n",
      "  -0.39803922 -0.12745098  0.08039216  0.17843137  0.2254902   0.21372549\n",
      "   0.1745098   0.03333333 -0.21764706 -0.40196078 -0.5        -0.5\n",
      "  -0.48823529 -0.49607843 -0.5        -0.5        -0.5        -0.5        -0.5\n",
      "  -0.5        -0.5       ]]\n",
      "dataset [0:2,:,:]  [[[-0.5 -0.5 -0.5 ..., -0.5 -0.5 -0.5]\n",
      "  [-0.5 -0.5 -0.5 ..., -0.5 -0.5 -0.5]\n",
      "  [-0.5 -0.5 -0.5 ..., -0.5 -0.5 -0.5]\n",
      "  ..., \n",
      "  [-0.5 -0.5 -0.5 ..., -0.5 -0.5 -0.5]\n",
      "  [-0.5 -0.5 -0.5 ..., -0.5 -0.5 -0.5]\n",
      "  [-0.5 -0.5 -0.5 ..., -0.5 -0.5 -0.5]]\n",
      "\n",
      " [[ 0.5  0.5  0.5 ...,  0.5  0.5  0.5]\n",
      "  [ 0.5  0.5  0.5 ...,  0.5  0.5  0.5]\n",
      "  [ 0.5  0.5  0.5 ...,  0.5  0.5  0.5]\n",
      "  ..., \n",
      "  [ 0.5  0.5  0.5 ...,  0.5  0.5  0.5]\n",
      "  [ 0.5  0.5  0.5 ...,  0.5  0.5  0.5]\n",
      "  [ 0.5  0.5  0.5 ...,  0.5  0.5  0.5]]]\n",
      "Full dataset tensor: (1872L, 28L, 28L)\n",
      "Mean: -0.0925503\n",
      "Standard deviation: 0.449006\n",
      "Pickling ./notMNIST_small\\H.pickle.\n",
      "dataset.size  1467648 dataset.shape  (1872L, 28L, 28L)\n",
      "./notMNIST_small\\H\n",
      "expected image number 1049 of 1872 samples\n",
      "images # 1049 , file ./notMNIST_small\\H\\R2FyYW1vbmQgUmV0cm9zcGVjdGl2ZSBPUyBTU2kgTm9ybWFsLnR0Zg==.png\n"
     ]
    },
    {
     "data": {
      "image/png": "[encoded data removed]",
      "text/plain": [
       "<IPython.core.display.Image object>"
      ]
     },
     "metadata": {},
     "output_type": "display_data"
    },
    {
     "name": "stdout",
     "output_type": "stream",
     "text": [
      "image_data  [[-0.5        -0.49215686 -0.5        -0.25294118  0.31176471  0.37843137\n",
      "   0.5         0.5         0.49607843  0.5         0.46078431  0.32352941\n",
      "  -0.09215686 -0.5        -0.48823529 -0.5        -0.5        -0.5\n",
      "  -0.48431373  0.1745098   0.32745098  0.48039216  0.5         0.49607843\n",
      "   0.5         0.5         0.3627451   0.25294118]\n",
      " [-0.5        -0.5        -0.5        -0.49607843 -0.5        -0.4254902\n",
      "   0.29215686  0.5         0.49607843  0.42156863 -0.27647059 -0.49215686\n",
      "  -0.5        -0.5        -0.5        -0.5        -0.5        -0.5\n",
      "  -0.49607843 -0.49215686 -0.48823529 -0.05294118  0.5         0.48039216\n",
      "   0.5         0.00980392 -0.44901961 -0.5       ]\n",
      " [-0.5        -0.5        -0.5        -0.5        -0.48431373 -0.5\n",
      "   0.08823529  0.5         0.5         0.08823529 -0.5        -0.48823529\n",
      "  -0.5        -0.5        -0.5        -0.5        -0.5        -0.5        -0.5\n",
      "  -0.48823529 -0.5        -0.31568627  0.5         0.5         0.41764706\n",
      "  -0.45686275 -0.5        -0.49215686]\n",
      " [-0.5        -0.5        -0.5        -0.5        -0.48823529 -0.49607843\n",
      "   0.15490196  0.5         0.5        -0.11960784 -0.49215686 -0.48431373\n",
      "  -0.5        -0.5        -0.5        -0.5        -0.5        -0.5        -0.5\n",
      "  -0.48823529 -0.5        -0.24901961  0.5         0.5         0.26078431\n",
      "  -0.5        -0.49215686 -0.5       ]\n",
      " [-0.5        -0.5        -0.5        -0.5        -0.49607843 -0.5\n",
      "   0.26470588  0.5         0.5        -0.27254902 -0.5        -0.48823529\n",
      "  -0.5        -0.5        -0.5        -0.5        -0.5        -0.5        -0.5\n",
      "  -0.48431373 -0.5        -0.14705882  0.5         0.5         0.10392157\n",
      "  -0.5        -0.48823529 -0.5       ]\n",
      " [-0.5        -0.5        -0.5        -0.49607843 -0.5        -0.45686275\n",
      "   0.37843137  0.5         0.45686275 -0.39019608 -0.5        -0.49607843\n",
      "  -0.5        -0.5        -0.5        -0.5        -0.5        -0.5        -0.5\n",
      "  -0.48431373 -0.5         0.00588235  0.5         0.5        -0.04509804\n",
      "  -0.5        -0.48431373 -0.5       ]\n",
      " [-0.5        -0.5        -0.5        -0.49215686 -0.5        -0.3745098\n",
      "   0.46862745  0.5         0.35882353 -0.46862745 -0.5        -0.49607843\n",
      "  -0.5        -0.5        -0.5        -0.5        -0.5        -0.5        -0.5\n",
      "  -0.48431373 -0.5         0.14705882  0.5         0.5        -0.19019608\n",
      "  -0.5        -0.48823529 -0.5       ]\n",
      " [-0.5        -0.5        -0.5        -0.48823529 -0.5        -0.24509804\n",
      "   0.5         0.5         0.25686275 -0.5        -0.49215686 -0.5        -0.5\n",
      "  -0.5        -0.5        -0.5        -0.5        -0.5        -0.5\n",
      "  -0.49607843 -0.5         0.26862745  0.5         0.49215686 -0.32745098\n",
      "  -0.5        -0.49215686 -0.5       ]\n",
      " [-0.5        -0.5        -0.5        -0.48431373 -0.5        -0.11176471\n",
      "   0.5         0.5         0.12352941 -0.5        -0.48823529 -0.5        -0.5\n",
      "  -0.5        -0.5        -0.5        -0.5        -0.5        -0.49607843\n",
      "  -0.5        -0.46470588  0.38627451  0.5         0.40980392 -0.42156863\n",
      "  -0.5        -0.49607843 -0.5       ]\n",
      " [-0.5        -0.5        -0.5        -0.48431373 -0.5         0.02941176\n",
      "   0.5         0.5        -0.02156863 -0.5        -0.48431373 -0.5        -0.5\n",
      "  -0.5        -0.5        -0.5        -0.5        -0.5        -0.49215686\n",
      "  -0.5        -0.36666667  0.46862745  0.5         0.31176471 -0.49607843\n",
      "  -0.49607843 -0.5        -0.5       ]\n",
      " [-0.5        -0.5        -0.5        -0.48823529 -0.5         0.18235294\n",
      "   0.5         0.5        -0.15098039 -0.49607843 -0.48039216 -0.49607843\n",
      "  -0.49607843 -0.49607843 -0.49607843 -0.49607843 -0.49607843 -0.49607843\n",
      "  -0.48431373 -0.49607843 -0.24117647  0.5         0.5         0.18627451\n",
      "  -0.5        -0.48823529 -0.5        -0.5       ]\n",
      " [-0.5        -0.5        -0.5        -0.49607843 -0.49215686  0.30392157\n",
      "   0.5         0.49607843 -0.30392157 -0.5        -0.5        -0.5        -0.5\n",
      "  -0.5        -0.5        -0.5        -0.5        -0.5        -0.5        -0.5\n",
      "  -0.12745098  0.5         0.5         0.0372549  -0.5        -0.48431373\n",
      "  -0.5        -0.5       ]\n",
      " [-0.5        -0.5        -0.49607843 -0.5        -0.43333333  0.40980392\n",
      "   0.5         0.45686275 -0.32745098 -0.42156863 -0.41372549 -0.42156863\n",
      "  -0.42156863 -0.42156863 -0.42156863 -0.42156863 -0.42156863 -0.42156863\n",
      "  -0.40588235 -0.42156863  0.06862745  0.5         0.5        -0.10784314\n",
      "  -0.5        -0.48431373 -0.5        -0.5       ]\n",
      " [-0.5        -0.5        -0.49215686 -0.5        -0.33529412  0.49607843\n",
      "   0.5         0.5         0.5         0.5         0.5         0.5         0.5\n",
      "   0.5         0.5         0.5         0.5         0.5         0.5         0.5\n",
      "   0.49215686  0.49607843  0.5        -0.24901961 -0.5        -0.48823529\n",
      "  -0.5        -0.5       ]\n",
      " [-0.5        -0.5        -0.48823529 -0.5        -0.20196078  0.5         0.5\n",
      "   0.25686275 -0.27254902 -0.26470588 -0.27647059 -0.27647059 -0.27647059\n",
      "  -0.27647059 -0.27647059 -0.27647059 -0.27647059 -0.27254902 -0.27647059\n",
      "  -0.24117647  0.40980392  0.5         0.47254902 -0.3745098  -0.5\n",
      "  -0.49215686 -0.5        -0.5       ]\n",
      " [-0.5        -0.5        -0.48431373 -0.5        -0.06470588  0.5         0.5\n",
      "   0.04117647 -0.5        -0.5        -0.5        -0.5        -0.5        -0.5\n",
      "  -0.5        -0.5        -0.5        -0.5        -0.5        -0.43333333\n",
      "   0.46078431  0.5         0.37058824 -0.46078431 -0.5        -0.49607843\n",
      "  -0.5        -0.5       ]\n",
      " [-0.5        -0.5        -0.48823529 -0.5         0.08039216  0.5         0.5\n",
      "  -0.1        -0.48823529 -0.47254902 -0.48823529 -0.48823529 -0.48823529\n",
      "  -0.48823529 -0.48823529 -0.48823529 -0.48823529 -0.48039216 -0.48823529\n",
      "  -0.24509804  0.5         0.5         0.26078431 -0.5        -0.49215686\n",
      "  -0.5        -0.5        -0.5       ]\n",
      " [-0.5        -0.5        -0.49215686 -0.5         0.2254902   0.5         0.5\n",
      "  -0.2372549  -0.5        -0.48823529 -0.5        -0.5        -0.5        -0.5\n",
      "  -0.5        -0.5        -0.5        -0.48431373 -0.5        -0.12745098\n",
      "   0.5         0.5         0.11960784 -0.5        -0.48823529 -0.5        -0.5\n",
      "  -0.5       ]\n",
      " [-0.5        -0.49607843 -0.5        -0.48039216  0.34313725  0.5\n",
      "   0.46862745 -0.36666667 -0.5        -0.49215686 -0.5        -0.5        -0.5\n",
      "  -0.5        -0.5        -0.5        -0.5        -0.48431373 -0.5\n",
      "   0.01372549  0.5         0.5        -0.03333333 -0.5        -0.48431373\n",
      "  -0.5        -0.5        -0.5       ]\n",
      " [-0.5        -0.49607843 -0.5        -0.39803922  0.4372549   0.5\n",
      "   0.38235294 -0.46470588 -0.5        -0.49607843 -0.5        -0.5        -0.5\n",
      "  -0.5        -0.5        -0.5        -0.5        -0.48823529 -0.5\n",
      "   0.1627451   0.5         0.5        -0.1745098  -0.5        -0.48431373\n",
      "  -0.5        -0.5        -0.5       ]\n",
      " [-0.5        -0.48823529 -0.5        -0.29607843  0.5         0.5\n",
      "   0.25686275 -0.5        -0.49607843 -0.5        -0.5        -0.5        -0.5\n",
      "  -0.5        -0.5        -0.5        -0.49607843 -0.49607843 -0.5\n",
      "   0.28823529  0.5         0.49215686 -0.30784314 -0.5        -0.49215686\n",
      "  -0.5        -0.5        -0.5       ]\n",
      " [-0.5        -0.48823529 -0.5        -0.15882353  0.5         0.5\n",
      "   0.12745098 -0.5        -0.48431373 -0.5        -0.5        -0.5        -0.5\n",
      "  -0.5        -0.5        -0.5        -0.49607843 -0.5        -0.44509804\n",
      "   0.39019608  0.5         0.43333333 -0.42156863 -0.5        -0.49607843\n",
      "  -0.5        -0.5        -0.5       ]\n",
      " [-0.5        -0.48431373 -0.5        -0.01372549  0.5         0.5\n",
      "  -0.02941176 -0.5        -0.48431373 -0.5        -0.5        -0.5        -0.5\n",
      "  -0.5        -0.5        -0.5        -0.49215686 -0.5        -0.35882353\n",
      "   0.48039216  0.5         0.31960784 -0.48823529 -0.5        -0.49607843\n",
      "  -0.5        -0.5        -0.5       ]\n",
      " [-0.5        -0.48823529 -0.5         0.12745098  0.5         0.5\n",
      "  -0.17058824 -0.5        -0.48431373 -0.5        -0.5        -0.5        -0.5\n",
      "  -0.5        -0.5        -0.5        -0.48823529 -0.5        -0.22941176\n",
      "   0.5         0.5         0.20980392 -0.5        -0.49215686 -0.5        -0.5\n",
      "  -0.5        -0.5       ]\n",
      " [-0.5        -0.49215686 -0.5         0.27647059  0.5         0.5\n",
      "  -0.26862745 -0.5        -0.48823529 -0.5        -0.5        -0.5        -0.5\n",
      "  -0.5        -0.5        -0.5        -0.48431373 -0.49215686 -0.08039216\n",
      "   0.5         0.5         0.1        -0.49607843 -0.48431373 -0.5        -0.5\n",
      "  -0.5        -0.5       ]\n",
      " [-0.49215686 -0.5        -0.45686275  0.42156863  0.5         0.48823529\n",
      "  -0.34705882 -0.5        -0.49215686 -0.5        -0.5        -0.5        -0.5\n",
      "  -0.5        -0.5        -0.5        -0.49215686 -0.5         0.11568627\n",
      "   0.5         0.5         0.00196078 -0.5        -0.48431373 -0.5        -0.5\n",
      "  -0.5        -0.5       ]\n",
      " [-0.5        -0.45294118  0.01372549  0.5         0.49215686  0.5\n",
      "  -0.12745098 -0.5        -0.49215686 -0.5        -0.5        -0.5        -0.5\n",
      "  -0.5        -0.5        -0.5        -0.49607843 -0.26862745  0.4372549\n",
      "   0.5         0.5         0.20980392 -0.45686275 -0.49607843 -0.49607843\n",
      "  -0.5        -0.5        -0.5       ]\n",
      " [ 0.24509804  0.33529412  0.47647059  0.44509804  0.44117647  0.45686275\n",
      "   0.43333333  0.31176471  0.13529412 -0.5        -0.49607843 -0.5        -0.5\n",
      "  -0.48823529 -0.5        -0.06470588  0.31960784  0.42156863  0.46078431\n",
      "   0.44117647  0.44901961  0.47647059  0.33529412  0.31176471 -0.32352941\n",
      "  -0.5        -0.49215686 -0.5       ]]\n",
      "dataset [0:2,:,:]  [[[-0.49607843 -0.49215686 -0.49607843 ..., -0.49607843 -0.49607843 -0.5       ]\n",
      "  [-0.5        -0.47647059 -0.33529413 ..., -0.20196079 -0.5        -0.49607843]\n",
      "  [-0.45294118 -0.35882354  0.14705883 ...,  0.07647059 -0.32352942 -0.5       ]\n",
      "  ..., \n",
      "  [-0.45686275 -0.37843138  0.24509804 ...,  0.04901961 -0.24117647\n",
      "   -0.23333333]\n",
      "  [-0.5        -0.37843138 -0.11176471 ..., -0.09607843 -0.47647059\n",
      "   -0.46470588]\n",
      "  [-0.5        -0.42156863 -0.44901961 ..., -0.47647059 -0.49215686 -0.5       ]]\n",
      "\n",
      " [[ 0.5         0.5         0.5        ...,  0.5         0.5         0.5       ]\n",
      "  [ 0.5         0.5         0.5        ...,  0.5         0.5         0.5       ]\n",
      "  [ 0.5         0.5         0.5        ...,  0.5         0.5         0.5       ]\n",
      "  ..., \n",
      "  [ 0.5         0.5         0.5        ...,  0.5         0.5         0.5       ]\n",
      "  [ 0.5         0.5         0.5        ...,  0.5         0.5         0.5       ]\n",
      "  [ 0.5         0.5         0.5        ...,  0.5         0.5         0.5       ]]]\n",
      "Full dataset tensor: (1872L, 28L, 28L)\n",
      "Mean: -0.0586893\n",
      "Standard deviation: 0.458759\n",
      "Pickling ./notMNIST_small\\I.pickle.\n",
      "dataset.size  1467648 dataset.shape  (1872L, 28L, 28L)\n",
      "./notMNIST_small\\I\n",
      "expected image number 726 of 1872 samples\n",
      "images # 726 , file ./notMNIST_small\\I\\QnV6emVyVGhyZWVTdGQub3Rm.png\n"
     ]
    },
    {
     "data": {
      "image/png": "[encoded data removed]",
      "text/plain": [
       "<IPython.core.display.Image object>"
      ]
     },
     "metadata": {},
     "output_type": "display_data"
    },
    {
     "name": "stdout",
     "output_type": "stream",
     "text": [
      "image_data  [[-0.43333333  0.15882353  0.47647059  0.49215686  0.49607843  0.49607843\n",
      "   0.49607843  0.49607843  0.49607843  0.5         0.5         0.5         0.5\n",
      "   0.5         0.5         0.5         0.5         0.5         0.5\n",
      "   0.49607843  0.49607843  0.49607843  0.49607843  0.49607843  0.49215686\n",
      "   0.47254902  0.14313725 -0.4372549 ]\n",
      " [-0.22156863  0.5         0.48431373  0.5         0.5         0.5         0.5\n",
      "   0.5         0.5         0.49607843  0.49215686  0.5         0.5         0.5\n",
      "   0.5         0.5         0.5         0.49215686  0.49607843  0.5         0.5\n",
      "   0.5         0.5         0.5         0.5         0.48431373  0.5\n",
      "  -0.22156863]\n",
      " [-0.40980392  0.21764706  0.49215686  0.48431373  0.48823529  0.48823529\n",
      "   0.48823529  0.48823529  0.49215686  0.5         0.5         0.5         0.5\n",
      "   0.5         0.5         0.5         0.5         0.5         0.5\n",
      "   0.49215686  0.48823529  0.48823529  0.48823529  0.48823529  0.48431373\n",
      "   0.48823529  0.20980392 -0.41372549]\n",
      " [-0.5        -0.47647059 -0.39411765 -0.35490196 -0.35882353 -0.35882353\n",
      "  -0.35882353 -0.35882353 -0.35490196 -0.28431373  0.19411765  0.5\n",
      "   0.49215686  0.5         0.5         0.49215686  0.5         0.19411765\n",
      "  -0.28431373 -0.35490196 -0.35882353 -0.35882353 -0.35882353 -0.35882353\n",
      "  -0.35490196 -0.39411765 -0.48039216 -0.5       ]\n",
      " [-0.49607843 -0.49607843 -0.5        -0.5        -0.5        -0.5        -0.5\n",
      "  -0.5        -0.48823529 -0.5        -0.28039216  0.5         0.48431373\n",
      "   0.5         0.5         0.48431373  0.5        -0.28039216 -0.5\n",
      "  -0.48823529 -0.5        -0.5        -0.5        -0.5        -0.5        -0.5\n",
      "  -0.49215686 -0.49607843]\n",
      " [-0.5        -0.49607843 -0.49215686 -0.49215686 -0.49215686 -0.49215686\n",
      "  -0.49215686 -0.49215686 -0.48039216 -0.5        -0.27647059  0.5\n",
      "   0.48431373  0.5         0.5         0.48431373  0.5        -0.27647059\n",
      "  -0.5        -0.48039216 -0.49215686 -0.49215686 -0.49215686 -0.49215686\n",
      "  -0.49215686 -0.49215686 -0.49607843 -0.5       ]\n",
      " [-0.5        -0.5        -0.5        -0.5        -0.5        -0.5        -0.5\n",
      "  -0.5        -0.48823529 -0.5        -0.27647059  0.5         0.48431373\n",
      "   0.5         0.5         0.48431373  0.5        -0.27647059 -0.5\n",
      "  -0.48823529 -0.5        -0.5        -0.5        -0.5        -0.5        -0.5\n",
      "  -0.5        -0.5       ]\n",
      " [-0.5        -0.5        -0.5        -0.5        -0.5        -0.5        -0.5\n",
      "  -0.5        -0.48823529 -0.5        -0.28039216  0.5         0.48431373\n",
      "   0.5         0.5         0.48431373  0.5        -0.28039216 -0.5\n",
      "  -0.48823529 -0.5        -0.5        -0.5        -0.5        -0.5        -0.5\n",
      "  -0.5        -0.5       ]\n",
      " [-0.5        -0.5        -0.5        -0.5        -0.5        -0.5        -0.5\n",
      "  -0.5        -0.48823529 -0.5        -0.28039216  0.5         0.48431373\n",
      "   0.5         0.5         0.48431373  0.5        -0.28039216 -0.5\n",
      "  -0.48823529 -0.5        -0.5        -0.5        -0.5        -0.5        -0.5\n",
      "  -0.5        -0.5       ]\n",
      " [-0.5        -0.5        -0.5        -0.5        -0.5        -0.5        -0.5\n",
      "  -0.5        -0.48823529 -0.5        -0.28039216  0.5         0.48431373\n",
      "   0.5         0.5         0.48431373  0.5        -0.28039216 -0.5\n",
      "  -0.48823529 -0.5        -0.5        -0.5        -0.5        -0.5        -0.5\n",
      "  -0.5        -0.5       ]\n",
      " [-0.5        -0.5        -0.5        -0.5        -0.5        -0.5        -0.5\n",
      "  -0.5        -0.48823529 -0.5        -0.28039216  0.5         0.48431373\n",
      "   0.5         0.5         0.48431373  0.5        -0.28039216 -0.5\n",
      "  -0.48823529 -0.5        -0.5        -0.5        -0.5        -0.5        -0.5\n",
      "  -0.5        -0.5       ]\n",
      " [-0.5        -0.5        -0.5        -0.5        -0.5        -0.5        -0.5\n",
      "  -0.5        -0.48823529 -0.5        -0.28039216  0.5         0.48431373\n",
      "   0.5         0.5         0.48431373  0.5        -0.28039216 -0.5\n",
      "  -0.48823529 -0.5        -0.5        -0.5        -0.5        -0.5        -0.5\n",
      "  -0.5        -0.5       ]\n",
      " [-0.5        -0.5        -0.5        -0.5        -0.5        -0.5        -0.5\n",
      "  -0.5        -0.48823529 -0.5        -0.28039216  0.5         0.48431373\n",
      "   0.5         0.5         0.48431373  0.5        -0.28039216 -0.5\n",
      "  -0.48823529 -0.5        -0.5        -0.5        -0.5        -0.5        -0.5\n",
      "  -0.5        -0.5       ]\n",
      " [-0.5        -0.5        -0.5        -0.5        -0.5        -0.5        -0.5\n",
      "  -0.5        -0.48823529 -0.5        -0.28039216  0.5         0.48431373\n",
      "   0.5         0.5         0.48431373  0.5        -0.28039216 -0.5\n",
      "  -0.48823529 -0.5        -0.5        -0.5        -0.5        -0.5        -0.5\n",
      "  -0.5        -0.5       ]\n",
      " [-0.5        -0.5        -0.5        -0.5        -0.5        -0.5        -0.5\n",
      "  -0.5        -0.48823529 -0.5        -0.28039216  0.5         0.48431373\n",
      "   0.5         0.5         0.48431373  0.5        -0.28039216 -0.5\n",
      "  -0.48823529 -0.5        -0.5        -0.5        -0.5        -0.5        -0.5\n",
      "  -0.5        -0.5       ]\n",
      " [-0.5        -0.5        -0.5        -0.5        -0.5        -0.5        -0.5\n",
      "  -0.5        -0.48823529 -0.5        -0.28039216  0.5         0.48431373\n",
      "   0.5         0.5         0.48431373  0.5        -0.28039216 -0.5\n",
      "  -0.48823529 -0.5        -0.5        -0.5        -0.5        -0.5        -0.5\n",
      "  -0.5        -0.5       ]\n",
      " [-0.5        -0.5        -0.5        -0.5        -0.5        -0.5        -0.5\n",
      "  -0.5        -0.48823529 -0.5        -0.28039216  0.5         0.48431373\n",
      "   0.5         0.5         0.48431373  0.5        -0.28039216 -0.5\n",
      "  -0.48823529 -0.5        -0.5        -0.5        -0.5        -0.5        -0.5\n",
      "  -0.5        -0.5       ]\n",
      " [-0.5        -0.5        -0.5        -0.5        -0.5        -0.5        -0.5\n",
      "  -0.5        -0.48823529 -0.5        -0.28039216  0.5         0.48431373\n",
      "   0.5         0.5         0.48431373  0.5        -0.28039216 -0.5\n",
      "  -0.48823529 -0.5        -0.5        -0.5        -0.5        -0.5        -0.5\n",
      "  -0.5        -0.5       ]\n",
      " [-0.5        -0.5        -0.5        -0.5        -0.5        -0.5        -0.5\n",
      "  -0.5        -0.48823529 -0.5        -0.28039216  0.5         0.48431373\n",
      "   0.5         0.5         0.48431373  0.5        -0.28039216 -0.5\n",
      "  -0.48823529 -0.5        -0.5        -0.5        -0.5        -0.5        -0.5\n",
      "  -0.5        -0.5       ]\n",
      " [-0.5        -0.5        -0.5        -0.5        -0.5        -0.5        -0.5\n",
      "  -0.5        -0.48823529 -0.5        -0.28039216  0.5         0.48431373\n",
      "   0.5         0.5         0.48431373  0.5        -0.28039216 -0.5\n",
      "  -0.48823529 -0.5        -0.5        -0.5        -0.5        -0.5        -0.5\n",
      "  -0.5        -0.5       ]\n",
      " [-0.5        -0.5        -0.5        -0.5        -0.5        -0.5        -0.5\n",
      "  -0.5        -0.48823529 -0.5        -0.28039216  0.5         0.48431373\n",
      "   0.5         0.5         0.48431373  0.5        -0.28039216 -0.5\n",
      "  -0.48823529 -0.5        -0.5        -0.5        -0.5        -0.5        -0.5\n",
      "  -0.5        -0.5       ]\n",
      " [-0.5        -0.5        -0.5        -0.5        -0.5        -0.5        -0.5\n",
      "  -0.5        -0.48823529 -0.5        -0.27647059  0.5         0.48431373\n",
      "   0.5         0.5         0.48431373  0.5        -0.27647059 -0.5\n",
      "  -0.48823529 -0.5        -0.5        -0.5        -0.5        -0.5        -0.5\n",
      "  -0.5        -0.5       ]\n",
      " [-0.5        -0.49607843 -0.49215686 -0.49215686 -0.49215686 -0.49215686\n",
      "  -0.49215686 -0.49215686 -0.48039216 -0.5        -0.27647059  0.5\n",
      "   0.48431373  0.5         0.5         0.48431373  0.5        -0.27647059\n",
      "  -0.5        -0.48039216 -0.49215686 -0.49215686 -0.49215686 -0.49215686\n",
      "  -0.49215686 -0.49215686 -0.49607843 -0.5       ]\n",
      " [-0.49607843 -0.49215686 -0.5        -0.5        -0.5        -0.5        -0.5\n",
      "  -0.5        -0.48823529 -0.5        -0.28039216  0.5         0.48431373\n",
      "   0.5         0.5         0.48431373  0.5        -0.28039216 -0.5\n",
      "  -0.48823529 -0.5        -0.5        -0.5        -0.5        -0.5        -0.5\n",
      "  -0.49215686 -0.49607843]\n",
      " [-0.5        -0.47647059 -0.39411765 -0.35490196 -0.35882353 -0.35882353\n",
      "  -0.35882353 -0.35882353 -0.35490196 -0.28431373  0.19411765  0.5\n",
      "   0.49215686  0.5         0.5         0.49215686  0.5         0.19411765\n",
      "  -0.28431373 -0.35490196 -0.35882353 -0.35882353 -0.35882353 -0.35882353\n",
      "  -0.35490196 -0.39803922 -0.48039216 -0.5       ]\n",
      " [-0.40980392  0.21764706  0.48823529  0.48431373  0.48823529  0.48823529\n",
      "   0.48823529  0.48823529  0.49215686  0.5         0.5         0.5         0.5\n",
      "   0.5         0.5         0.5         0.5         0.5         0.5\n",
      "   0.49215686  0.48823529  0.48823529  0.48823529  0.48823529  0.48431373\n",
      "   0.48431373  0.20588235 -0.40980392]\n",
      " [-0.22156863  0.5         0.48431373  0.5         0.5         0.5         0.5\n",
      "   0.5         0.5         0.49607843  0.49215686  0.5         0.5         0.5\n",
      "   0.5         0.5         0.5         0.49215686  0.49607843  0.5         0.5\n",
      "   0.5         0.5         0.5         0.5         0.48431373  0.5\n",
      "  -0.22156863]\n",
      " [-0.43333333  0.15882353  0.48039216  0.49215686  0.49607843  0.49607843\n",
      "   0.49607843  0.49607843  0.49607843  0.5         0.5         0.5         0.5\n",
      "   0.5         0.5         0.5         0.5         0.5         0.5\n",
      "   0.49607843  0.49607843  0.49607843  0.49607843  0.49607843  0.49215686\n",
      "   0.47254902  0.14705882 -0.4372549 ]]\n",
      "dataset [0:2,:,:]  [[[-0.5        -0.5        -0.49607843 ..., -0.5        -0.5        -0.5       ]\n",
      "  [-0.5        -0.49607843 -0.49607843 ..., -0.49607843 -0.49607843 -0.5       ]\n",
      "  [-0.5        -0.5        -0.37058824 ..., -0.48431373 -0.47254902 -0.5       ]\n",
      "  ..., \n",
      "  [-0.5        -0.5        -0.3392157  ..., -0.48823529 -0.5        -0.5       ]\n",
      "  [-0.5        -0.4137255  -0.44901961 ..., -0.46470588 -0.5        -0.5       ]\n",
      "  [-0.5        -0.5        -0.49215686 ..., -0.47254902 -0.5        -0.5       ]]\n",
      "\n",
      " [[ 0.5         0.5         0.5        ...,  0.5         0.5         0.5       ]\n",
      "  [ 0.5         0.5         0.5        ...,  0.5         0.5         0.5       ]\n",
      "  [ 0.5         0.5         0.5        ...,  0.5         0.5         0.5       ]\n",
      "  ..., \n",
      "  [ 0.5         0.5         0.5        ...,  0.5         0.5         0.5       ]\n",
      "  [ 0.5         0.5         0.5        ...,  0.5         0.5         0.5       ]\n",
      "  [ 0.5         0.5         0.5        ...,  0.5         0.5         0.5       ]]]\n",
      "Full dataset tensor: (1872L, 28L, 28L)\n",
      "Mean: 0.0526451\n",
      "Standard deviation: 0.471894\n",
      "Pickling ./notMNIST_small\\J.pickle.\n",
      "dataset.size  1467648 dataset.shape  (1872L, 28L, 28L)\n",
      "./notMNIST_small\\J\n",
      "expected image number 874 of 1872 samples\n",
      "images # 874 , file ./notMNIST_small\\J\\QWRvYmVDb3JwSUQtTWluaW9uU2Iub3Rm.png\n"
     ]
    },
    {
     "data": {
      "image/png": "[encoded data removed]",
      "text/plain": [
       "<IPython.core.display.Image object>"
      ]
     },
     "metadata": {},
     "output_type": "display_data"
    },
    {
     "name": "stdout",
     "output_type": "stream",
     "text": [
      "image_data  [[-0.49215686 -0.5        -0.40196078  0.21372549  0.48039216  0.47254902\n",
      "   0.5         0.5         0.5         0.5         0.49215686  0.5         0.5\n",
      "   0.5         0.5         0.5         0.5         0.5         0.5         0.5\n",
      "   0.5         0.49607843  0.5         0.5         0.5         0.49607843\n",
      "   0.47647059  0.06862745]\n",
      " [-0.5        -0.5        -0.49215686 -0.42156863 -0.37843137 -0.35882353\n",
      "  -0.30392157 -0.21372549 -0.05686275  0.26470588  0.5         0.5         0.5\n",
      "   0.5         0.5         0.5         0.5         0.5         0.5\n",
      "   0.49607843  0.5         0.43333333  0.06470588 -0.17843137 -0.27647059\n",
      "  -0.33529412 -0.3745098  -0.4372549 ]\n",
      " [-0.5        -0.5        -0.5        -0.5        -0.5        -0.5        -0.5\n",
      "  -0.5        -0.5        -0.48039216  0.16666667  0.5         0.49215686\n",
      "   0.5         0.5         0.5         0.5         0.5         0.49607843\n",
      "   0.5         0.45294118 -0.15098039 -0.5        -0.48431373 -0.5        -0.5\n",
      "  -0.5        -0.5       ]\n",
      " [-0.5        -0.5        -0.5        -0.49607843 -0.49607843 -0.49215686\n",
      "  -0.49215686 -0.48823529 -0.48431373 -0.5        -0.20980392  0.5\n",
      "   0.48431373  0.5         0.5         0.5         0.5         0.5\n",
      "   0.49215686  0.5         0.34313725 -0.46078431 -0.48431373 -0.48039216\n",
      "  -0.49215686 -0.49215686 -0.49215686 -0.49607843]\n",
      " [-0.5        -0.5        -0.5        -0.5        -0.5        -0.5        -0.5\n",
      "  -0.5        -0.49607843 -0.5        -0.28039216  0.5         0.48431373\n",
      "   0.5         0.5         0.5         0.5         0.5         0.49215686\n",
      "   0.5         0.32352941 -0.5        -0.48823529 -0.49607843 -0.5        -0.5\n",
      "  -0.5        -0.5       ]\n",
      " [-0.5        -0.5        -0.5        -0.5        -0.5        -0.5        -0.5\n",
      "  -0.5        -0.49607843 -0.5        -0.35490196  0.5         0.48431373\n",
      "   0.5         0.5         0.5         0.5         0.5         0.49215686\n",
      "   0.5         0.3        -0.5        -0.47647059 -0.5        -0.5        -0.5\n",
      "  -0.5        -0.5       ]\n",
      " [-0.5        -0.5        -0.5        -0.5        -0.5        -0.5        -0.5\n",
      "  -0.5        -0.49607843 -0.5        -0.3627451   0.5         0.48431373\n",
      "   0.5         0.5         0.5         0.5         0.5         0.49215686\n",
      "   0.5         0.3        -0.5        -0.47647059 -0.5        -0.5        -0.5\n",
      "  -0.5        -0.5       ]\n",
      " [-0.5        -0.5        -0.5        -0.5        -0.5        -0.5        -0.5\n",
      "  -0.5        -0.49607843 -0.5        -0.3627451   0.5         0.48431373\n",
      "   0.5         0.5         0.5         0.5         0.5         0.49215686\n",
      "   0.5         0.3        -0.5        -0.47647059 -0.5        -0.5        -0.5\n",
      "  -0.5        -0.5       ]\n",
      " [-0.5        -0.5        -0.5        -0.5        -0.5        -0.5        -0.5\n",
      "  -0.5        -0.49607843 -0.5        -0.3627451   0.5         0.48431373\n",
      "   0.5         0.5         0.5         0.5         0.5         0.49215686\n",
      "   0.5         0.3        -0.5        -0.47647059 -0.5        -0.5        -0.5\n",
      "  -0.5        -0.5       ]\n",
      " [-0.5        -0.5        -0.5        -0.5        -0.5        -0.5        -0.5\n",
      "  -0.5        -0.49607843 -0.5        -0.3627451   0.5         0.48431373\n",
      "   0.5         0.5         0.5         0.5         0.5         0.49215686\n",
      "   0.5         0.3        -0.5        -0.47647059 -0.5        -0.5        -0.5\n",
      "  -0.5        -0.5       ]\n",
      " [-0.5        -0.5        -0.5        -0.5        -0.5        -0.5        -0.5\n",
      "  -0.5        -0.49607843 -0.5        -0.3627451   0.5         0.48431373\n",
      "   0.5         0.5         0.5         0.5         0.5         0.49215686\n",
      "   0.5         0.3        -0.5        -0.47647059 -0.5        -0.5        -0.5\n",
      "  -0.5        -0.5       ]\n",
      " [-0.5        -0.5        -0.5        -0.5        -0.5        -0.5        -0.5\n",
      "  -0.5        -0.49607843 -0.5        -0.3627451   0.5         0.48431373\n",
      "   0.5         0.5         0.5         0.5         0.5         0.49215686\n",
      "   0.5         0.3        -0.5        -0.47647059 -0.5        -0.5        -0.5\n",
      "  -0.5        -0.5       ]\n",
      " [-0.5        -0.5        -0.5        -0.5        -0.5        -0.5        -0.5\n",
      "  -0.5        -0.49607843 -0.5        -0.3627451   0.5         0.48431373\n",
      "   0.5         0.5         0.5         0.5         0.5         0.49215686\n",
      "   0.5         0.3        -0.5        -0.47647059 -0.5        -0.5        -0.5\n",
      "  -0.5        -0.5       ]\n",
      " [-0.5        -0.5        -0.5        -0.5        -0.5        -0.5        -0.5\n",
      "  -0.5        -0.49607843 -0.5        -0.3627451   0.5         0.48431373\n",
      "   0.5         0.5         0.5         0.5         0.5         0.49215686\n",
      "   0.5         0.3        -0.5        -0.47647059 -0.5        -0.5        -0.5\n",
      "  -0.5        -0.5       ]\n",
      " [-0.5        -0.5        -0.5        -0.5        -0.5        -0.5        -0.5\n",
      "  -0.5        -0.49607843 -0.5        -0.3627451   0.5         0.48431373\n",
      "   0.5         0.5         0.5         0.5         0.5         0.49215686\n",
      "   0.5         0.3        -0.5        -0.47647059 -0.5        -0.5        -0.5\n",
      "  -0.5        -0.5       ]\n",
      " [-0.5        -0.5        -0.5        -0.5        -0.5        -0.5        -0.5\n",
      "  -0.5        -0.49607843 -0.5        -0.3627451   0.5         0.48431373\n",
      "   0.5         0.5         0.5         0.5         0.5         0.49215686\n",
      "   0.5         0.3        -0.5        -0.47647059 -0.5        -0.5        -0.5\n",
      "  -0.5        -0.5       ]\n",
      " [-0.5        -0.5        -0.5        -0.5        -0.5        -0.5        -0.5\n",
      "  -0.5        -0.49607843 -0.5        -0.35098039  0.5         0.48431373\n",
      "   0.5         0.5         0.5         0.5         0.5         0.49215686\n",
      "   0.5         0.3        -0.5        -0.47647059 -0.5        -0.5        -0.5\n",
      "  -0.5        -0.5       ]\n",
      " [-0.5        -0.5        -0.5        -0.5        -0.5        -0.5        -0.5\n",
      "  -0.5        -0.49607843 -0.5        -0.31960784  0.5         0.48431373\n",
      "   0.5         0.5         0.5         0.5         0.5         0.49607843\n",
      "   0.5         0.24117647 -0.5        -0.47647059 -0.5        -0.5        -0.5\n",
      "  -0.5        -0.5       ]\n",
      " [-0.5        -0.5        -0.5        -0.5        -0.5        -0.5        -0.5\n",
      "  -0.5        -0.49607843 -0.5        -0.28823529  0.5         0.48431373\n",
      "   0.5         0.5         0.5         0.5         0.5         0.5         0.5\n",
      "   0.15490196 -0.5        -0.48039216 -0.5        -0.5        -0.5        -0.5\n",
      "  -0.5       ]\n",
      " [-0.5        -0.5        -0.5        -0.5        -0.5        -0.5        -0.5\n",
      "  -0.5        -0.5        -0.5        -0.24509804  0.5         0.48431373\n",
      "   0.5         0.5         0.5         0.5         0.5         0.5         0.5\n",
      "   0.04901961 -0.5        -0.48431373 -0.5        -0.5        -0.5        -0.5\n",
      "  -0.5       ]\n",
      " [-0.5        -0.5        -0.5        -0.5        -0.5        -0.5        -0.5\n",
      "  -0.5        -0.5        -0.5        -0.11176471  0.5         0.48823529\n",
      "   0.5         0.5         0.5         0.5         0.49607843  0.5\n",
      "   0.44509804 -0.26470588 -0.5        -0.49215686 -0.5        -0.5        -0.5\n",
      "  -0.5        -0.5       ]\n",
      " [-0.5        -0.5        -0.5        -0.5        -0.5        -0.5        -0.5\n",
      "  -0.5        -0.5        -0.48431373  0.15490196  0.5         0.49215686\n",
      "   0.5         0.5         0.5         0.49607843  0.48823529  0.5\n",
      "   0.19019608 -0.5        -0.49215686 -0.5        -0.5        -0.5        -0.5\n",
      "  -0.5        -0.5       ]\n",
      " [-0.5        -0.5        -0.5        -0.5        -0.5        -0.5        -0.5\n",
      "  -0.48823529 -0.5        -0.34313725  0.48431373  0.5         0.5         0.5\n",
      "   0.5         0.48823529  0.49607843  0.5         0.29607843 -0.4372549\n",
      "  -0.5        -0.5        -0.5        -0.5        -0.5        -0.5        -0.5\n",
      "  -0.5       ]\n",
      " [-0.5        -0.5        -0.5        -0.5        -0.49607843 -0.48431373\n",
      "  -0.49215686 -0.5        -0.44117647  0.31960784  0.5         0.5\n",
      "   0.49215686  0.48823529  0.49607843  0.49215686  0.5         0.14705882\n",
      "  -0.4372549  -0.5        -0.5        -0.5        -0.5        -0.5        -0.5\n",
      "  -0.5        -0.5        -0.5       ]\n",
      " [-0.5        -0.49215686 -0.48431373 -0.48823529 -0.5        -0.49215686\n",
      "  -0.5        -0.28431373  0.31568627  0.5         0.48039216  0.49607843\n",
      "   0.5         0.49607843  0.49215686  0.25686275 -0.20980392 -0.49215686\n",
      "  -0.5        -0.49607843 -0.5        -0.5        -0.5        -0.5        -0.5\n",
      "  -0.5        -0.5        -0.5       ]\n",
      " [-0.5        -0.5        -0.49607843 -0.5        -0.46470588 -0.24509804\n",
      "   0.15490196  0.47647059  0.5         0.49607843  0.5         0.49215686\n",
      "   0.35882353  0.06078431 -0.27647059 -0.48039216 -0.5        -0.48823529\n",
      "  -0.49607843 -0.5        -0.5        -0.5        -0.5        -0.5        -0.5\n",
      "  -0.5        -0.5        -0.5       ]\n",
      " [-0.48823529 -0.28431373 -0.10392157  0.14705882  0.42156863  0.5\n",
      "   0.49607843  0.47254902  0.36666667  0.19019608 -0.03333333 -0.28823529\n",
      "  -0.45686275 -0.5        -0.5        -0.49215686 -0.48823529 -0.5        -0.5\n",
      "  -0.5        -0.5        -0.5        -0.5        -0.5        -0.5        -0.5\n",
      "  -0.5        -0.5       ]\n",
      " [-0.48431373  0.08823529  0.5         0.3627451   0.2254902   0.03333333\n",
      "  -0.1627451  -0.30392157 -0.45686275 -0.5        -0.5        -0.5        -0.5\n",
      "  -0.48823529 -0.48823529 -0.5        -0.5        -0.5        -0.5        -0.5\n",
      "  -0.5        -0.5        -0.5        -0.5        -0.5        -0.5        -0.5\n",
      "  -0.5       ]]\n",
      "dataset [0:2,:,:]  [[[-0.5        -0.5        -0.5        ..., -0.46470588 -0.5        -0.5       ]\n",
      "  [-0.5        -0.5        -0.5        ..., -0.32352942 -0.28431374 -0.5       ]\n",
      "  [-0.5        -0.5        -0.5        ..., -0.28431374 -0.10392157 -0.5       ]\n",
      "  ..., \n",
      "  [-0.5        -0.49607843 -0.5        ..., -0.5        -0.49607843 -0.5       ]\n",
      "  [-0.5        -0.5        -0.49215686 ..., -0.49215686 -0.5        -0.5       ]\n",
      "  [-0.5        -0.5        -0.5        ..., -0.5        -0.5        -0.5       ]]\n",
      "\n",
      " [[-0.5        -0.5        -0.5        ...,  0.5         0.5         0.5       ]\n",
      "  [-0.5        -0.5        -0.5        ...,  0.5         0.5         0.5       ]\n",
      "  [-0.5        -0.5        -0.5        ...,  0.5         0.5         0.5       ]\n",
      "  ..., \n",
      "  [-0.5        -0.5        -0.5        ..., -0.5        -0.5        -0.5       ]\n",
      "  [-0.5        -0.5        -0.5        ..., -0.5        -0.5        -0.5       ]\n",
      "  [-0.5        -0.5        -0.5        ..., -0.5        -0.5        -0.5       ]]]\n",
      "Full dataset tensor: (1872L, 28L, 28L)\n",
      "Mean: -0.151689\n",
      "Standard deviation: 0.448014\n"
     ]
    }
   ],
   "source": [
    "image_size = 28  # Pixel width and height.\n",
    "pixel_depth = 255.0  # Number of levels per pixel.\n",
    "\n",
    "def load_letter(folder, min_num_images):\n",
    "  \"\"\"Load the data for a single letter label.\"\"\"\n",
    "  image_files = os.listdir(folder)\n",
    "  #print ('image_files ', image_files)\n",
    "  dataset = np.ndarray(shape=(len(image_files), image_size, image_size),\n",
    "                         dtype=np.float32)\n",
    "  print ('dataset.size ', dataset.size, 'dataset.shape ', dataset.shape)\n",
    "  print(folder)\n",
    "  num_images = 0\n",
    "  selectedImagesToShow = np.random.randint(0, dataset.shape[0])\n",
    "  print ('expected image number %d of %d samples' % (selectedImagesToShow, dataset.shape[0]))\n",
    "  for image in image_files:\n",
    "    image_file = os.path.join(folder, image)\n",
    "    try:\n",
    "      #ndimage.imread = Read an image from a file as an array\n",
    "      #Returns: img_array (ndarray). The different colour bands/channels are stored in the third dimension, \n",
    "      #such that a grey-image is MxN, an RGB-image MxNx3 and an RGBA-image MxNx4.\n",
    "      #plus data normalization\n",
    "      image_data = (ndimage.imread(image_file).astype(float) - \n",
    "                    pixel_depth / 2) / pixel_depth\n",
    "      if num_images == selectedImagesToShow:\n",
    "          print ('images #', num_images, ', file', image_file)\n",
    "          display(Image(filename=image_file))\n",
    "          print ('image_data ', image_data) \n",
    "      if image_data.shape != (image_size, image_size):\n",
    "        raise Exception('Unexpected image shape: %s' % str(image_data.shape))\n",
    "      dataset[num_images, :, :] = image_data\n",
    "      num_images = num_images + 1\n",
    "    except IOError as e:\n",
    "      print('Could not read:', image_file, ':', e, '- it\\'s ok, skipping.')\n",
    "    \n",
    "  #3D Matrix : normalized value of the W&B pixel per num_image x row (28) x col (28)\n",
    "  dataset = dataset[0:num_images, :, :]\n",
    "  if num_images < min_num_images:\n",
    "    raise Exception('Many fewer images than expected: %d < %d' %\n",
    "                    (num_images, min_num_images))\n",
    "  print ('dataset [0:2,:,:] ',dataset [0:2,:,:])  \n",
    "  print('Full dataset tensor:', dataset.shape)\n",
    "  print('Mean:', np.mean(dataset))\n",
    "  print('Standard deviation:', np.std(dataset))\n",
    "  return dataset\n",
    "        \n",
    "def maybe_pickle(data_folders, min_num_images_per_class, force=False):\n",
    "  dataset_names = []\n",
    "  for folder in data_folders:\n",
    "    set_filename = folder + '.pickle'\n",
    "    dataset_names.append(set_filename)\n",
    "    if os.path.exists(set_filename) and not force:\n",
    "      # You may override by setting force=True.\n",
    "      print('%s already present - Skipping pickling.' % set_filename)\n",
    "    else:\n",
    "      print('Pickling %s.' % set_filename)\n",
    "      dataset = load_letter(folder, min_num_images_per_class)\n",
    "      try:\n",
    "        with open(set_filename, 'wb') as f:\n",
    "          pickle.dump(dataset, f, pickle.HIGHEST_PROTOCOL)\n",
    "      except Exception as e:\n",
    "        print('Unable to save data to', set_filename, ':', e)\n",
    "  \n",
    "  return dataset_names\n",
    "\n",
    "train_datasets = maybe_pickle(train_folders, 45000)\n",
    "test_datasets = maybe_pickle(test_folders, 1800)"
   ]
  },
  {
   "cell_type": "code",
   "execution_count": 21,
   "metadata": {
    "collapsed": false,
    "scrolled": false
   },
   "outputs": [
    {
     "name": "stdout",
     "output_type": "stream",
     "text": [
      "train_datasets  ['./notMNIST_large\\\\A.pickle', './notMNIST_large\\\\B.pickle', './notMNIST_large\\\\C.pickle', './notMNIST_large\\\\D.pickle', './notMNIST_large\\\\E.pickle', './notMNIST_large\\\\F.pickle', './notMNIST_large\\\\G.pickle', './notMNIST_large\\\\H.pickle', './notMNIST_large\\\\I.pickle', './notMNIST_large\\\\J.pickle']\n",
      "dataset_name  ./notMNIST_large\\A.pickle dataset.shape[0]  52909 indices  [25059 47471 45061  8712  6626]\n"
     ]
    },
    {
     "data": {
      "image/png": "[encoded data removed]",
      "text/plain": [
       "<matplotlib.figure.Figure at 0xa411390>"
      ]
     },
     "metadata": {},
     "output_type": "display_data"
    },
    {
     "name": "stdout",
     "output_type": "stream",
     "text": [
      "dataset_name  ./notMNIST_large\\B.pickle dataset.shape[0]  52911 indices  [49774 28114 28210   956 28316]\n"
     ]
    },
    {
     "data": {
      "image/png": "[encoded data removed]",
      "text/plain": [
       "<matplotlib.figure.Figure at 0xa5e29b0>"
      ]
     },
     "metadata": {},
     "output_type": "display_data"
    },
    {
     "name": "stdout",
     "output_type": "stream",
     "text": [
      "dataset_name  ./notMNIST_large\\C.pickle dataset.shape[0]  52881 indices  [11746  5528 24718 32855 19650]\n"
     ]
    },
    {
     "data": {
      "image/png": "[encoded data removed]",
      "text/plain": [
       "<matplotlib.figure.Figure at 0xb376f98>"
      ]
     },
     "metadata": {},
     "output_type": "display_data"
    },
    {
     "name": "stdout",
     "output_type": "stream",
     "text": [
      "dataset_name  ./notMNIST_large\\D.pickle dataset.shape[0]  52911 indices  [32773  9954 29898 48983 49735]\n"
     ]
    },
    {
     "data": {
      "image/png": "[encoded data removed]",
      "text/plain": [
       "<matplotlib.figure.Figure at 0xba40438>"
      ]
     },
     "metadata": {},
     "output_type": "display_data"
    },
    {
     "name": "stdout",
     "output_type": "stream",
     "text": [
      "dataset_name  ./notMNIST_large\\E.pickle dataset.shape[0]  52912 indices  [10218 27519 10316  7223 31008]\n"
     ]
    },
    {
     "data": {
      "image/png": "[encoded data removed]",
      "text/plain": [
       "<matplotlib.figure.Figure at 0xba6e080>"
      ]
     },
     "metadata": {},
     "output_type": "display_data"
    },
    {
     "name": "stdout",
     "output_type": "stream",
     "text": [
      "dataset_name  ./notMNIST_large\\F.pickle dataset.shape[0]  52912 indices  [ 9554 35998  9023  8489 33636]\n"
     ]
    },
    {
     "data": {
      "image/png": "[encoded data removed]",
      "text/plain": [
       "<matplotlib.figure.Figure at 0xa8caa20>"
      ]
     },
     "metadata": {},
     "output_type": "display_data"
    },
    {
     "name": "stdout",
     "output_type": "stream",
     "text": [
      "dataset_name  ./notMNIST_large\\G.pickle dataset.shape[0]  52912 indices  [  169 23859 14545 27715 15018]\n"
     ]
    },
    {
     "data": {
      "image/png": "[encoded data removed]",
      "text/plain": [
       "<matplotlib.figure.Figure at 0xa3d2198>"
      ]
     },
     "metadata": {},
     "output_type": "display_data"
    },
    {
     "name": "stdout",
     "output_type": "stream",
     "text": [
      "dataset_name  ./notMNIST_large\\H.pickle dataset.shape[0]  52912 indices  [28764 38777 15786 15066 19487]\n"
     ]
    },
    {
     "data": {
      "image/png": "[encoded data removed]",
      "text/plain": [
       "<matplotlib.figure.Figure at 0xbf20048>"
      ]
     },
     "metadata": {},
     "output_type": "display_data"
    },
    {
     "name": "stdout",
     "output_type": "stream",
     "text": [
      "dataset_name  ./notMNIST_large\\I.pickle dataset.shape[0]  52912 indices  [51342 23419 23919 33585 27876]\n"
     ]
    },
    {
     "data": {
      "image/png": "[encoded data removed]",
      "text/plain": [
       "<matplotlib.figure.Figure at 0xbad0c88>"
      ]
     },
     "metadata": {},
     "output_type": "display_data"
    },
    {
     "name": "stdout",
     "output_type": "stream",
     "text": [
      "dataset_name  ./notMNIST_large\\J.pickle dataset.shape[0]  52911 indices  [10950 13651 26426 41543 43404]\n"
     ]
    },
    {
     "data": {
      "image/png": "[encoded data removed]",
      "text/plain": [
       "<matplotlib.figure.Figure at 0xbdd0c88>"
      ]
     },
     "metadata": {},
     "output_type": "display_data"
    },
    {
     "name": "stdout",
     "output_type": "stream",
     "text": [
      "test_datasets  ['./notMNIST_small\\\\A.pickle', './notMNIST_small\\\\B.pickle', './notMNIST_small\\\\C.pickle', './notMNIST_small\\\\D.pickle', './notMNIST_small\\\\E.pickle', './notMNIST_small\\\\F.pickle', './notMNIST_small\\\\G.pickle', './notMNIST_small\\\\H.pickle', './notMNIST_small\\\\I.pickle', './notMNIST_small\\\\J.pickle']\n",
      "dataset_name  ./notMNIST_small\\A.pickle dataset.shape[0]  1872 indices  [1720 1692   47 1760  360]\n"
     ]
    },
    {
     "data": {
      "image/png": "[encoded data removed]",
      "text/plain": [
       "<matplotlib.figure.Figure at 0xb805e48>"
      ]
     },
     "metadata": {},
     "output_type": "display_data"
    },
    {
     "name": "stdout",
     "output_type": "stream",
     "text": [
      "dataset_name  ./notMNIST_small\\B.pickle dataset.shape[0]  1873 indices  [ 945 1225  598 1557  698]\n"
     ]
    },
    {
     "data": {
      "image/png": "[encoded data removed]",
      "text/plain": [
       "<matplotlib.figure.Figure at 0xba102b0>"
      ]
     },
     "metadata": {},
     "output_type": "display_data"
    },
    {
     "name": "stdout",
     "output_type": "stream",
     "text": [
      "dataset_name  ./notMNIST_small\\C.pickle dataset.shape[0]  1873 indices  [1442 1447  251 1346  533]\n"
     ]
    },
    {
     "data": {
      "image/png": "[encoded data removed]",
      "text/plain": [
       "<matplotlib.figure.Figure at 0xc44a9e8>"
      ]
     },
     "metadata": {},
     "output_type": "display_data"
    },
    {
     "name": "stdout",
     "output_type": "stream",
     "text": [
      "dataset_name  ./notMNIST_small\\D.pickle dataset.shape[0]  1873 indices  [1494 1382 1233  287  964]\n"
     ]
    },
    {
     "data": {
      "image/png": "[encoded data removed]",
      "text/plain": [
       "<matplotlib.figure.Figure at 0xa5ca208>"
      ]
     },
     "metadata": {},
     "output_type": "display_data"
    },
    {
     "name": "stdout",
     "output_type": "stream",
     "text": [
      "dataset_name  ./notMNIST_small\\E.pickle dataset.shape[0]  1873 indices  [1356 1649 1162  173 1530]\n"
     ]
    },
    {
     "data": {
      "image/png": "[encoded data removed]",
      "text/plain": [
       "<matplotlib.figure.Figure at 0xb839588>"
      ]
     },
     "metadata": {},
     "output_type": "display_data"
    },
    {
     "name": "stdout",
     "output_type": "stream",
     "text": [
      "dataset_name  ./notMNIST_small\\F.pickle dataset.shape[0]  1872 indices  [  80 1304 1059 1109 1576]\n"
     ]
    },
    {
     "data": {
      "image/png": "[encoded data removed]",
      "text/plain": [
       "<matplotlib.figure.Figure at 0xa0fdfd0>"
      ]
     },
     "metadata": {},
     "output_type": "display_data"
    },
    {
     "name": "stdout",
     "output_type": "stream",
     "text": [
      "dataset_name  ./notMNIST_small\\G.pickle dataset.shape[0]  1872 indices  [1124  414 1794  898  180]\n"
     ]
    },
    {
     "data": {
      "image/png": "[encoded data removed]",
      "text/plain": [
       "<matplotlib.figure.Figure at 0xb46f390>"
      ]
     },
     "metadata": {},
     "output_type": "display_data"
    },
    {
     "name": "stdout",
     "output_type": "stream",
     "text": [
      "dataset_name  ./notMNIST_small\\H.pickle dataset.shape[0]  1872 indices  [1650  710  184  995  671]\n"
     ]
    },
    {
     "data": {
      "image/png": "[encoded data removed]",
      "text/plain": [
       "<matplotlib.figure.Figure at 0xb9a5198>"
      ]
     },
     "metadata": {},
     "output_type": "display_data"
    },
    {
     "name": "stdout",
     "output_type": "stream",
     "text": [
      "dataset_name  ./notMNIST_small\\I.pickle dataset.shape[0]  1872 indices  [ 262 1198  937  574 1846]\n"
     ]
    },
    {
     "data": {
      "image/png": "[encoded data removed]",
      "text/plain": [
       "<matplotlib.figure.Figure at 0xb170898>"
      ]
     },
     "metadata": {},
     "output_type": "display_data"
    },
    {
     "name": "stdout",
     "output_type": "stream",
     "text": [
      "dataset_name  ./notMNIST_small\\J.pickle dataset.shape[0]  1872 indices  [1616 1174  846 1384 1818]\n"
     ]
    },
    {
     "data": {
      "image/png": "[encoded data removed]",
      "text/plain": [
       "<matplotlib.figure.Figure at 0xb3552e8>"
      ]
     },
     "metadata": {},
     "output_type": "display_data"
    }
   ],
   "source": [
    "#Problem 2 : Let's verify that the data still looks good. \n",
    "#Displaying a sample of the labels and images from the ndarray. \n",
    "#Hint: you can use matplotlib.pyplot.\n",
    "\n",
    "%matplotlib inline\n",
    "def showProcessedRandom(dataset_name,n): # shows size of the sample\n",
    "    with open(dataset_name, 'rb') as f:\n",
    "        dataset = pickle.load(f)\n",
    "        indices=np.random.choice(dataset.shape[0], n)\n",
    "        print ('dataset_name ', dataset_name, 'dataset.shape[0] ',dataset.shape[0], 'indices ', indices)\n",
    "        fig=plt.figure()\n",
    "        for i in range(n):\n",
    "            a=fig.add_subplot(1,n,i+1)\n",
    "            plt.imshow(dataset[indices[i],:,:])\n",
    "            # a.set_title(chr(labels[indices[i]]+ord('A')))\n",
    "            a.axes.get_xaxis().set_visible(False)\n",
    "            a.axes.get_yaxis().set_visible(False)\n",
    "        plt.show()\n",
    "    f.close()\n",
    "\n",
    "print ('train_datasets ',train_datasets)\n",
    "for name in train_datasets:\n",
    "    showProcessedRandom(name,5) \n",
    "\n",
    "print ('test_datasets ',test_datasets)\n",
    "for name in test_datasets:\n",
    "    showProcessedRandom(name,5)"
   ]
  },
  {
   "cell_type": "code",
   "execution_count": 24,
   "metadata": {
    "collapsed": false,
    "scrolled": false
   },
   "outputs": [
    {
     "name": "stdout",
     "output_type": "stream",
     "text": [
      "Number of images in  ./notMNIST_large\\A.pickle  :  52909\n"
     ]
    },
    {
     "data": {
      "image/png": "[encoded data removed]",
      "text/plain": [
       "<matplotlib.figure.Figure at 0xa7cd278>"
      ]
     },
     "metadata": {},
     "output_type": "display_data"
    },
    {
     "name": "stdout",
     "output_type": "stream",
     "text": [
      "Number of images in  ./notMNIST_large\\B.pickle  :  52911\n"
     ]
    },
    {
     "data": {
      "image/png": "[encoded data removed]",
      "text/plain": [
       "<matplotlib.figure.Figure at 0xa719898>"
      ]
     },
     "metadata": {},
     "output_type": "display_data"
    },
    {
     "name": "stdout",
     "output_type": "stream",
     "text": [
      "Number of images in  ./notMNIST_large\\C.pickle  :  52881\n"
     ]
    },
    {
     "data": {
      "image/png": "[encoded data removed]",
      "text/plain": [
       "<matplotlib.figure.Figure at 0xb669780>"
      ]
     },
     "metadata": {},
     "output_type": "display_data"
    },
    {
     "name": "stdout",
     "output_type": "stream",
     "text": [
      "Number of images in  ./notMNIST_large\\D.pickle  :  52911\n"
     ]
    },
    {
     "data": {
      "image/png": "[encoded data removed]",
      "text/plain": [
       "<matplotlib.figure.Figure at 0xc4f8978>"
      ]
     },
     "metadata": {},
     "output_type": "display_data"
    },
    {
     "name": "stdout",
     "output_type": "stream",
     "text": [
      "Number of images in  ./notMNIST_large\\E.pickle  :  52912\n"
     ]
    },
    {
     "data": {
      "image/png": "[encoded data removed]",
      "text/plain": [
       "<matplotlib.figure.Figure at 0xa4ac2e8>"
      ]
     },
     "metadata": {},
     "output_type": "display_data"
    },
    {
     "name": "stdout",
     "output_type": "stream",
     "text": [
      "Number of images in  ./notMNIST_large\\F.pickle  :  52912\n"
     ]
    },
    {
     "data": {
      "image/png": "[encoded data removed]",
      "text/plain": [
       "<matplotlib.figure.Figure at 0xa841be0>"
      ]
     },
     "metadata": {},
     "output_type": "display_data"
    },
    {
     "name": "stdout",
     "output_type": "stream",
     "text": [
      "Number of images in  ./notMNIST_large\\G.pickle  :  52912\n"
     ]
    },
    {
     "data": {
      "image/png": "[encoded data removed]",
      "text/plain": [
       "<matplotlib.figure.Figure at 0xb6b4c18>"
      ]
     },
     "metadata": {},
     "output_type": "display_data"
    },
    {
     "name": "stdout",
     "output_type": "stream",
     "text": [
      "Number of images in  ./notMNIST_large\\H.pickle  :  52912\n"
     ]
    },
    {
     "data": {
      "image/png": "[encoded data removed]",
      "text/plain": [
       "<matplotlib.figure.Figure at 0xc4c3390>"
      ]
     },
     "metadata": {},
     "output_type": "display_data"
    },
    {
     "name": "stdout",
     "output_type": "stream",
     "text": [
      "Number of images in  ./notMNIST_large\\I.pickle  :  52912\n"
     ]
    },
    {
     "data": {
      "image/png": "[encoded data removed]",
      "text/plain": [
       "<matplotlib.figure.Figure at 0xc611518>"
      ]
     },
     "metadata": {},
     "output_type": "display_data"
    },
    {
     "name": "stdout",
     "output_type": "stream",
     "text": [
      "Number of images in  ./notMNIST_large\\J.pickle  :  52911\n"
     ]
    },
    {
     "data": {
      "image/png": "[encoded data removed]",
      "text/plain": [
       "<matplotlib.figure.Figure at 0xb8444a8>"
      ]
     },
     "metadata": {},
     "output_type": "display_data"
    },
    {
     "name": "stdout",
     "output_type": "stream",
     "text": [
      "Number of images in  ./notMNIST_small\\A.pickle  :  1872\n"
     ]
    },
    {
     "data": {
      "image/png": "[encoded data removed]",
      "text/plain": [
       "<matplotlib.figure.Figure at 0xa1afa58>"
      ]
     },
     "metadata": {},
     "output_type": "display_data"
    },
    {
     "name": "stdout",
     "output_type": "stream",
     "text": [
      "Number of images in  ./notMNIST_small\\B.pickle  :  1873\n"
     ]
    },
    {
     "data": {
      "image/png": "[encoded data removed]",
      "text/plain": [
       "<matplotlib.figure.Figure at 0xb629be0>"
      ]
     },
     "metadata": {},
     "output_type": "display_data"
    },
    {
     "name": "stdout",
     "output_type": "stream",
     "text": [
      "Number of images in  ./notMNIST_small\\C.pickle  :  1873\n"
     ]
    },
    {
     "data": {
      "image/png": "[encoded data removed]",
      "text/plain": [
       "<matplotlib.figure.Figure at 0xa259d68>"
      ]
     },
     "metadata": {},
     "output_type": "display_data"
    },
    {
     "name": "stdout",
     "output_type": "stream",
     "text": [
      "Number of images in  ./notMNIST_small\\D.pickle  :  1873\n"
     ]
    },
    {
     "data": {
      "image/png": "[encoded data removed]",
      "text/plain": [
       "<matplotlib.figure.Figure at 0xb521fd0>"
      ]
     },
     "metadata": {},
     "output_type": "display_data"
    },
    {
     "name": "stdout",
     "output_type": "stream",
     "text": [
      "Number of images in  ./notMNIST_small\\E.pickle  :  1873\n"
     ]
    },
    {
     "data": {
      "image/png": "[encoded data removed]",
      "text/plain": [
       "<matplotlib.figure.Figure at 0xa66ff98>"
      ]
     },
     "metadata": {},
     "output_type": "display_data"
    },
    {
     "name": "stdout",
     "output_type": "stream",
     "text": [
      "Number of images in  ./notMNIST_small\\F.pickle  :  1872\n"
     ]
    },
    {
     "data": {
      "image/png": "[encoded data removed]",
      "text/plain": [
       "<matplotlib.figure.Figure at 0xb65fc88>"
      ]
     },
     "metadata": {},
     "output_type": "display_data"
    },
    {
     "name": "stdout",
     "output_type": "stream",
     "text": [
      "Number of images in  ./notMNIST_small\\G.pickle  :  1872\n"
     ]
    },
    {
     "data": {
      "image/png": "[encoded data removed]",
      "text/plain": [
       "<matplotlib.figure.Figure at 0xbada2e8>"
      ]
     },
     "metadata": {},
     "output_type": "display_data"
    },
    {
     "name": "stdout",
     "output_type": "stream",
     "text": [
      "Number of images in  ./notMNIST_small\\H.pickle  :  1872\n"
     ]
    },
    {
     "data": {
      "image/png": "[encoded data removed]",
      "text/plain": [
       "<matplotlib.figure.Figure at 0xc8f4080>"
      ]
     },
     "metadata": {},
     "output_type": "display_data"
    },
    {
     "name": "stdout",
     "output_type": "stream",
     "text": [
      "Number of images in  ./notMNIST_small\\I.pickle  :  1872\n"
     ]
    },
    {
     "data": {
      "image/png": "[encoded data removed]",
      "text/plain": [
       "<matplotlib.figure.Figure at 0xb7e3908>"
      ]
     },
     "metadata": {},
     "output_type": "display_data"
    },
    {
     "name": "stdout",
     "output_type": "stream",
     "text": [
      "Number of images in  ./notMNIST_small\\J.pickle  :  1872\n"
     ]
    },
    {
     "data": {
      "image/png": "[encoded data removed]",
      "text/plain": [
       "<matplotlib.figure.Figure at 0xa3a8e48>"
      ]
     },
     "metadata": {},
     "output_type": "display_data"
    }
   ],
   "source": [
    "#Problem 3\n",
    "#Another check: we expect the data to be balanced across classes. Verify that.\n",
    "\n",
    "def showDistribution(dataset_name):\n",
    "    data = []\n",
    "    try:\n",
    "        with open(dataset_name, 'rb') as f:\n",
    "            data = pickle.load(f)\n",
    "    except Exception as e:\n",
    "        print('Unable to load data to', dataset_name, ':', e)\n",
    "    print('Number of images in ', dataset_name, ' : ', len(data))\n",
    "\n",
    "    fig, ax = plt.subplots()\n",
    "    ax.set_title(dataset_name)\n",
    "    ax.hist([np.mean(arr) for arr in data])\n",
    "    plt.show()\n",
    "\n",
    "for name in train_datasets:\n",
    "    showDistribution(name)\n",
    "for name in test_datasets:\n",
    "    showDistribution(name)\n"
   ]
  },
  {
   "cell_type": "code",
   "execution_count": 25,
   "metadata": {
    "collapsed": false
   },
   "outputs": [
    {
     "name": "stdout",
     "output_type": "stream",
     "text": [
      "Training: (200000L, 28L, 28L) (200000L,)\n",
      "Validation: (10000L, 28L, 28L) (10000L,)\n",
      "Testing: (10000L, 28L, 28L) (10000L,)\n"
     ]
    }
   ],
   "source": [
    "def make_arrays(nb_rows, img_size):\n",
    "  if nb_rows:\n",
    "    dataset = np.ndarray((nb_rows, img_size, img_size), dtype=np.float32)\n",
    "    labels = np.ndarray(nb_rows, dtype=np.int32)\n",
    "  else:\n",
    "    dataset, labels = None, None\n",
    "  return dataset, labels\n",
    "\n",
    "def merge_datasets(pickle_files, train_size, valid_size=0):\n",
    "  num_classes = len(pickle_files)\n",
    "  valid_dataset, valid_labels = make_arrays(valid_size, image_size)\n",
    "  train_dataset, train_labels = make_arrays(train_size, image_size)\n",
    "  vsize_per_class = valid_size // num_classes\n",
    "  tsize_per_class = train_size // num_classes\n",
    "    \n",
    "  start_v, start_t = 0, 0\n",
    "  end_v, end_t = vsize_per_class, tsize_per_class\n",
    "  end_l = vsize_per_class+tsize_per_class\n",
    "  for label, pickle_file in enumerate(pickle_files):       \n",
    "    try:\n",
    "      with open(pickle_file, 'rb') as f:\n",
    "        letter_set = pickle.load(f)\n",
    "        # let's shuffle the letters to have random validation and training set\n",
    "        np.random.shuffle(letter_set)\n",
    "        if valid_dataset is not None:\n",
    "          valid_letter = letter_set[:vsize_per_class, :, :]\n",
    "          valid_dataset[start_v:end_v, :, :] = valid_letter\n",
    "          valid_labels[start_v:end_v] = label\n",
    "          start_v += vsize_per_class\n",
    "          end_v += vsize_per_class\n",
    "                    \n",
    "        train_letter = letter_set[vsize_per_class:end_l, :, :]\n",
    "        train_dataset[start_t:end_t, :, :] = train_letter\n",
    "        train_labels[start_t:end_t] = label\n",
    "        start_t += tsize_per_class\n",
    "        end_t += tsize_per_class\n",
    "    except Exception as e:\n",
    "      print('Unable to process data from', pickle_file, ':', e)\n",
    "      raise\n",
    "    \n",
    "  return valid_dataset, valid_labels, train_dataset, train_labels\n",
    "            \n",
    "            \n",
    "train_size = 200000\n",
    "valid_size = 10000\n",
    "test_size = 10000\n",
    "\n",
    "valid_dataset, valid_labels, train_dataset, train_labels = merge_datasets(\n",
    "  train_datasets, train_size, valid_size)\n",
    "_, _, test_dataset, test_labels = merge_datasets(test_datasets, test_size)\n",
    "\n",
    "print('Training:', train_dataset.shape, train_labels.shape)\n",
    "print('Validation:', valid_dataset.shape, valid_labels.shape)\n",
    "print('Testing:', test_dataset.shape, test_labels.shape)"
   ]
  },
  {
   "cell_type": "code",
   "execution_count": 38,
   "metadata": {
    "collapsed": true
   },
   "outputs": [],
   "source": [
    "#numpy.random.choice(a, size=None, replace=True, p=None) : Generates a random sample from a given 1-D array\n",
    "\n",
    "#numpy.random.shuffle(x) : Modify a sequence in-place by shuffling its contents. => modify object itself\n",
    "#This function only shuffles the array along the first axis of a multi-dimensional array. \n",
    "#The order of sub-arrays is changed but their contents remains the same.\n",
    "\n",
    "#numpy.random.permutation(x) : Randomly permute a sequence, or return a permuted range => return a copy\n",
    "#If x is a multi-dimensional array, it is only shuffled along its first index.\n",
    "\n",
    "#np.random.randint(a, b)\n",
    "#Return a random integer N such that a <= N <= b. Alias for randrange(a, b+1).\n"
   ]
  },
  {
   "cell_type": "code",
   "execution_count": 26,
   "metadata": {
    "collapsed": true
   },
   "outputs": [],
   "source": [
    "def randomize(dataset, labels):\n",
    "  permutation = np.random.permutation(labels.shape[0])\n",
    "  shuffled_dataset = dataset[permutation,:,:]\n",
    "  shuffled_labels = labels[permutation]\n",
    "  return shuffled_dataset, shuffled_labels\n",
    "train_dataset, train_labels = randomize(train_dataset, train_labels)\n",
    "test_dataset, test_labels = randomize(test_dataset, test_labels)\n",
    "valid_dataset, valid_labels = randomize(valid_dataset, valid_labels)"
   ]
  },
  {
   "cell_type": "code",
   "execution_count": 27,
   "metadata": {
    "collapsed": false
   },
   "outputs": [
    {
     "name": "stdout",
     "output_type": "stream",
     "text": [
      "train set dataset.shape[0]  200000 indices  [187606  24311  66883  57708 175400  83314]\n"
     ]
    },
    {
     "data": {
      "image/png": "[encoded data removed]",
      "text/plain": [
       "<matplotlib.figure.Figure at 0xb4d42b0>"
      ]
     },
     "metadata": {},
     "output_type": "display_data"
    },
    {
     "name": "stdout",
     "output_type": "stream",
     "text": [
      "test set dataset.shape[0]  10000 indices  [6686 1190 6806 1282 1802  404]\n"
     ]
    },
    {
     "data": {
      "image/png": "[encoded data removed]",
      "text/plain": [
       "<matplotlib.figure.Figure at 0xb4d42e8>"
      ]
     },
     "metadata": {},
     "output_type": "display_data"
    },
    {
     "name": "stdout",
     "output_type": "stream",
     "text": [
      "validation set dataset.shape[0]  10000 indices  [ 744 9588 6618 9069 1738 7995]\n"
     ]
    },
    {
     "data": {
      "image/png": "[encoded data removed]",
      "text/plain": [
       "<matplotlib.figure.Figure at 0xa69da20>"
      ]
     },
     "metadata": {},
     "output_type": "display_data"
    }
   ],
   "source": [
    "#Problem 4 : Convince yourself that the data is still good after shuffling!\n",
    "\n",
    "fLabels = {0 : 'A', 1 : 'B', 2 : 'C', 3 : 'D', 4 : 'E', 5 : 'F', 6 : 'G', 7 : 'H', 8 : 'I', 9 : 'J'}\n",
    "\n",
    "def showProcessedShuffled(name,dataset,label,n): # shows size of the sample\n",
    "    fig = plt.figure()\n",
    "    indices=np.random.choice(dataset.shape[0], n)\n",
    "    print (name, 'dataset.shape[0] ',dataset.shape[0], 'indices ', indices)\n",
    "    for i in range(n):\n",
    "            a=fig.add_subplot(1,n,i+1)\n",
    "            plt.imshow(dataset[indices[i],:,:])\n",
    "            tlabel = fLabels[label[indices[i]]]\n",
    "            plt.title(tlabel)\n",
    "            #a.set_title(chr(labels[indices[i]]+ord('A')))\n",
    "            a.axes.get_xaxis().set_visible(False)\n",
    "            a.axes.get_yaxis().set_visible(False)\n",
    "    plt.show()\n",
    "\n",
    "showProcessedShuffled('train set', train_dataset,train_labels,6)\n",
    "showProcessedShuffled('test set', test_dataset,test_labels,6)\n",
    "showProcessedShuffled('validation set', valid_dataset,valid_labels,6) \n"
   ]
  },
  {
   "cell_type": "code",
   "execution_count": 28,
   "metadata": {
    "collapsed": false
   },
   "outputs": [],
   "source": [
    "#Finally, let's save the data for later reuse:\n",
    "\n",
    "data_root = '.' \n",
    "pickle_file = os.path.join(data_root, 'notMNIST.pickle')\n",
    "\n",
    "try:\n",
    "  f = open(pickle_file, 'wb')\n",
    "  save = {\n",
    "    'train_dataset': train_dataset,\n",
    "    'train_labels': train_labels,\n",
    "    'valid_dataset': valid_dataset,\n",
    "    'valid_labels': valid_labels,\n",
    "    'test_dataset': test_dataset,\n",
    "    'test_labels': test_labels,\n",
    "    }\n",
    "  pickle.dump(save, f, pickle.HIGHEST_PROTOCOL)\n",
    "  f.close()\n",
    "except Exception as e:\n",
    "  print('Unable to save data to', pickle_file, ':', e)\n",
    "  raise"
   ]
  },
  {
   "cell_type": "code",
   "execution_count": 29,
   "metadata": {
    "collapsed": false
   },
   "outputs": [
    {
     "name": "stdout",
     "output_type": "stream",
     "text": [
      "Compressed pickle size: 690800451\n"
     ]
    }
   ],
   "source": [
    "statinfo = os.stat(pickle_file)\n",
    "print('Compressed pickle size:', statinfo.st_size)"
   ]
  },
  {
   "cell_type": "code",
   "execution_count": 30,
   "metadata": {
    "collapsed": false
   },
   "outputs": [
    {
     "name": "stdout",
     "output_type": "stream",
     "text": [
      "Time: 1.86s\n",
      "valid -> train overlap: 1049 samples\n",
      "test  -> train overlap: 1316 samples\n",
      "test  -> valid overlap: 200 samples\n"
     ]
    }
   ],
   "source": [
    "#Problem 5\n",
    "\"\"\"By construction, this dataset might contain a lot of overlapping samples, including training data \n",
    "that's also contained in the validation and test set! Overlap between training and test can skew the results \n",
    "if you expect to use your model in an environment where there is never an overlap, but are actually ok if you expect \n",
    "to see training samples recur when you use it. Measure how much overlap there is between training, validation and test samples.\n",
    "Optional questions:\n",
    "What about near duplicates between datasets? (images that are almost identical)\n",
    "Create a sanitized validation and test set, and compare your accuracy on those in subsequent assignments.\n",
    "\"\"\"\n",
    "import time\n",
    "import hashlib\n",
    "\n",
    "t1 = time.time()\n",
    "\n",
    "train_hashes = [hashlib.sha1(x).digest() for x in train_dataset]\n",
    "valid_hashes = [hashlib.sha1(x).digest() for x in valid_dataset]\n",
    "test_hashes  = [hashlib.sha1(x).digest() for x in test_dataset]\n",
    "\n",
    "#np.in1d : Test whether each element of a 1-D array is also present in a second array.\n",
    "#Returns a boolean array the same length as ar1 that is True where an element of ar1 is in ar2 and False otherwise.\n",
    "valid_in_train = np.in1d(valid_hashes, train_hashes)\n",
    "test_in_train  = np.in1d(test_hashes,  train_hashes)\n",
    "test_in_valid  = np.in1d(test_hashes,  valid_hashes)\n",
    "\n",
    "#magic boolean operations\n",
    "#a = np.array([True, True, False, False])\n",
    "#b = np.array([True, False, True, False])\n",
    "#c = (a | b) :[ True  True  True False]\n",
    "# ~c :        [False False False  True]\n",
    "valid_keep = ~valid_in_train\n",
    "test_keep  = ~(test_in_train | test_in_valid)\n",
    "\n",
    "valid_dataset_clean = valid_dataset[valid_keep]\n",
    "valid_labels_clean  = valid_labels [valid_keep]\n",
    "\n",
    "test_dataset_clean = test_dataset[test_keep]\n",
    "test_labels_clean  = test_labels [test_keep]\n",
    "\n",
    "t2 = time.time()\n",
    "print(\"Time: %0.2fs\" % (t2 - t1))\n",
    "print(\"valid -> train overlap: %d samples\" % valid_in_train.sum())\n",
    "print(\"test  -> train overlap: %d samples\" % test_in_train.sum())\n",
    "print(\"test  -> valid overlap: %d samples\" % test_in_valid.sum())\n",
    "\n"
   ]
  },
  {
   "cell_type": "code",
   "execution_count": 37,
   "metadata": {
    "collapsed": false,
    "scrolled": false
   },
   "outputs": [
    {
     "name": "stdout",
     "output_type": "stream",
     "text": [
      "prediction test 50 samples, score 0.6035 dataset.shape[0]  8638 indices  [6243 6231 7555 7957 4608  116]\n"
     ]
    },
    {
     "data": {
      "image/png": "[encoded data removed]",
      "text/plain": [
       "<matplotlib.figure.Figure at 0xbabe940>"
      ]
     },
     "metadata": {},
     "output_type": "display_data"
    },
    {
     "name": "stdout",
     "output_type": "stream",
     "text": [
      "prediction test 100 samples, score 0.7560 dataset.shape[0]  8638 indices  [5834 4305 4139 3228 6573 4121]\n"
     ]
    },
    {
     "data": {
      "image/png": "[encoded data removed]",
      "text/plain": [
       "<matplotlib.figure.Figure at 0xcfde978>"
      ]
     },
     "metadata": {},
     "output_type": "display_data"
    },
    {
     "name": "stdout",
     "output_type": "stream",
     "text": [
      "prediction test 1000 samples, score 0.8357 dataset.shape[0]  8638 indices  [8345 6351 2834 2453 6221 5141]\n"
     ]
    },
    {
     "data": {
      "image/png": "[encoded data removed]",
      "text/plain": [
       "<matplotlib.figure.Figure at 0x15b46ac8>"
      ]
     },
     "metadata": {},
     "output_type": "display_data"
    },
    {
     "name": "stdout",
     "output_type": "stream",
     "text": [
      "prediction test 5000 samples, score 0.8402 dataset.shape[0]  8638 indices  [7958   27 7307 6000 5680 5773]\n"
     ]
    },
    {
     "data": {
      "image/png": "[encoded data removed]",
      "text/plain": [
       "<matplotlib.figure.Figure at 0x15b41400>"
      ]
     },
     "metadata": {},
     "output_type": "display_data"
    },
    {
     "name": "stdout",
     "output_type": "stream",
     "text": [
      "prediction test 10000 samples, score 0.8517 dataset.shape[0]  8638 indices  [6229  567 6736 7254 6592 1305]\n"
     ]
    },
    {
     "data": {
      "image/png": "[encoded data removed]",
      "text/plain": [
       "<matplotlib.figure.Figure at 0x41d82a58>"
      ]
     },
     "metadata": {},
     "output_type": "display_data"
    },
    {
     "name": "stdout",
     "output_type": "stream",
     "text": [
      "prediction test 50000 samples, score 0.8782 dataset.shape[0]  8638 indices  [ 401 8610 6787 4569 6501 7464]\n"
     ]
    },
    {
     "data": {
      "image/png": "[encoded data removed]",
      "text/plain": [
       "<matplotlib.figure.Figure at 0xcf27208>"
      ]
     },
     "metadata": {},
     "output_type": "display_data"
    },
    {
     "name": "stdout",
     "output_type": "stream",
     "text": [
      "prediction validation set, score 0.8782 dataset.shape[0]  8951 indices  [5370 8011 2909 1893 8931 2041]\n"
     ]
    },
    {
     "data": {
      "image/png": "[encoded data removed]",
      "text/plain": [
       "<matplotlib.figure.Figure at 0x50bd16a0>"
      ]
     },
     "metadata": {},
     "output_type": "display_data"
    },
    {
     "data": {
      "image/png": "[encoded data removed]",
      "text/plain": [
       "<matplotlib.figure.Figure at 0xcdc1e10>"
      ]
     },
     "metadata": {},
     "output_type": "display_data"
    },
    {
     "name": "stdout",
     "output_type": "stream",
     "text": [
      "prediction test all data set, score 0.8782 dataset.shape[0]  8638 indices  [6248 7231 8545 7889 1680 8215]\n"
     ]
    },
    {
     "data": {
      "image/png": "[encoded data removed]",
      "text/plain": [
       "<matplotlib.figure.Figure at 0x15b21898>"
      ]
     },
     "metadata": {},
     "output_type": "display_data"
    },
    {
     "name": "stdout",
     "output_type": "stream",
     "text": [
      "prediction validation all data set, score 0.8782 dataset.shape[0]  8951 indices  [5676 6223 6919 2094 6527 4794]\n"
     ]
    },
    {
     "data": {
      "image/png": "[encoded data removed]",
      "text/plain": [
       "<matplotlib.figure.Figure at 0xd229780>"
      ]
     },
     "metadata": {},
     "output_type": "display_data"
    }
   ],
   "source": [
    "#Problem 6\n",
    "\"\"\"Let's get an idea of what an off-the-shelf classifier can give you on this data. \n",
    "It's always good to check that there is something to learn, and that it's a problem that is not so trivial \n",
    "that a canned solution solves it.\n",
    "Train a simple model on this data using 50, 100, 1000 and 5000 training samples. \n",
    "Hint: you can use the LogisticRegression model from sklearn.linear_model.\n",
    "Optional question: train an off-the-shelf model on all the data!\n",
    "\"\"\"\n",
    "\n",
    "logReg = LogisticRegression()\n",
    "res = {}\n",
    "X_test = test_dataset_clean.reshape(len(test_dataset_clean), 28 * 28)\n",
    "X_valid = valid_dataset_clean.reshape(len(valid_dataset_clean), 28 * 28)\n",
    "\n",
    "for size in [50, 100, 1000, 5000, 10000, 50000]:\n",
    "    logReg.fit(train_dataset[:size].reshape(size, 28 * 28), train_labels[:size])\n",
    "    score = logReg.score(X_test, test_labels_clean)\n",
    "    pred_test = logReg.predict(X_test)\n",
    "    showProcessedShuffled('prediction test %d samples, score %0.4f' % (size,score), test_dataset_clean, pred_test, 6)\n",
    "    res[size] = {'logReg': logReg, 'score': score}\n",
    "\n",
    "keys = res.keys()\n",
    "keys.sort()\n",
    "plt.xscale('log')\n",
    "plt.plot(keys, [res[k]['score'] for k in keys])\n",
    "\n",
    "validationScore = logReg.score(X_valid, valid_labels_clean)\n",
    "pred_valid = logReg.predict(X_valid)\n",
    "showProcessedShuffled('prediction validation set, score %0.4f' % score, valid_dataset_clean, pred_valid, 6)\n",
    "\n",
    "#training on all the dataset\n",
    "logReg2 = LogisticRegression(solver='sag')\n",
    "sample_size = len(train_dataset)\n",
    "logReg2.fit(train_dataset[:sample_size].reshape(sample_size, 28 * 28), train_labels[:sample_size])\n",
    "logReg2.score(X_test, test_labels_clean)\n",
    "pred_test2 = logReg2.predict(X_test)\n",
    "showProcessedShuffled('prediction test all data set, score %0.4f' % score, test_dataset_clean, pred_test, 6)\n",
    "\n",
    "validationScore = logReg2.score(X_valid, valid_labels_clean)\n",
    "pred_valid = logReg2.predict(X_valid)\n",
    "showProcessedShuffled('prediction validation all data set, score %0.4f' % score, valid_dataset_clean, pred_valid, 6)\n",
    "\n"
   ]
  },
  {
   "cell_type": "code",
   "execution_count": null,
   "metadata": {
    "collapsed": true
   },
   "outputs": [],
   "source": []
  }
 ],
 "metadata": {
  "kernelspec": {
   "display_name": "Python 2",
   "language": "python",
   "name": "python2"
  },
  "language_info": {
   "codemirror_mode": {
    "name": "ipython",
    "version": 2
   },
   "file_extension": ".py",
   "mimetype": "text/x-python",
   "name": "python",
   "nbconvert_exporter": "python",
   "pygments_lexer": "ipython2",
   "version": "2.7.13"
  }
 },
 "nbformat": 4,
 "nbformat_minor": 2
}
